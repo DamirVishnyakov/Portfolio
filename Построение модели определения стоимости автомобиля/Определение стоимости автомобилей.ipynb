{
 "cells": [
  {
   "cell_type": "markdown",
   "metadata": {},
   "source": [
    "# Построение модели определения стоимости автомобиля"
   ]
  },
  {
   "cell_type": "markdown",
   "metadata": {},
   "source": [
    "**Данные:** технические характеристики, комплектации и цены автомобилей. \n",
    "\n",
    "**Задача:** нужно построить модель для определения стоимости. \n",
    "\n",
    "Заказчику важны:\n",
    "\n",
    "- качество предсказания;\n",
    "- скорость предсказания;\n",
    "- время обучения."
   ]
  },
  {
   "cell_type": "markdown",
   "metadata": {},
   "source": [
    "## Подготовка данных"
   ]
  },
  {
   "cell_type": "code",
   "execution_count": 1,
   "metadata": {},
   "outputs": [],
   "source": [
    "#импорт библиотек\n",
    "import warnings\n",
    "warnings.filterwarnings('ignore')\n",
    "\n",
    "import pandas as pd\n",
    "import numpy as np\n",
    "\n",
    "import matplotlib.pyplot as plt\n",
    "\n",
    "from sklearn.model_selection import train_test_split\n",
    "\n",
    "from sklearn.preprocessing import OneHotEncoder\n",
    "from sklearn.preprocessing import StandardScaler\n",
    "\n",
    "from sklearn.model_selection import cross_val_score\n",
    "from sklearn.model_selection import cross_validate\n",
    "\n",
    "from sklearn.metrics import mean_squared_error\n",
    "\n",
    "from sklearn.linear_model import LinearRegression\n",
    "from sklearn.tree import DecisionTreeRegressor\n",
    "from lightgbm import LGBMRegressor \n",
    "\n",
    "from sklearn.model_selection import RandomizedSearchCV\n",
    "from sklearn.model_selection import GridSearchCV"
   ]
  },
  {
   "cell_type": "code",
   "execution_count": 2,
   "metadata": {
    "scrolled": false
   },
   "outputs": [
    {
     "data": {
      "text/html": [
       "<div>\n",
       "<style scoped>\n",
       "    .dataframe tbody tr th:only-of-type {\n",
       "        vertical-align: middle;\n",
       "    }\n",
       "\n",
       "    .dataframe tbody tr th {\n",
       "        vertical-align: top;\n",
       "    }\n",
       "\n",
       "    .dataframe thead th {\n",
       "        text-align: right;\n",
       "    }\n",
       "</style>\n",
       "<table border=\"1\" class=\"dataframe\">\n",
       "  <thead>\n",
       "    <tr style=\"text-align: right;\">\n",
       "      <th></th>\n",
       "      <th>DateCrawled</th>\n",
       "      <th>Price</th>\n",
       "      <th>VehicleType</th>\n",
       "      <th>RegistrationYear</th>\n",
       "      <th>Gearbox</th>\n",
       "      <th>Power</th>\n",
       "      <th>Model</th>\n",
       "      <th>Kilometer</th>\n",
       "      <th>RegistrationMonth</th>\n",
       "      <th>FuelType</th>\n",
       "      <th>Brand</th>\n",
       "      <th>Repaired</th>\n",
       "      <th>DateCreated</th>\n",
       "      <th>NumberOfPictures</th>\n",
       "      <th>PostalCode</th>\n",
       "      <th>LastSeen</th>\n",
       "    </tr>\n",
       "  </thead>\n",
       "  <tbody>\n",
       "    <tr>\n",
       "      <th>0</th>\n",
       "      <td>2016-03-24 11:52:17</td>\n",
       "      <td>480</td>\n",
       "      <td>NaN</td>\n",
       "      <td>1993</td>\n",
       "      <td>manual</td>\n",
       "      <td>0</td>\n",
       "      <td>golf</td>\n",
       "      <td>150000</td>\n",
       "      <td>0</td>\n",
       "      <td>petrol</td>\n",
       "      <td>volkswagen</td>\n",
       "      <td>NaN</td>\n",
       "      <td>2016-03-24 00:00:00</td>\n",
       "      <td>0</td>\n",
       "      <td>70435</td>\n",
       "      <td>2016-04-07 03:16:57</td>\n",
       "    </tr>\n",
       "    <tr>\n",
       "      <th>1</th>\n",
       "      <td>2016-03-24 10:58:45</td>\n",
       "      <td>18300</td>\n",
       "      <td>coupe</td>\n",
       "      <td>2011</td>\n",
       "      <td>manual</td>\n",
       "      <td>190</td>\n",
       "      <td>NaN</td>\n",
       "      <td>125000</td>\n",
       "      <td>5</td>\n",
       "      <td>gasoline</td>\n",
       "      <td>audi</td>\n",
       "      <td>yes</td>\n",
       "      <td>2016-03-24 00:00:00</td>\n",
       "      <td>0</td>\n",
       "      <td>66954</td>\n",
       "      <td>2016-04-07 01:46:50</td>\n",
       "    </tr>\n",
       "    <tr>\n",
       "      <th>2</th>\n",
       "      <td>2016-03-14 12:52:21</td>\n",
       "      <td>9800</td>\n",
       "      <td>suv</td>\n",
       "      <td>2004</td>\n",
       "      <td>auto</td>\n",
       "      <td>163</td>\n",
       "      <td>grand</td>\n",
       "      <td>125000</td>\n",
       "      <td>8</td>\n",
       "      <td>gasoline</td>\n",
       "      <td>jeep</td>\n",
       "      <td>NaN</td>\n",
       "      <td>2016-03-14 00:00:00</td>\n",
       "      <td>0</td>\n",
       "      <td>90480</td>\n",
       "      <td>2016-04-05 12:47:46</td>\n",
       "    </tr>\n",
       "    <tr>\n",
       "      <th>3</th>\n",
       "      <td>2016-03-17 16:54:04</td>\n",
       "      <td>1500</td>\n",
       "      <td>small</td>\n",
       "      <td>2001</td>\n",
       "      <td>manual</td>\n",
       "      <td>75</td>\n",
       "      <td>golf</td>\n",
       "      <td>150000</td>\n",
       "      <td>6</td>\n",
       "      <td>petrol</td>\n",
       "      <td>volkswagen</td>\n",
       "      <td>no</td>\n",
       "      <td>2016-03-17 00:00:00</td>\n",
       "      <td>0</td>\n",
       "      <td>91074</td>\n",
       "      <td>2016-03-17 17:40:17</td>\n",
       "    </tr>\n",
       "    <tr>\n",
       "      <th>4</th>\n",
       "      <td>2016-03-31 17:25:20</td>\n",
       "      <td>3600</td>\n",
       "      <td>small</td>\n",
       "      <td>2008</td>\n",
       "      <td>manual</td>\n",
       "      <td>69</td>\n",
       "      <td>fabia</td>\n",
       "      <td>90000</td>\n",
       "      <td>7</td>\n",
       "      <td>gasoline</td>\n",
       "      <td>skoda</td>\n",
       "      <td>no</td>\n",
       "      <td>2016-03-31 00:00:00</td>\n",
       "      <td>0</td>\n",
       "      <td>60437</td>\n",
       "      <td>2016-04-06 10:17:21</td>\n",
       "    </tr>\n",
       "  </tbody>\n",
       "</table>\n",
       "</div>"
      ],
      "text/plain": [
       "           DateCrawled  Price VehicleType  RegistrationYear Gearbox  Power  \\\n",
       "0  2016-03-24 11:52:17    480         NaN              1993  manual      0   \n",
       "1  2016-03-24 10:58:45  18300       coupe              2011  manual    190   \n",
       "2  2016-03-14 12:52:21   9800         suv              2004    auto    163   \n",
       "3  2016-03-17 16:54:04   1500       small              2001  manual     75   \n",
       "4  2016-03-31 17:25:20   3600       small              2008  manual     69   \n",
       "\n",
       "   Model  Kilometer  RegistrationMonth  FuelType       Brand Repaired  \\\n",
       "0   golf     150000                  0    petrol  volkswagen      NaN   \n",
       "1    NaN     125000                  5  gasoline        audi      yes   \n",
       "2  grand     125000                  8  gasoline        jeep      NaN   \n",
       "3   golf     150000                  6    petrol  volkswagen       no   \n",
       "4  fabia      90000                  7  gasoline       skoda       no   \n",
       "\n",
       "           DateCreated  NumberOfPictures  PostalCode             LastSeen  \n",
       "0  2016-03-24 00:00:00                 0       70435  2016-04-07 03:16:57  \n",
       "1  2016-03-24 00:00:00                 0       66954  2016-04-07 01:46:50  \n",
       "2  2016-03-14 00:00:00                 0       90480  2016-04-05 12:47:46  \n",
       "3  2016-03-17 00:00:00                 0       91074  2016-03-17 17:40:17  \n",
       "4  2016-03-31 00:00:00                 0       60437  2016-04-06 10:17:21  "
      ]
     },
     "execution_count": 2,
     "metadata": {},
     "output_type": "execute_result"
    }
   ],
   "source": [
    "df = pd.read_csv('autos.csv')\n",
    "df.head()"
   ]
  },
  {
   "cell_type": "markdown",
   "metadata": {},
   "source": [
    "Взглянем на общую информацию."
   ]
  },
  {
   "cell_type": "code",
   "execution_count": 3,
   "metadata": {},
   "outputs": [
    {
     "name": "stdout",
     "output_type": "stream",
     "text": [
      "<class 'pandas.core.frame.DataFrame'>\n",
      "RangeIndex: 354369 entries, 0 to 354368\n",
      "Data columns (total 16 columns):\n",
      " #   Column             Non-Null Count   Dtype \n",
      "---  ------             --------------   ----- \n",
      " 0   DateCrawled        354369 non-null  object\n",
      " 1   Price              354369 non-null  int64 \n",
      " 2   VehicleType        316879 non-null  object\n",
      " 3   RegistrationYear   354369 non-null  int64 \n",
      " 4   Gearbox            334536 non-null  object\n",
      " 5   Power              354369 non-null  int64 \n",
      " 6   Model              334664 non-null  object\n",
      " 7   Kilometer          354369 non-null  int64 \n",
      " 8   RegistrationMonth  354369 non-null  int64 \n",
      " 9   FuelType           321474 non-null  object\n",
      " 10  Brand              354369 non-null  object\n",
      " 11  Repaired           283215 non-null  object\n",
      " 12  DateCreated        354369 non-null  object\n",
      " 13  NumberOfPictures   354369 non-null  int64 \n",
      " 14  PostalCode         354369 non-null  int64 \n",
      " 15  LastSeen           354369 non-null  object\n",
      "dtypes: int64(7), object(9)\n",
      "memory usage: 43.3+ MB\n"
     ]
    }
   ],
   "source": [
    "df.info()"
   ]
  },
  {
   "cell_type": "code",
   "execution_count": 4,
   "metadata": {
    "scrolled": false
   },
   "outputs": [
    {
     "data": {
      "text/html": [
       "<div>\n",
       "<style scoped>\n",
       "    .dataframe tbody tr th:only-of-type {\n",
       "        vertical-align: middle;\n",
       "    }\n",
       "\n",
       "    .dataframe tbody tr th {\n",
       "        vertical-align: top;\n",
       "    }\n",
       "\n",
       "    .dataframe thead th {\n",
       "        text-align: right;\n",
       "    }\n",
       "</style>\n",
       "<table border=\"1\" class=\"dataframe\">\n",
       "  <thead>\n",
       "    <tr style=\"text-align: right;\">\n",
       "      <th></th>\n",
       "      <th>Price</th>\n",
       "      <th>RegistrationYear</th>\n",
       "      <th>Power</th>\n",
       "      <th>Kilometer</th>\n",
       "      <th>RegistrationMonth</th>\n",
       "      <th>NumberOfPictures</th>\n",
       "      <th>PostalCode</th>\n",
       "    </tr>\n",
       "  </thead>\n",
       "  <tbody>\n",
       "    <tr>\n",
       "      <th>count</th>\n",
       "      <td>354369.000000</td>\n",
       "      <td>354369.000000</td>\n",
       "      <td>354369.000000</td>\n",
       "      <td>354369.000000</td>\n",
       "      <td>354369.000000</td>\n",
       "      <td>354369.0</td>\n",
       "      <td>354369.000000</td>\n",
       "    </tr>\n",
       "    <tr>\n",
       "      <th>mean</th>\n",
       "      <td>4416.656776</td>\n",
       "      <td>2004.234448</td>\n",
       "      <td>110.094337</td>\n",
       "      <td>128211.172535</td>\n",
       "      <td>5.714645</td>\n",
       "      <td>0.0</td>\n",
       "      <td>50508.689087</td>\n",
       "    </tr>\n",
       "    <tr>\n",
       "      <th>std</th>\n",
       "      <td>4514.158514</td>\n",
       "      <td>90.227958</td>\n",
       "      <td>189.850405</td>\n",
       "      <td>37905.341530</td>\n",
       "      <td>3.726421</td>\n",
       "      <td>0.0</td>\n",
       "      <td>25783.096248</td>\n",
       "    </tr>\n",
       "    <tr>\n",
       "      <th>min</th>\n",
       "      <td>0.000000</td>\n",
       "      <td>1000.000000</td>\n",
       "      <td>0.000000</td>\n",
       "      <td>5000.000000</td>\n",
       "      <td>0.000000</td>\n",
       "      <td>0.0</td>\n",
       "      <td>1067.000000</td>\n",
       "    </tr>\n",
       "    <tr>\n",
       "      <th>25%</th>\n",
       "      <td>1050.000000</td>\n",
       "      <td>1999.000000</td>\n",
       "      <td>69.000000</td>\n",
       "      <td>125000.000000</td>\n",
       "      <td>3.000000</td>\n",
       "      <td>0.0</td>\n",
       "      <td>30165.000000</td>\n",
       "    </tr>\n",
       "    <tr>\n",
       "      <th>50%</th>\n",
       "      <td>2700.000000</td>\n",
       "      <td>2003.000000</td>\n",
       "      <td>105.000000</td>\n",
       "      <td>150000.000000</td>\n",
       "      <td>6.000000</td>\n",
       "      <td>0.0</td>\n",
       "      <td>49413.000000</td>\n",
       "    </tr>\n",
       "    <tr>\n",
       "      <th>75%</th>\n",
       "      <td>6400.000000</td>\n",
       "      <td>2008.000000</td>\n",
       "      <td>143.000000</td>\n",
       "      <td>150000.000000</td>\n",
       "      <td>9.000000</td>\n",
       "      <td>0.0</td>\n",
       "      <td>71083.000000</td>\n",
       "    </tr>\n",
       "    <tr>\n",
       "      <th>max</th>\n",
       "      <td>20000.000000</td>\n",
       "      <td>9999.000000</td>\n",
       "      <td>20000.000000</td>\n",
       "      <td>150000.000000</td>\n",
       "      <td>12.000000</td>\n",
       "      <td>0.0</td>\n",
       "      <td>99998.000000</td>\n",
       "    </tr>\n",
       "  </tbody>\n",
       "</table>\n",
       "</div>"
      ],
      "text/plain": [
       "               Price  RegistrationYear          Power      Kilometer  \\\n",
       "count  354369.000000     354369.000000  354369.000000  354369.000000   \n",
       "mean     4416.656776       2004.234448     110.094337  128211.172535   \n",
       "std      4514.158514         90.227958     189.850405   37905.341530   \n",
       "min         0.000000       1000.000000       0.000000    5000.000000   \n",
       "25%      1050.000000       1999.000000      69.000000  125000.000000   \n",
       "50%      2700.000000       2003.000000     105.000000  150000.000000   \n",
       "75%      6400.000000       2008.000000     143.000000  150000.000000   \n",
       "max     20000.000000       9999.000000   20000.000000  150000.000000   \n",
       "\n",
       "       RegistrationMonth  NumberOfPictures     PostalCode  \n",
       "count      354369.000000          354369.0  354369.000000  \n",
       "mean            5.714645               0.0   50508.689087  \n",
       "std             3.726421               0.0   25783.096248  \n",
       "min             0.000000               0.0    1067.000000  \n",
       "25%             3.000000               0.0   30165.000000  \n",
       "50%             6.000000               0.0   49413.000000  \n",
       "75%             9.000000               0.0   71083.000000  \n",
       "max            12.000000               0.0   99998.000000  "
      ]
     },
     "execution_count": 4,
     "metadata": {},
     "output_type": "execute_result"
    }
   ],
   "source": [
    "df.describe()"
   ]
  },
  {
   "cell_type": "markdown",
   "metadata": {},
   "source": [
    "Уже сейчас можно увидеть аномальные значения."
   ]
  },
  {
   "cell_type": "markdown",
   "metadata": {},
   "source": [
    "Удалим признаки, ненужные для обучения модели."
   ]
  },
  {
   "cell_type": "code",
   "execution_count": 5,
   "metadata": {
    "scrolled": true
   },
   "outputs": [
    {
     "data": {
      "text/html": [
       "<div>\n",
       "<style scoped>\n",
       "    .dataframe tbody tr th:only-of-type {\n",
       "        vertical-align: middle;\n",
       "    }\n",
       "\n",
       "    .dataframe tbody tr th {\n",
       "        vertical-align: top;\n",
       "    }\n",
       "\n",
       "    .dataframe thead th {\n",
       "        text-align: right;\n",
       "    }\n",
       "</style>\n",
       "<table border=\"1\" class=\"dataframe\">\n",
       "  <thead>\n",
       "    <tr style=\"text-align: right;\">\n",
       "      <th></th>\n",
       "      <th>Price</th>\n",
       "      <th>VehicleType</th>\n",
       "      <th>RegistrationYear</th>\n",
       "      <th>Gearbox</th>\n",
       "      <th>Power</th>\n",
       "      <th>Model</th>\n",
       "      <th>Kilometer</th>\n",
       "      <th>FuelType</th>\n",
       "      <th>Brand</th>\n",
       "      <th>Repaired</th>\n",
       "      <th>DateCreated</th>\n",
       "    </tr>\n",
       "  </thead>\n",
       "  <tbody>\n",
       "    <tr>\n",
       "      <th>0</th>\n",
       "      <td>480</td>\n",
       "      <td>NaN</td>\n",
       "      <td>1993</td>\n",
       "      <td>manual</td>\n",
       "      <td>0</td>\n",
       "      <td>golf</td>\n",
       "      <td>150000</td>\n",
       "      <td>petrol</td>\n",
       "      <td>volkswagen</td>\n",
       "      <td>NaN</td>\n",
       "      <td>2016-03-24 00:00:00</td>\n",
       "    </tr>\n",
       "    <tr>\n",
       "      <th>1</th>\n",
       "      <td>18300</td>\n",
       "      <td>coupe</td>\n",
       "      <td>2011</td>\n",
       "      <td>manual</td>\n",
       "      <td>190</td>\n",
       "      <td>NaN</td>\n",
       "      <td>125000</td>\n",
       "      <td>gasoline</td>\n",
       "      <td>audi</td>\n",
       "      <td>yes</td>\n",
       "      <td>2016-03-24 00:00:00</td>\n",
       "    </tr>\n",
       "    <tr>\n",
       "      <th>2</th>\n",
       "      <td>9800</td>\n",
       "      <td>suv</td>\n",
       "      <td>2004</td>\n",
       "      <td>auto</td>\n",
       "      <td>163</td>\n",
       "      <td>grand</td>\n",
       "      <td>125000</td>\n",
       "      <td>gasoline</td>\n",
       "      <td>jeep</td>\n",
       "      <td>NaN</td>\n",
       "      <td>2016-03-14 00:00:00</td>\n",
       "    </tr>\n",
       "    <tr>\n",
       "      <th>3</th>\n",
       "      <td>1500</td>\n",
       "      <td>small</td>\n",
       "      <td>2001</td>\n",
       "      <td>manual</td>\n",
       "      <td>75</td>\n",
       "      <td>golf</td>\n",
       "      <td>150000</td>\n",
       "      <td>petrol</td>\n",
       "      <td>volkswagen</td>\n",
       "      <td>no</td>\n",
       "      <td>2016-03-17 00:00:00</td>\n",
       "    </tr>\n",
       "    <tr>\n",
       "      <th>4</th>\n",
       "      <td>3600</td>\n",
       "      <td>small</td>\n",
       "      <td>2008</td>\n",
       "      <td>manual</td>\n",
       "      <td>69</td>\n",
       "      <td>fabia</td>\n",
       "      <td>90000</td>\n",
       "      <td>gasoline</td>\n",
       "      <td>skoda</td>\n",
       "      <td>no</td>\n",
       "      <td>2016-03-31 00:00:00</td>\n",
       "    </tr>\n",
       "  </tbody>\n",
       "</table>\n",
       "</div>"
      ],
      "text/plain": [
       "   Price VehicleType  RegistrationYear Gearbox  Power  Model  Kilometer  \\\n",
       "0    480         NaN              1993  manual      0   golf     150000   \n",
       "1  18300       coupe              2011  manual    190    NaN     125000   \n",
       "2   9800         suv              2004    auto    163  grand     125000   \n",
       "3   1500       small              2001  manual     75   golf     150000   \n",
       "4   3600       small              2008  manual     69  fabia      90000   \n",
       "\n",
       "   FuelType       Brand Repaired          DateCreated  \n",
       "0    petrol  volkswagen      NaN  2016-03-24 00:00:00  \n",
       "1  gasoline        audi      yes  2016-03-24 00:00:00  \n",
       "2  gasoline        jeep      NaN  2016-03-14 00:00:00  \n",
       "3    petrol  volkswagen       no  2016-03-17 00:00:00  \n",
       "4  gasoline       skoda       no  2016-03-31 00:00:00  "
      ]
     },
     "execution_count": 5,
     "metadata": {},
     "output_type": "execute_result"
    }
   ],
   "source": [
    "# удаление неинформативных столбцов\n",
    "df.drop(labels=['DateCrawled', 'RegistrationMonth', 'NumberOfPictures', 'PostalCode', 'LastSeen'], \n",
    "        axis=1, inplace=True)\n",
    "df.head()"
   ]
  },
  {
   "cell_type": "markdown",
   "metadata": {},
   "source": [
    "Признак DateCreated пока что оставим, он еще пригодится для обнаружения аномалий в других признаках."
   ]
  },
  {
   "cell_type": "code",
   "execution_count": 6,
   "metadata": {},
   "outputs": [
    {
     "data": {
      "text/html": [
       "<div>\n",
       "<style scoped>\n",
       "    .dataframe tbody tr th:only-of-type {\n",
       "        vertical-align: middle;\n",
       "    }\n",
       "\n",
       "    .dataframe tbody tr th {\n",
       "        vertical-align: top;\n",
       "    }\n",
       "\n",
       "    .dataframe thead th {\n",
       "        text-align: right;\n",
       "    }\n",
       "</style>\n",
       "<table border=\"1\" class=\"dataframe\">\n",
       "  <thead>\n",
       "    <tr style=\"text-align: right;\">\n",
       "      <th></th>\n",
       "      <th>price</th>\n",
       "      <th>vehicle_type</th>\n",
       "      <th>year</th>\n",
       "      <th>gearbox</th>\n",
       "      <th>power</th>\n",
       "      <th>model</th>\n",
       "      <th>km</th>\n",
       "      <th>fuel</th>\n",
       "      <th>brand</th>\n",
       "      <th>repaired</th>\n",
       "      <th>created</th>\n",
       "    </tr>\n",
       "  </thead>\n",
       "  <tbody>\n",
       "    <tr>\n",
       "      <th>0</th>\n",
       "      <td>480</td>\n",
       "      <td>NaN</td>\n",
       "      <td>1993</td>\n",
       "      <td>manual</td>\n",
       "      <td>0</td>\n",
       "      <td>golf</td>\n",
       "      <td>150000</td>\n",
       "      <td>petrol</td>\n",
       "      <td>volkswagen</td>\n",
       "      <td>NaN</td>\n",
       "      <td>2016-03-24 00:00:00</td>\n",
       "    </tr>\n",
       "    <tr>\n",
       "      <th>1</th>\n",
       "      <td>18300</td>\n",
       "      <td>coupe</td>\n",
       "      <td>2011</td>\n",
       "      <td>manual</td>\n",
       "      <td>190</td>\n",
       "      <td>NaN</td>\n",
       "      <td>125000</td>\n",
       "      <td>gasoline</td>\n",
       "      <td>audi</td>\n",
       "      <td>yes</td>\n",
       "      <td>2016-03-24 00:00:00</td>\n",
       "    </tr>\n",
       "    <tr>\n",
       "      <th>2</th>\n",
       "      <td>9800</td>\n",
       "      <td>suv</td>\n",
       "      <td>2004</td>\n",
       "      <td>auto</td>\n",
       "      <td>163</td>\n",
       "      <td>grand</td>\n",
       "      <td>125000</td>\n",
       "      <td>gasoline</td>\n",
       "      <td>jeep</td>\n",
       "      <td>NaN</td>\n",
       "      <td>2016-03-14 00:00:00</td>\n",
       "    </tr>\n",
       "    <tr>\n",
       "      <th>3</th>\n",
       "      <td>1500</td>\n",
       "      <td>small</td>\n",
       "      <td>2001</td>\n",
       "      <td>manual</td>\n",
       "      <td>75</td>\n",
       "      <td>golf</td>\n",
       "      <td>150000</td>\n",
       "      <td>petrol</td>\n",
       "      <td>volkswagen</td>\n",
       "      <td>no</td>\n",
       "      <td>2016-03-17 00:00:00</td>\n",
       "    </tr>\n",
       "    <tr>\n",
       "      <th>4</th>\n",
       "      <td>3600</td>\n",
       "      <td>small</td>\n",
       "      <td>2008</td>\n",
       "      <td>manual</td>\n",
       "      <td>69</td>\n",
       "      <td>fabia</td>\n",
       "      <td>90000</td>\n",
       "      <td>gasoline</td>\n",
       "      <td>skoda</td>\n",
       "      <td>no</td>\n",
       "      <td>2016-03-31 00:00:00</td>\n",
       "    </tr>\n",
       "  </tbody>\n",
       "</table>\n",
       "</div>"
      ],
      "text/plain": [
       "   price vehicle_type  year gearbox  power  model      km      fuel  \\\n",
       "0    480          NaN  1993  manual      0   golf  150000    petrol   \n",
       "1  18300        coupe  2011  manual    190    NaN  125000  gasoline   \n",
       "2   9800          suv  2004    auto    163  grand  125000  gasoline   \n",
       "3   1500        small  2001  manual     75   golf  150000    petrol   \n",
       "4   3600        small  2008  manual     69  fabia   90000  gasoline   \n",
       "\n",
       "        brand repaired              created  \n",
       "0  volkswagen      NaN  2016-03-24 00:00:00  \n",
       "1        audi      yes  2016-03-24 00:00:00  \n",
       "2        jeep      NaN  2016-03-14 00:00:00  \n",
       "3  volkswagen       no  2016-03-17 00:00:00  \n",
       "4       skoda       no  2016-03-31 00:00:00  "
      ]
     },
     "execution_count": 6,
     "metadata": {},
     "output_type": "execute_result"
    }
   ],
   "source": [
    "# переименование признаков\n",
    "df.rename(columns={\n",
    "    'Price': 'price',\n",
    "    'VehicleType': 'vehicle_type',\n",
    "    'RegistrationYear': 'year',\n",
    "    'Gearbox': 'gearbox',\n",
    "    'Power': 'power',\n",
    "    'Model': 'model',\n",
    "    'Kilometer': 'km',\n",
    "    'FuelType': 'fuel',\n",
    "    'Brand': 'brand',\n",
    "    'DateCreated': 'created',\n",
    "    'Repaired': 'repaired'\n",
    "},\n",
    "         inplace=True)\n",
    "df.head()"
   ]
  },
  {
   "cell_type": "markdown",
   "metadata": {},
   "source": [
    "Обновленные названия столбцов датафрейма теперь выглядят так."
   ]
  },
  {
   "cell_type": "markdown",
   "metadata": {},
   "source": [
    "### Удаление дубликатов"
   ]
  },
  {
   "cell_type": "code",
   "execution_count": 7,
   "metadata": {},
   "outputs": [
    {
     "name": "stdout",
     "output_type": "stream",
     "text": [
      "Кол-во дубликатов: 13372\n",
      "Кол-во объектов после удаления дубликатов: 340997\n"
     ]
    }
   ],
   "source": [
    "# удаление полных дубликатов\n",
    "print('Кол-во дубликатов:', df.duplicated().sum())\n",
    "df.drop_duplicates(inplace=True, ignore_index=True)\n",
    "print('Кол-во объектов после удаления дубликатов:', df.shape[0])"
   ]
  },
  {
   "cell_type": "markdown",
   "metadata": {},
   "source": [
    "### Аномалии и выбросы"
   ]
  },
  {
   "cell_type": "markdown",
   "metadata": {},
   "source": [
    "Для поиска выбросов воспользуемся функцией ниже."
   ]
  },
  {
   "cell_type": "code",
   "execution_count": 8,
   "metadata": {},
   "outputs": [],
   "source": [
    "def outliers(column, q1=0.25, q3=0.75):\n",
    "    \"\"\"функция возвращает индексы записей с выбросами\"\"\"\n",
    "    q1 = df[column].quantile(q1)\n",
    "    q3 = df[column].quantile(q3)\n",
    "    iqr = q3 - q1 \n",
    "    low = q1 - (1.5*iqr)\n",
    "    high = q3 + (1.5*iqr)\n",
    "    outs_idx = df[column][((df[column] < low) | (df[column] > high)) & (~df[column].isna())].index\n",
    "    return outs_idx"
   ]
  },
  {
   "cell_type": "markdown",
   "metadata": {},
   "source": [
    "#### Price"
   ]
  },
  {
   "cell_type": "code",
   "execution_count": 9,
   "metadata": {},
   "outputs": [
    {
     "data": {
      "image/png": "[encoded data removed]",
      "text/plain": [
       "<Figure size 432x288 with 1 Axes>"
      ]
     },
     "metadata": {
      "needs_background": "light"
     },
     "output_type": "display_data"
    }
   ],
   "source": [
    "#распределение цен\n",
    "df.price.hist(bins=50);"
   ]
  },
  {
   "cell_type": "code",
   "execution_count": 10,
   "metadata": {},
   "outputs": [
    {
     "name": "stdout",
     "output_type": "stream",
     "text": [
      "Кол-во выбросов: 18180\n"
     ]
    }
   ],
   "source": [
    "print('Кол-во выбросов:', len(outliers('price')))"
   ]
  },
  {
   "cell_type": "code",
   "execution_count": 11,
   "metadata": {},
   "outputs": [
    {
     "data": {
      "image/png": "[encoded data removed]",
      "text/plain": [
       "<Figure size 432x288 with 1 Axes>"
      ]
     },
     "metadata": {
      "needs_background": "light"
     },
     "output_type": "display_data"
    }
   ],
   "source": [
    "df.boxplot('price');\n",
    "plt.title('Диаграмма размаха цены');\n",
    "plt.ylabel('Цена, евро');"
   ]
  },
  {
   "cell_type": "code",
   "execution_count": 12,
   "metadata": {},
   "outputs": [
    {
     "name": "stdout",
     "output_type": "stream",
     "text": [
      "Кол-во записей в датафрейме после удаления выбросов: 322817\n"
     ]
    }
   ],
   "source": [
    "df = df.drop(outliers('price'))\n",
    "print('Кол-во записей в датафрейме после удаления выбросов:', df.shape[0])"
   ]
  },
  {
   "cell_type": "markdown",
   "metadata": {},
   "source": [
    "Найдем слишком низкие цены. Пусть порог цены будет 200 евро, те объекты, что будут ниже этого порога - под удаление.  "
   ]
  },
  {
   "cell_type": "code",
   "execution_count": 13,
   "metadata": {},
   "outputs": [
    {
     "name": "stdout",
     "output_type": "stream",
     "text": [
      "Кол-во аномалий: 18942\n"
     ]
    }
   ],
   "source": [
    "print('Кол-во аномалий:', df.query('price <= 200').shape[0])"
   ]
  },
  {
   "cell_type": "code",
   "execution_count": 14,
   "metadata": {},
   "outputs": [
    {
     "name": "stdout",
     "output_type": "stream",
     "text": [
      "Кол-во записей в датафрейме после удаления аномалий: 303875\n"
     ]
    }
   ],
   "source": [
    "# Удаление объектов с аномально низкой стоимостью продажи\n",
    "df = df[~(df.price <= 200)]\n",
    "print('Кол-во записей в датафрейме после удаления аномалий:', df.shape[0])"
   ]
  },
  {
   "cell_type": "markdown",
   "metadata": {},
   "source": [
    "Удалены аномалии и выбросы."
   ]
  },
  {
   "cell_type": "markdown",
   "metadata": {},
   "source": [
    "#### Year"
   ]
  },
  {
   "cell_type": "markdown",
   "metadata": {},
   "source": [
    "Если год регистрации автомобиля больше, чем год создания анекты, то считаем это за аномалию.  \n",
    "Также удалим выбросы с помощью диаграммы размаха."
   ]
  },
  {
   "cell_type": "code",
   "execution_count": 15,
   "metadata": {},
   "outputs": [
    {
     "data": {
      "text/html": [
       "<div>\n",
       "<style scoped>\n",
       "    .dataframe tbody tr th:only-of-type {\n",
       "        vertical-align: middle;\n",
       "    }\n",
       "\n",
       "    .dataframe tbody tr th {\n",
       "        vertical-align: top;\n",
       "    }\n",
       "\n",
       "    .dataframe thead th {\n",
       "        text-align: right;\n",
       "    }\n",
       "</style>\n",
       "<table border=\"1\" class=\"dataframe\">\n",
       "  <thead>\n",
       "    <tr style=\"text-align: right;\">\n",
       "      <th></th>\n",
       "      <th>price</th>\n",
       "      <th>vehicle_type</th>\n",
       "      <th>year</th>\n",
       "      <th>gearbox</th>\n",
       "      <th>power</th>\n",
       "      <th>model</th>\n",
       "      <th>km</th>\n",
       "      <th>fuel</th>\n",
       "      <th>brand</th>\n",
       "      <th>repaired</th>\n",
       "      <th>created</th>\n",
       "      <th>created_year</th>\n",
       "    </tr>\n",
       "  </thead>\n",
       "  <tbody>\n",
       "    <tr>\n",
       "      <th>0</th>\n",
       "      <td>480</td>\n",
       "      <td>NaN</td>\n",
       "      <td>1993</td>\n",
       "      <td>manual</td>\n",
       "      <td>0</td>\n",
       "      <td>golf</td>\n",
       "      <td>150000</td>\n",
       "      <td>petrol</td>\n",
       "      <td>volkswagen</td>\n",
       "      <td>NaN</td>\n",
       "      <td>2016-03-24 00:00:00</td>\n",
       "      <td>2016</td>\n",
       "    </tr>\n",
       "    <tr>\n",
       "      <th>2</th>\n",
       "      <td>9800</td>\n",
       "      <td>suv</td>\n",
       "      <td>2004</td>\n",
       "      <td>auto</td>\n",
       "      <td>163</td>\n",
       "      <td>grand</td>\n",
       "      <td>125000</td>\n",
       "      <td>gasoline</td>\n",
       "      <td>jeep</td>\n",
       "      <td>NaN</td>\n",
       "      <td>2016-03-14 00:00:00</td>\n",
       "      <td>2016</td>\n",
       "    </tr>\n",
       "    <tr>\n",
       "      <th>3</th>\n",
       "      <td>1500</td>\n",
       "      <td>small</td>\n",
       "      <td>2001</td>\n",
       "      <td>manual</td>\n",
       "      <td>75</td>\n",
       "      <td>golf</td>\n",
       "      <td>150000</td>\n",
       "      <td>petrol</td>\n",
       "      <td>volkswagen</td>\n",
       "      <td>no</td>\n",
       "      <td>2016-03-17 00:00:00</td>\n",
       "      <td>2016</td>\n",
       "    </tr>\n",
       "    <tr>\n",
       "      <th>4</th>\n",
       "      <td>3600</td>\n",
       "      <td>small</td>\n",
       "      <td>2008</td>\n",
       "      <td>manual</td>\n",
       "      <td>69</td>\n",
       "      <td>fabia</td>\n",
       "      <td>90000</td>\n",
       "      <td>gasoline</td>\n",
       "      <td>skoda</td>\n",
       "      <td>no</td>\n",
       "      <td>2016-03-31 00:00:00</td>\n",
       "      <td>2016</td>\n",
       "    </tr>\n",
       "    <tr>\n",
       "      <th>5</th>\n",
       "      <td>650</td>\n",
       "      <td>sedan</td>\n",
       "      <td>1995</td>\n",
       "      <td>manual</td>\n",
       "      <td>102</td>\n",
       "      <td>3er</td>\n",
       "      <td>150000</td>\n",
       "      <td>petrol</td>\n",
       "      <td>bmw</td>\n",
       "      <td>yes</td>\n",
       "      <td>2016-04-04 00:00:00</td>\n",
       "      <td>2016</td>\n",
       "    </tr>\n",
       "  </tbody>\n",
       "</table>\n",
       "</div>"
      ],
      "text/plain": [
       "   price vehicle_type  year gearbox  power  model      km      fuel  \\\n",
       "0    480          NaN  1993  manual      0   golf  150000    petrol   \n",
       "2   9800          suv  2004    auto    163  grand  125000  gasoline   \n",
       "3   1500        small  2001  manual     75   golf  150000    petrol   \n",
       "4   3600        small  2008  manual     69  fabia   90000  gasoline   \n",
       "5    650        sedan  1995  manual    102    3er  150000    petrol   \n",
       "\n",
       "        brand repaired              created  created_year  \n",
       "0  volkswagen      NaN  2016-03-24 00:00:00          2016  \n",
       "2        jeep      NaN  2016-03-14 00:00:00          2016  \n",
       "3  volkswagen       no  2016-03-17 00:00:00          2016  \n",
       "4       skoda       no  2016-03-31 00:00:00          2016  \n",
       "5         bmw      yes  2016-04-04 00:00:00          2016  "
      ]
     },
     "execution_count": 15,
     "metadata": {},
     "output_type": "execute_result"
    }
   ],
   "source": [
    "# вытащим год из столбца с датой создания анекты\n",
    "df['created_year'] = pd.to_datetime(df.created, format='%Y-%m-%d %H:%M:%S')\n",
    "df['created_year'] = pd.DatetimeIndex(df['created_year']).year\n",
    "df.head()"
   ]
  },
  {
   "cell_type": "code",
   "execution_count": 16,
   "metadata": {},
   "outputs": [
    {
     "name": "stdout",
     "output_type": "stream",
     "text": [
      "Кол-во аномалий: 12995\n"
     ]
    }
   ],
   "source": [
    "print('Кол-во аномалий:', df.query('year > created_year').shape[0])"
   ]
  },
  {
   "cell_type": "code",
   "execution_count": 17,
   "metadata": {},
   "outputs": [
    {
     "name": "stdout",
     "output_type": "stream",
     "text": [
      "Кол-во записей в датафрейме после удаления аномалий: 290880\n"
     ]
    }
   ],
   "source": [
    "df = df[~(df.year > df.created_year)]\n",
    "print('Кол-во записей в датафрейме после удаления аномалий:', df.shape[0])"
   ]
  },
  {
   "cell_type": "code",
   "execution_count": 18,
   "metadata": {},
   "outputs": [
    {
     "name": "stdout",
     "output_type": "stream",
     "text": [
      "Кол-во выбросов: 1354\n"
     ]
    },
    {
     "data": {
      "image/png": "[encoded data removed]",
      "text/plain": [
       "<Figure size 432x288 with 1 Axes>"
      ]
     },
     "metadata": {
      "needs_background": "light"
     },
     "output_type": "display_data"
    }
   ],
   "source": [
    "df.boxplot('year', whis=3.9);\n",
    "plt.ylim(1950, 2020);\n",
    "plt.title('Диаграмма размаха, год выпуска');\n",
    "plt.ylabel('Год выпуска авто');\n",
    "print('Кол-во выбросов:', len(outliers('year', q1=0.1, q3=0.9)))"
   ]
  },
  {
   "cell_type": "code",
   "execution_count": 19,
   "metadata": {},
   "outputs": [
    {
     "name": "stdout",
     "output_type": "stream",
     "text": [
      "Кол-во записей в датафрейме после удаления выбросов: 289526\n"
     ]
    }
   ],
   "source": [
    "df = df.drop(outliers('year', q1=0.1, q3=0.9))\n",
    "print('Кол-во записей в датафрейме после удаления выбросов:', df.shape[0])"
   ]
  },
  {
   "cell_type": "markdown",
   "metadata": {},
   "source": [
    "Удалены аномалии и выбросы."
   ]
  },
  {
   "cell_type": "markdown",
   "metadata": {},
   "source": [
    "#### Power"
   ]
  },
  {
   "cell_type": "markdown",
   "metadata": {},
   "source": [
    "Найдем выбросы в значениях мощности автомобиля. Также отбросим слишком низкие значения, начиная с 45."
   ]
  },
  {
   "cell_type": "code",
   "execution_count": 20,
   "metadata": {},
   "outputs": [
    {
     "name": "stdout",
     "output_type": "stream",
     "text": [
      "Кол-во выбросов: 5340\n"
     ]
    },
    {
     "data": {
      "image/png": "[encoded data removed]",
      "text/plain": [
       "<Figure size 432x288 with 1 Axes>"
      ]
     },
     "metadata": {
      "needs_background": "light"
     },
     "output_type": "display_data"
    }
   ],
   "source": [
    "df.boxplot('power');\n",
    "plt.ylim(0, 1000);\n",
    "plt.title('Диаграмма размаха, мощность двигателя');\n",
    "plt.ylabel('Мощность двигателя, л.с.');\n",
    "print('Кол-во выбросов:', len(outliers('power')))"
   ]
  },
  {
   "cell_type": "code",
   "execution_count": 21,
   "metadata": {},
   "outputs": [
    {
     "name": "stdout",
     "output_type": "stream",
     "text": [
      "Кол-во записей в датафрейме после удаления выбросов: 284186\n"
     ]
    }
   ],
   "source": [
    "df = df.drop(outliers('power'))\n",
    "print('Кол-во записей в датафрейме после удаления выбросов:', df.shape[0])"
   ]
  },
  {
   "cell_type": "markdown",
   "metadata": {},
   "source": [
    "Найдем аномалии и удалим их."
   ]
  },
  {
   "cell_type": "code",
   "execution_count": 22,
   "metadata": {},
   "outputs": [
    {
     "name": "stdout",
     "output_type": "stream",
     "text": [
      "Кол-во аномалий: 29558\n",
      "Кол-во записей в датафрейме после удаления аномалий: 254628\n"
     ]
    }
   ],
   "source": [
    "print('Кол-во аномалий:', df.query('power < 45').shape[0])\n",
    "df = df[~(df.power < 45)]\n",
    "print('Кол-во записей в датафрейме после удаления аномалий:', df.shape[0])"
   ]
  },
  {
   "cell_type": "markdown",
   "metadata": {},
   "source": [
    "Аномалии и выбросы удалены.  \n",
    "Было пожертвовано большое количество материала для обучения моделей в угоду качеству."
   ]
  },
  {
   "cell_type": "markdown",
   "metadata": {},
   "source": [
    "#### Km"
   ]
  },
  {
   "cell_type": "code",
   "execution_count": 23,
   "metadata": {},
   "outputs": [
    {
     "data": {
      "text/plain": [
       "count    254628.000000\n",
       "mean     130618.019228\n",
       "std       34624.531965\n",
       "min        5000.000000\n",
       "25%      125000.000000\n",
       "50%      150000.000000\n",
       "75%      150000.000000\n",
       "max      150000.000000\n",
       "Name: km, dtype: float64"
      ]
     },
     "execution_count": 23,
     "metadata": {},
     "output_type": "execute_result"
    },
    {
     "data": {
      "image/png": "[encoded data removed]",
      "text/plain": [
       "<Figure size 432x288 with 1 Axes>"
      ]
     },
     "metadata": {
      "needs_background": "light"
     },
     "output_type": "display_data"
    }
   ],
   "source": [
    "df.km.hist()\n",
    "plt.title('Распределение пробега автомобилей')\n",
    "plt.xlabel('Пробег, км')\n",
    "plt.ylabel('Кол-во авто')\n",
    "\n",
    "df.km.describe()"
   ]
  },
  {
   "cell_type": "code",
   "execution_count": 24,
   "metadata": {},
   "outputs": [
    {
     "name": "stdout",
     "output_type": "stream",
     "text": [
      "Кол-во выбросов: 33324\n"
     ]
    },
    {
     "data": {
      "image/png": "[encoded data removed]",
      "text/plain": [
       "<Figure size 432x288 with 1 Axes>"
      ]
     },
     "metadata": {
      "needs_background": "light"
     },
     "output_type": "display_data"
    }
   ],
   "source": [
    "df.boxplot('km');\n",
    "plt.title('Диаграмма размаха пробега автомобилей');\n",
    "plt.ylabel('Пробег, км');\n",
    "\n",
    "print('Кол-во выбросов:', len(outliers('km')))"
   ]
  },
  {
   "cell_type": "markdown",
   "metadata": {},
   "source": [
    "Если удалить выбросы, то мы лишимся объектов с пробегом 80 тыс км и ниже. Тем более таких записей 30 тыс штук, поэтому оставим их и не будем удалять."
   ]
  },
  {
   "cell_type": "markdown",
   "metadata": {},
   "source": [
    "#### Вывод"
   ]
  },
  {
   "cell_type": "markdown",
   "metadata": {},
   "source": [
    "На данном этапе избавились от записей с аномальными значениями или с выбросами.  \n",
    "Было удалено 26 % объектов. Такое большое количество обусловлено тем, что данные были слишком \"грязные\". Теперь датафрейм приведен в порядок и с ним можно работать."
   ]
  },
  {
   "cell_type": "markdown",
   "metadata": {},
   "source": [
    "### Обработка пропущенных значений"
   ]
  },
  {
   "cell_type": "markdown",
   "metadata": {},
   "source": [
    "Взглянем на пропуски в столбцах."
   ]
  },
  {
   "cell_type": "code",
   "execution_count": 25,
   "metadata": {},
   "outputs": [
    {
     "data": {
      "text/plain": [
       "price               0\n",
       "vehicle_type     9532\n",
       "year                0\n",
       "gearbox          4570\n",
       "power               0\n",
       "model            9275\n",
       "km                  0\n",
       "fuel            13614\n",
       "brand               0\n",
       "repaired        37897\n",
       "created             0\n",
       "created_year        0\n",
       "dtype: int64"
      ]
     },
     "execution_count": 25,
     "metadata": {},
     "output_type": "execute_result"
    }
   ],
   "source": [
    "df.isna().sum()"
   ]
  },
  {
   "cell_type": "markdown",
   "metadata": {},
   "source": [
    "#### Vehicle_type"
   ]
  },
  {
   "cell_type": "code",
   "execution_count": 26,
   "metadata": {},
   "outputs": [
    {
     "name": "stdout",
     "output_type": "stream",
     "text": [
      "Кол-во пропусков: 9532\n"
     ]
    }
   ],
   "source": [
    "print('Кол-во пропусков:', df[df.vehicle_type.isna()].shape[0])"
   ]
  },
  {
   "cell_type": "code",
   "execution_count": 27,
   "metadata": {},
   "outputs": [
    {
     "name": "stdout",
     "output_type": "stream",
     "text": [
      "Уникальные значения: ['suv' 'small' 'sedan' 'convertible' 'wagon' nan 'bus' 'coupe' 'other']\n"
     ]
    }
   ],
   "source": [
    "print('Уникальные значения:', df.vehicle_type.unique())"
   ]
  },
  {
   "cell_type": "markdown",
   "metadata": {},
   "source": [
    "Кол-во авто по типам кузовов:"
   ]
  },
  {
   "cell_type": "code",
   "execution_count": 28,
   "metadata": {},
   "outputs": [
    {
     "data": {
      "text/plain": [
       "sedan          70952\n",
       "small          62765\n",
       "wagon          51793\n",
       "bus            23515\n",
       "convertible    15316\n",
       "coupe          11159\n",
       "suv             7460\n",
       "other           2136\n",
       "Name: vehicle_type, dtype: int64"
      ]
     },
     "execution_count": 28,
     "metadata": {},
     "output_type": "execute_result"
    }
   ],
   "source": [
    "df.vehicle_type.value_counts()"
   ]
  },
  {
   "cell_type": "markdown",
   "metadata": {},
   "source": [
    "Заменим пропущенные значения на other."
   ]
  },
  {
   "cell_type": "code",
   "execution_count": 29,
   "metadata": {},
   "outputs": [
    {
     "name": "stdout",
     "output_type": "stream",
     "text": [
      "Кол-во пропусков после исправления: 0\n"
     ]
    }
   ],
   "source": [
    "df.vehicle_type.fillna(value='other', inplace=True)\n",
    "\n",
    "print('Кол-во пропусков после исправления:', df[df.vehicle_type.isna()].shape[0])"
   ]
  },
  {
   "cell_type": "markdown",
   "metadata": {},
   "source": [
    "Пропущенные значения были заменены на заглушку other."
   ]
  },
  {
   "cell_type": "markdown",
   "metadata": {},
   "source": [
    "#### Gearbox"
   ]
  },
  {
   "cell_type": "code",
   "execution_count": 30,
   "metadata": {},
   "outputs": [
    {
     "name": "stdout",
     "output_type": "stream",
     "text": [
      "Кол-во пропусков: 4570\n"
     ]
    }
   ],
   "source": [
    "print('Кол-во пропусков:', df[df.gearbox.isna()].shape[0])"
   ]
  },
  {
   "cell_type": "code",
   "execution_count": 31,
   "metadata": {},
   "outputs": [
    {
     "name": "stdout",
     "output_type": "stream",
     "text": [
      "Уникальные значения: ['auto' 'manual' nan]\n"
     ]
    }
   ],
   "source": [
    "print('Уникальные значения:', df.gearbox.unique())"
   ]
  },
  {
   "cell_type": "markdown",
   "metadata": {},
   "source": [
    "Пропущенные значения невозможно восстановить: автомобиль в рамках одной марки и модели может поставляться как с автоматической, так и с механической коробкой передач.  \n",
    "Пропущенные значения заполним заглушкой 'unknown'."
   ]
  },
  {
   "cell_type": "code",
   "execution_count": 32,
   "metadata": {},
   "outputs": [
    {
     "name": "stdout",
     "output_type": "stream",
     "text": [
      "Кол-во пропусков: 0\n"
     ]
    }
   ],
   "source": [
    "df.gearbox.fillna(value='unknown', inplace=True)\n",
    "\n",
    "print('Кол-во пропусков:', df[df.gearbox.isna()].shape[0])"
   ]
  },
  {
   "cell_type": "markdown",
   "metadata": {},
   "source": [
    "Пропуски были заменены на заглушку other."
   ]
  },
  {
   "cell_type": "markdown",
   "metadata": {},
   "source": [
    "#### Model"
   ]
  },
  {
   "cell_type": "code",
   "execution_count": 33,
   "metadata": {},
   "outputs": [
    {
     "name": "stdout",
     "output_type": "stream",
     "text": [
      "Кол-во пропусков: 9275\n"
     ]
    }
   ],
   "source": [
    "print('Кол-во пропусков:', df[df.model.isna()].shape[0])"
   ]
  },
  {
   "cell_type": "markdown",
   "metadata": {},
   "source": [
    "Кол-во авто по моделям:"
   ]
  },
  {
   "cell_type": "code",
   "execution_count": 34,
   "metadata": {},
   "outputs": [
    {
     "data": {
      "text/plain": [
       "golf          21694\n",
       "other         16726\n",
       "3er           15234\n",
       "polo           9596\n",
       "corsa          8878\n",
       "              ...  \n",
       "serie_2           2\n",
       "601               1\n",
       "gl                1\n",
       "serie_3           1\n",
       "rangerover        1\n",
       "Name: model, Length: 247, dtype: int64"
      ]
     },
     "execution_count": 34,
     "metadata": {},
     "output_type": "execute_result"
    }
   ],
   "source": [
    "df.model.value_counts()"
   ]
  },
  {
   "cell_type": "markdown",
   "metadata": {},
   "source": [
    "Пропущенные значения заполним заглушкой 'other'."
   ]
  },
  {
   "cell_type": "code",
   "execution_count": 35,
   "metadata": {},
   "outputs": [
    {
     "name": "stdout",
     "output_type": "stream",
     "text": [
      "Кол-во пропусков: 0\n"
     ]
    }
   ],
   "source": [
    "df.model.fillna(value='other', inplace=True)\n",
    "\n",
    "print('Кол-во пропусков:', df[df.model.isna()].shape[0])"
   ]
  },
  {
   "cell_type": "markdown",
   "metadata": {},
   "source": [
    "Пропуски были заменены на заглушку other."
   ]
  },
  {
   "cell_type": "markdown",
   "metadata": {},
   "source": [
    "#### Fuel"
   ]
  },
  {
   "cell_type": "code",
   "execution_count": 36,
   "metadata": {},
   "outputs": [
    {
     "name": "stdout",
     "output_type": "stream",
     "text": [
      "Кол-во пропусков: 13614\n"
     ]
    }
   ],
   "source": [
    "print('Кол-во пропусков:', df[df.fuel.isna()].shape[0])"
   ]
  },
  {
   "cell_type": "markdown",
   "metadata": {},
   "source": [
    "Кол-во авто по типу используемого топлива:"
   ]
  },
  {
   "cell_type": "code",
   "execution_count": 37,
   "metadata": {},
   "outputs": [
    {
     "data": {
      "text/plain": [
       "petrol      163136\n",
       "gasoline     73285\n",
       "lpg           3912\n",
       "cng            464\n",
       "hybrid         147\n",
       "other           43\n",
       "electric        27\n",
       "Name: fuel, dtype: int64"
      ]
     },
     "execution_count": 37,
     "metadata": {},
     "output_type": "execute_result"
    }
   ],
   "source": [
    "df.fuel.value_counts()"
   ]
  },
  {
   "cell_type": "code",
   "execution_count": 38,
   "metadata": {},
   "outputs": [
    {
     "name": "stdout",
     "output_type": "stream",
     "text": [
      "Кол-во пропусков после исправления: 0\n"
     ]
    }
   ],
   "source": [
    "df.fuel.fillna(value='other', inplace=True)\n",
    "\n",
    "print('Кол-во пропусков после исправления:', df[df.fuel.isna()].shape[0])"
   ]
  },
  {
   "cell_type": "markdown",
   "metadata": {},
   "source": [
    "Пропуски были заменены на заглушку other."
   ]
  },
  {
   "cell_type": "markdown",
   "metadata": {},
   "source": [
    "#### Repaired"
   ]
  },
  {
   "cell_type": "code",
   "execution_count": 39,
   "metadata": {},
   "outputs": [
    {
     "name": "stdout",
     "output_type": "stream",
     "text": [
      "Кол-во пропусков: 37897\n"
     ]
    }
   ],
   "source": [
    "print('Кол-во пропусков:', df[df.repaired.isna()].shape[0])"
   ]
  },
  {
   "cell_type": "markdown",
   "metadata": {},
   "source": [
    "Кол-во авто по признаку ремонта:"
   ]
  },
  {
   "cell_type": "code",
   "execution_count": 40,
   "metadata": {},
   "outputs": [
    {
     "data": {
      "text/plain": [
       "no     191627\n",
       "NaN     37897\n",
       "yes     25104\n",
       "Name: repaired, dtype: int64"
      ]
     },
     "execution_count": 40,
     "metadata": {},
     "output_type": "execute_result"
    }
   ],
   "source": [
    "df.repaired.value_counts(dropna=False)"
   ]
  },
  {
   "cell_type": "code",
   "execution_count": 41,
   "metadata": {},
   "outputs": [
    {
     "name": "stdout",
     "output_type": "stream",
     "text": [
      "Кол-во пропусков после исправления: 0\n"
     ]
    }
   ],
   "source": [
    "df.repaired.fillna(value='unknown', inplace=True)\n",
    "print('Кол-во пропусков после исправления:', df[df.repaired.isna()].shape[0])"
   ]
  },
  {
   "cell_type": "markdown",
   "metadata": {},
   "source": [
    "Пропуски заменены на заглушку unknown."
   ]
  },
  {
   "cell_type": "markdown",
   "metadata": {},
   "source": [
    "#### Вывод"
   ]
  },
  {
   "cell_type": "markdown",
   "metadata": {},
   "source": [
    "Кол-во пропусков по столбцам:"
   ]
  },
  {
   "cell_type": "code",
   "execution_count": 42,
   "metadata": {},
   "outputs": [
    {
     "data": {
      "text/plain": [
       "price           0\n",
       "vehicle_type    0\n",
       "year            0\n",
       "gearbox         0\n",
       "power           0\n",
       "model           0\n",
       "km              0\n",
       "fuel            0\n",
       "brand           0\n",
       "repaired        0\n",
       "created         0\n",
       "created_year    0\n",
       "dtype: int64"
      ]
     },
     "execution_count": 42,
     "metadata": {},
     "output_type": "execute_result"
    }
   ],
   "source": [
    "df.isna().sum()"
   ]
  },
  {
   "cell_type": "markdown",
   "metadata": {},
   "source": [
    "Все пропущенные значения были обработаны."
   ]
  },
  {
   "cell_type": "markdown",
   "metadata": {},
   "source": [
    "### Удаление столбцов"
   ]
  },
  {
   "cell_type": "markdown",
   "metadata": {},
   "source": [
    "Теперь удалим оставшиеся неинформативные столбцы."
   ]
  },
  {
   "cell_type": "code",
   "execution_count": 43,
   "metadata": {},
   "outputs": [
    {
     "data": {
      "text/html": [
       "<div>\n",
       "<style scoped>\n",
       "    .dataframe tbody tr th:only-of-type {\n",
       "        vertical-align: middle;\n",
       "    }\n",
       "\n",
       "    .dataframe tbody tr th {\n",
       "        vertical-align: top;\n",
       "    }\n",
       "\n",
       "    .dataframe thead th {\n",
       "        text-align: right;\n",
       "    }\n",
       "</style>\n",
       "<table border=\"1\" class=\"dataframe\">\n",
       "  <thead>\n",
       "    <tr style=\"text-align: right;\">\n",
       "      <th></th>\n",
       "      <th>price</th>\n",
       "      <th>vehicle_type</th>\n",
       "      <th>year</th>\n",
       "      <th>gearbox</th>\n",
       "      <th>power</th>\n",
       "      <th>model</th>\n",
       "      <th>km</th>\n",
       "      <th>fuel</th>\n",
       "      <th>brand</th>\n",
       "      <th>repaired</th>\n",
       "    </tr>\n",
       "  </thead>\n",
       "  <tbody>\n",
       "    <tr>\n",
       "      <th>2</th>\n",
       "      <td>9800</td>\n",
       "      <td>suv</td>\n",
       "      <td>2004</td>\n",
       "      <td>auto</td>\n",
       "      <td>163</td>\n",
       "      <td>grand</td>\n",
       "      <td>125000</td>\n",
       "      <td>gasoline</td>\n",
       "      <td>jeep</td>\n",
       "      <td>unknown</td>\n",
       "    </tr>\n",
       "    <tr>\n",
       "      <th>3</th>\n",
       "      <td>1500</td>\n",
       "      <td>small</td>\n",
       "      <td>2001</td>\n",
       "      <td>manual</td>\n",
       "      <td>75</td>\n",
       "      <td>golf</td>\n",
       "      <td>150000</td>\n",
       "      <td>petrol</td>\n",
       "      <td>volkswagen</td>\n",
       "      <td>no</td>\n",
       "    </tr>\n",
       "    <tr>\n",
       "      <th>4</th>\n",
       "      <td>3600</td>\n",
       "      <td>small</td>\n",
       "      <td>2008</td>\n",
       "      <td>manual</td>\n",
       "      <td>69</td>\n",
       "      <td>fabia</td>\n",
       "      <td>90000</td>\n",
       "      <td>gasoline</td>\n",
       "      <td>skoda</td>\n",
       "      <td>no</td>\n",
       "    </tr>\n",
       "    <tr>\n",
       "      <th>5</th>\n",
       "      <td>650</td>\n",
       "      <td>sedan</td>\n",
       "      <td>1995</td>\n",
       "      <td>manual</td>\n",
       "      <td>102</td>\n",
       "      <td>3er</td>\n",
       "      <td>150000</td>\n",
       "      <td>petrol</td>\n",
       "      <td>bmw</td>\n",
       "      <td>yes</td>\n",
       "    </tr>\n",
       "    <tr>\n",
       "      <th>6</th>\n",
       "      <td>2200</td>\n",
       "      <td>convertible</td>\n",
       "      <td>2004</td>\n",
       "      <td>manual</td>\n",
       "      <td>109</td>\n",
       "      <td>2_reihe</td>\n",
       "      <td>150000</td>\n",
       "      <td>petrol</td>\n",
       "      <td>peugeot</td>\n",
       "      <td>no</td>\n",
       "    </tr>\n",
       "  </tbody>\n",
       "</table>\n",
       "</div>"
      ],
      "text/plain": [
       "   price vehicle_type  year gearbox  power    model      km      fuel  \\\n",
       "2   9800          suv  2004    auto    163    grand  125000  gasoline   \n",
       "3   1500        small  2001  manual     75     golf  150000    petrol   \n",
       "4   3600        small  2008  manual     69    fabia   90000  gasoline   \n",
       "5    650        sedan  1995  manual    102      3er  150000    petrol   \n",
       "6   2200  convertible  2004  manual    109  2_reihe  150000    petrol   \n",
       "\n",
       "        brand repaired  \n",
       "2        jeep  unknown  \n",
       "3  volkswagen       no  \n",
       "4       skoda       no  \n",
       "5         bmw      yes  \n",
       "6     peugeot       no  "
      ]
     },
     "execution_count": 43,
     "metadata": {},
     "output_type": "execute_result"
    }
   ],
   "source": [
    "# удаление неинформативных столбцов\n",
    "df.drop(labels=['created', 'created_year'], \n",
    "        axis=1, inplace=True)\n",
    "df.head()"
   ]
  },
  {
   "cell_type": "markdown",
   "metadata": {},
   "source": [
    "Обновим индексы, т.к. после удаления объектов остались пропуски."
   ]
  },
  {
   "cell_type": "code",
   "execution_count": 44,
   "metadata": {},
   "outputs": [
    {
     "data": {
      "text/html": [
       "<div>\n",
       "<style scoped>\n",
       "    .dataframe tbody tr th:only-of-type {\n",
       "        vertical-align: middle;\n",
       "    }\n",
       "\n",
       "    .dataframe tbody tr th {\n",
       "        vertical-align: top;\n",
       "    }\n",
       "\n",
       "    .dataframe thead th {\n",
       "        text-align: right;\n",
       "    }\n",
       "</style>\n",
       "<table border=\"1\" class=\"dataframe\">\n",
       "  <thead>\n",
       "    <tr style=\"text-align: right;\">\n",
       "      <th></th>\n",
       "      <th>price</th>\n",
       "      <th>vehicle_type</th>\n",
       "      <th>year</th>\n",
       "      <th>gearbox</th>\n",
       "      <th>power</th>\n",
       "      <th>model</th>\n",
       "      <th>km</th>\n",
       "      <th>fuel</th>\n",
       "      <th>brand</th>\n",
       "      <th>repaired</th>\n",
       "    </tr>\n",
       "  </thead>\n",
       "  <tbody>\n",
       "    <tr>\n",
       "      <th>0</th>\n",
       "      <td>9800</td>\n",
       "      <td>suv</td>\n",
       "      <td>2004</td>\n",
       "      <td>auto</td>\n",
       "      <td>163</td>\n",
       "      <td>grand</td>\n",
       "      <td>125000</td>\n",
       "      <td>gasoline</td>\n",
       "      <td>jeep</td>\n",
       "      <td>unknown</td>\n",
       "    </tr>\n",
       "    <tr>\n",
       "      <th>1</th>\n",
       "      <td>1500</td>\n",
       "      <td>small</td>\n",
       "      <td>2001</td>\n",
       "      <td>manual</td>\n",
       "      <td>75</td>\n",
       "      <td>golf</td>\n",
       "      <td>150000</td>\n",
       "      <td>petrol</td>\n",
       "      <td>volkswagen</td>\n",
       "      <td>no</td>\n",
       "    </tr>\n",
       "    <tr>\n",
       "      <th>2</th>\n",
       "      <td>3600</td>\n",
       "      <td>small</td>\n",
       "      <td>2008</td>\n",
       "      <td>manual</td>\n",
       "      <td>69</td>\n",
       "      <td>fabia</td>\n",
       "      <td>90000</td>\n",
       "      <td>gasoline</td>\n",
       "      <td>skoda</td>\n",
       "      <td>no</td>\n",
       "    </tr>\n",
       "    <tr>\n",
       "      <th>3</th>\n",
       "      <td>650</td>\n",
       "      <td>sedan</td>\n",
       "      <td>1995</td>\n",
       "      <td>manual</td>\n",
       "      <td>102</td>\n",
       "      <td>3er</td>\n",
       "      <td>150000</td>\n",
       "      <td>petrol</td>\n",
       "      <td>bmw</td>\n",
       "      <td>yes</td>\n",
       "    </tr>\n",
       "    <tr>\n",
       "      <th>4</th>\n",
       "      <td>2200</td>\n",
       "      <td>convertible</td>\n",
       "      <td>2004</td>\n",
       "      <td>manual</td>\n",
       "      <td>109</td>\n",
       "      <td>2_reihe</td>\n",
       "      <td>150000</td>\n",
       "      <td>petrol</td>\n",
       "      <td>peugeot</td>\n",
       "      <td>no</td>\n",
       "    </tr>\n",
       "  </tbody>\n",
       "</table>\n",
       "</div>"
      ],
      "text/plain": [
       "   price vehicle_type  year gearbox  power    model      km      fuel  \\\n",
       "0   9800          suv  2004    auto    163    grand  125000  gasoline   \n",
       "1   1500        small  2001  manual     75     golf  150000    petrol   \n",
       "2   3600        small  2008  manual     69    fabia   90000  gasoline   \n",
       "3    650        sedan  1995  manual    102      3er  150000    petrol   \n",
       "4   2200  convertible  2004  manual    109  2_reihe  150000    petrol   \n",
       "\n",
       "        brand repaired  \n",
       "0        jeep  unknown  \n",
       "1  volkswagen       no  \n",
       "2       skoda       no  \n",
       "3         bmw      yes  \n",
       "4     peugeot       no  "
      ]
     },
     "execution_count": 44,
     "metadata": {},
     "output_type": "execute_result"
    }
   ],
   "source": [
    "# переиндексирование датафрейма\n",
    "df.reset_index(drop=True, inplace=True)\n",
    "df.head()"
   ]
  },
  {
   "cell_type": "markdown",
   "metadata": {},
   "source": [
    "### Изменение типа столбцов"
   ]
  },
  {
   "cell_type": "markdown",
   "metadata": {},
   "source": [
    "Поменяем тип категориальных признаков с object на category. Это потребуется для корректной работы LightGBM."
   ]
  },
  {
   "cell_type": "code",
   "execution_count": 45,
   "metadata": {},
   "outputs": [
    {
     "name": "stdout",
     "output_type": "stream",
     "text": [
      "<class 'pandas.core.frame.DataFrame'>\n",
      "RangeIndex: 254628 entries, 0 to 254627\n",
      "Data columns (total 10 columns):\n",
      " #   Column        Non-Null Count   Dtype   \n",
      "---  ------        --------------   -----   \n",
      " 0   price         254628 non-null  int64   \n",
      " 1   vehicle_type  254628 non-null  category\n",
      " 2   year          254628 non-null  int64   \n",
      " 3   gearbox       254628 non-null  category\n",
      " 4   power         254628 non-null  int64   \n",
      " 5   model         254628 non-null  category\n",
      " 6   km            254628 non-null  int64   \n",
      " 7   fuel          254628 non-null  category\n",
      " 8   brand         254628 non-null  category\n",
      " 9   repaired      254628 non-null  category\n",
      "dtypes: category(6), int64(4)\n",
      "memory usage: 9.5 MB\n"
     ]
    }
   ],
   "source": [
    "cat_features = ['vehicle_type', 'gearbox', 'model', 'fuel', 'brand', 'repaired']\n",
    "df[cat_features] = df[cat_features].astype(\"category\")\n",
    "df.info()"
   ]
  },
  {
   "cell_type": "markdown",
   "metadata": {},
   "source": [
    "Взглянем на корреляцию численных признаков."
   ]
  },
  {
   "cell_type": "code",
   "execution_count": 46,
   "metadata": {},
   "outputs": [
    {
     "data": {
      "text/html": [
       "<div>\n",
       "<style scoped>\n",
       "    .dataframe tbody tr th:only-of-type {\n",
       "        vertical-align: middle;\n",
       "    }\n",
       "\n",
       "    .dataframe tbody tr th {\n",
       "        vertical-align: top;\n",
       "    }\n",
       "\n",
       "    .dataframe thead th {\n",
       "        text-align: right;\n",
       "    }\n",
       "</style>\n",
       "<table border=\"1\" class=\"dataframe\">\n",
       "  <thead>\n",
       "    <tr style=\"text-align: right;\">\n",
       "      <th></th>\n",
       "      <th>price</th>\n",
       "      <th>year</th>\n",
       "      <th>power</th>\n",
       "      <th>km</th>\n",
       "    </tr>\n",
       "  </thead>\n",
       "  <tbody>\n",
       "    <tr>\n",
       "      <th>price</th>\n",
       "      <td>1.000000</td>\n",
       "      <td>0.535035</td>\n",
       "      <td>0.444357</td>\n",
       "      <td>-0.347942</td>\n",
       "    </tr>\n",
       "    <tr>\n",
       "      <th>year</th>\n",
       "      <td>0.535035</td>\n",
       "      <td>1.000000</td>\n",
       "      <td>0.084184</td>\n",
       "      <td>-0.311886</td>\n",
       "    </tr>\n",
       "    <tr>\n",
       "      <th>power</th>\n",
       "      <td>0.444357</td>\n",
       "      <td>0.084184</td>\n",
       "      <td>1.000000</td>\n",
       "      <td>0.165990</td>\n",
       "    </tr>\n",
       "    <tr>\n",
       "      <th>km</th>\n",
       "      <td>-0.347942</td>\n",
       "      <td>-0.311886</td>\n",
       "      <td>0.165990</td>\n",
       "      <td>1.000000</td>\n",
       "    </tr>\n",
       "  </tbody>\n",
       "</table>\n",
       "</div>"
      ],
      "text/plain": [
       "          price      year     power        km\n",
       "price  1.000000  0.535035  0.444357 -0.347942\n",
       "year   0.535035  1.000000  0.084184 -0.311886\n",
       "power  0.444357  0.084184  1.000000  0.165990\n",
       "km    -0.347942 -0.311886  0.165990  1.000000"
      ]
     },
     "execution_count": 46,
     "metadata": {},
     "output_type": "execute_result"
    }
   ],
   "source": [
    "df.corr()"
   ]
  },
  {
   "cell_type": "markdown",
   "metadata": {},
   "source": [
    "## Подготовка признаков для моделей"
   ]
  },
  {
   "cell_type": "markdown",
   "metadata": {},
   "source": [
    "Для линейной регрессии и дерева решений признаки нужно закодировать, разделить на выборки и стандартизировать.  \n",
    "\n",
    "Для модели градиентного бустинга требуется только разделить и стандартизировать признаки, т.к. алгоритм работает с категориальными признаками напрямую. Однако, процесс кодирования в модели будет занимать какое-то время, что увеличивает длительность обучения, поэтому закодируем категориальные признаки перед обучением модели."
   ]
  },
  {
   "cell_type": "markdown",
   "metadata": {},
   "source": [
    "### Деление на выборки"
   ]
  },
  {
   "cell_type": "markdown",
   "metadata": {},
   "source": [
    "Разделим датафрейм на обучающую и тестовую выборки в отношении 3:1."
   ]
  },
  {
   "cell_type": "code",
   "execution_count": 47,
   "metadata": {},
   "outputs": [],
   "source": [
    "target = df.price\n",
    "features = df.drop('price', axis=1)\n",
    "\n",
    "state=12345\n",
    "\n",
    "target_train, target_test, features_train, features_test = \\\n",
    "    train_test_split(target, features, test_size=0.25, random_state=state)"
   ]
  },
  {
   "cell_type": "code",
   "execution_count": 48,
   "metadata": {},
   "outputs": [
    {
     "data": {
      "text/plain": [
       "((190971,), (63657,), (190971, 9), (63657, 9))"
      ]
     },
     "execution_count": 48,
     "metadata": {},
     "output_type": "execute_result"
    }
   ],
   "source": [
    "target_train.shape, target_test.shape, features_train.shape, features_test.shape"
   ]
  },
  {
   "cell_type": "markdown",
   "metadata": {},
   "source": [
    "### Кодирование признаков"
   ]
  },
  {
   "cell_type": "code",
   "execution_count": 49,
   "metadata": {},
   "outputs": [],
   "source": [
    "# категориальные признаки\n",
    "cat_features = df.select_dtypes('category').columns\n",
    "\n",
    "# функция прямого кодирования без дамми-ловушки\n",
    "ohe = OneHotEncoder(sparse=False, handle_unknown='ignore')\n",
    "\n",
    "# обучение и преобразование категориальных признаков, получаем массив\n",
    "features_train_ohe = ohe.fit_transform(features_train[cat_features])\n",
    "features_test_ohe = ohe.transform(features_test[cat_features])\n",
    "\n",
    "# добавление в признаки закодированных столбцов\n",
    "features_train.loc[:, ohe.get_feature_names()] = features_train_ohe\n",
    "features_test.loc[:, ohe.get_feature_names()] = features_test_ohe\n",
    "\n",
    "# удаление из признаков первоначальных категориальных столбцов\n",
    "features_train.drop(columns=cat_features, inplace=True)\n",
    "features_test.drop(columns=cat_features, inplace=True)"
   ]
  },
  {
   "cell_type": "code",
   "execution_count": 50,
   "metadata": {},
   "outputs": [
    {
     "data": {
      "text/html": [
       "<div>\n",
       "<style scoped>\n",
       "    .dataframe tbody tr th:only-of-type {\n",
       "        vertical-align: middle;\n",
       "    }\n",
       "\n",
       "    .dataframe tbody tr th {\n",
       "        vertical-align: top;\n",
       "    }\n",
       "\n",
       "    .dataframe thead th {\n",
       "        text-align: right;\n",
       "    }\n",
       "</style>\n",
       "<table border=\"1\" class=\"dataframe\">\n",
       "  <thead>\n",
       "    <tr style=\"text-align: right;\">\n",
       "      <th></th>\n",
       "      <th>year</th>\n",
       "      <th>power</th>\n",
       "      <th>km</th>\n",
       "      <th>x0_bus</th>\n",
       "      <th>x0_convertible</th>\n",
       "      <th>x0_coupe</th>\n",
       "      <th>x0_other</th>\n",
       "      <th>x0_sedan</th>\n",
       "      <th>x0_small</th>\n",
       "      <th>x0_suv</th>\n",
       "      <th>...</th>\n",
       "      <th>x4_sonstige_autos</th>\n",
       "      <th>x4_subaru</th>\n",
       "      <th>x4_suzuki</th>\n",
       "      <th>x4_toyota</th>\n",
       "      <th>x4_trabant</th>\n",
       "      <th>x4_volkswagen</th>\n",
       "      <th>x4_volvo</th>\n",
       "      <th>x5_no</th>\n",
       "      <th>x5_unknown</th>\n",
       "      <th>x5_yes</th>\n",
       "    </tr>\n",
       "  </thead>\n",
       "  <tbody>\n",
       "    <tr>\n",
       "      <th>65739</th>\n",
       "      <td>1996</td>\n",
       "      <td>147</td>\n",
       "      <td>150000</td>\n",
       "      <td>0.0</td>\n",
       "      <td>0.0</td>\n",
       "      <td>1.0</td>\n",
       "      <td>0.0</td>\n",
       "      <td>0.0</td>\n",
       "      <td>0.0</td>\n",
       "      <td>0.0</td>\n",
       "      <td>...</td>\n",
       "      <td>0.0</td>\n",
       "      <td>0.0</td>\n",
       "      <td>0.0</td>\n",
       "      <td>0.0</td>\n",
       "      <td>0.0</td>\n",
       "      <td>0.0</td>\n",
       "      <td>0.0</td>\n",
       "      <td>1.0</td>\n",
       "      <td>0.0</td>\n",
       "      <td>0.0</td>\n",
       "    </tr>\n",
       "    <tr>\n",
       "      <th>8310</th>\n",
       "      <td>1999</td>\n",
       "      <td>116</td>\n",
       "      <td>100000</td>\n",
       "      <td>0.0</td>\n",
       "      <td>0.0</td>\n",
       "      <td>0.0</td>\n",
       "      <td>0.0</td>\n",
       "      <td>1.0</td>\n",
       "      <td>0.0</td>\n",
       "      <td>0.0</td>\n",
       "      <td>...</td>\n",
       "      <td>0.0</td>\n",
       "      <td>0.0</td>\n",
       "      <td>0.0</td>\n",
       "      <td>0.0</td>\n",
       "      <td>0.0</td>\n",
       "      <td>0.0</td>\n",
       "      <td>0.0</td>\n",
       "      <td>1.0</td>\n",
       "      <td>0.0</td>\n",
       "      <td>0.0</td>\n",
       "    </tr>\n",
       "    <tr>\n",
       "      <th>188112</th>\n",
       "      <td>1992</td>\n",
       "      <td>140</td>\n",
       "      <td>150000</td>\n",
       "      <td>0.0</td>\n",
       "      <td>0.0</td>\n",
       "      <td>1.0</td>\n",
       "      <td>0.0</td>\n",
       "      <td>0.0</td>\n",
       "      <td>0.0</td>\n",
       "      <td>0.0</td>\n",
       "      <td>...</td>\n",
       "      <td>0.0</td>\n",
       "      <td>0.0</td>\n",
       "      <td>0.0</td>\n",
       "      <td>0.0</td>\n",
       "      <td>0.0</td>\n",
       "      <td>0.0</td>\n",
       "      <td>0.0</td>\n",
       "      <td>0.0</td>\n",
       "      <td>1.0</td>\n",
       "      <td>0.0</td>\n",
       "    </tr>\n",
       "    <tr>\n",
       "      <th>90169</th>\n",
       "      <td>2007</td>\n",
       "      <td>130</td>\n",
       "      <td>90000</td>\n",
       "      <td>0.0</td>\n",
       "      <td>0.0</td>\n",
       "      <td>0.0</td>\n",
       "      <td>0.0</td>\n",
       "      <td>0.0</td>\n",
       "      <td>0.0</td>\n",
       "      <td>0.0</td>\n",
       "      <td>...</td>\n",
       "      <td>0.0</td>\n",
       "      <td>0.0</td>\n",
       "      <td>0.0</td>\n",
       "      <td>0.0</td>\n",
       "      <td>0.0</td>\n",
       "      <td>0.0</td>\n",
       "      <td>0.0</td>\n",
       "      <td>1.0</td>\n",
       "      <td>0.0</td>\n",
       "      <td>0.0</td>\n",
       "    </tr>\n",
       "    <tr>\n",
       "      <th>210600</th>\n",
       "      <td>2003</td>\n",
       "      <td>136</td>\n",
       "      <td>150000</td>\n",
       "      <td>1.0</td>\n",
       "      <td>0.0</td>\n",
       "      <td>0.0</td>\n",
       "      <td>0.0</td>\n",
       "      <td>0.0</td>\n",
       "      <td>0.0</td>\n",
       "      <td>0.0</td>\n",
       "      <td>...</td>\n",
       "      <td>0.0</td>\n",
       "      <td>0.0</td>\n",
       "      <td>0.0</td>\n",
       "      <td>0.0</td>\n",
       "      <td>0.0</td>\n",
       "      <td>1.0</td>\n",
       "      <td>0.0</td>\n",
       "      <td>1.0</td>\n",
       "      <td>0.0</td>\n",
       "      <td>0.0</td>\n",
       "    </tr>\n",
       "  </tbody>\n",
       "</table>\n",
       "<p>5 rows × 309 columns</p>\n",
       "</div>"
      ],
      "text/plain": [
       "        year  power      km  x0_bus  x0_convertible  x0_coupe  x0_other  \\\n",
       "65739   1996    147  150000     0.0             0.0       1.0       0.0   \n",
       "8310    1999    116  100000     0.0             0.0       0.0       0.0   \n",
       "188112  1992    140  150000     0.0             0.0       1.0       0.0   \n",
       "90169   2007    130   90000     0.0             0.0       0.0       0.0   \n",
       "210600  2003    136  150000     1.0             0.0       0.0       0.0   \n",
       "\n",
       "        x0_sedan  x0_small  x0_suv  ...  x4_sonstige_autos  x4_subaru  \\\n",
       "65739        0.0       0.0     0.0  ...                0.0        0.0   \n",
       "8310         1.0       0.0     0.0  ...                0.0        0.0   \n",
       "188112       0.0       0.0     0.0  ...                0.0        0.0   \n",
       "90169        0.0       0.0     0.0  ...                0.0        0.0   \n",
       "210600       0.0       0.0     0.0  ...                0.0        0.0   \n",
       "\n",
       "        x4_suzuki  x4_toyota  x4_trabant  x4_volkswagen  x4_volvo  x5_no  \\\n",
       "65739         0.0        0.0         0.0            0.0       0.0    1.0   \n",
       "8310          0.0        0.0         0.0            0.0       0.0    1.0   \n",
       "188112        0.0        0.0         0.0            0.0       0.0    0.0   \n",
       "90169         0.0        0.0         0.0            0.0       0.0    1.0   \n",
       "210600        0.0        0.0         0.0            1.0       0.0    1.0   \n",
       "\n",
       "        x5_unknown  x5_yes  \n",
       "65739          0.0     0.0  \n",
       "8310           0.0     0.0  \n",
       "188112         1.0     0.0  \n",
       "90169          0.0     0.0  \n",
       "210600         0.0     0.0  \n",
       "\n",
       "[5 rows x 309 columns]"
      ]
     },
     "metadata": {},
     "output_type": "display_data"
    },
    {
     "data": {
      "text/html": [
       "<div>\n",
       "<style scoped>\n",
       "    .dataframe tbody tr th:only-of-type {\n",
       "        vertical-align: middle;\n",
       "    }\n",
       "\n",
       "    .dataframe tbody tr th {\n",
       "        vertical-align: top;\n",
       "    }\n",
       "\n",
       "    .dataframe thead th {\n",
       "        text-align: right;\n",
       "    }\n",
       "</style>\n",
       "<table border=\"1\" class=\"dataframe\">\n",
       "  <thead>\n",
       "    <tr style=\"text-align: right;\">\n",
       "      <th></th>\n",
       "      <th>year</th>\n",
       "      <th>power</th>\n",
       "      <th>km</th>\n",
       "      <th>x0_bus</th>\n",
       "      <th>x0_convertible</th>\n",
       "      <th>x0_coupe</th>\n",
       "      <th>x0_other</th>\n",
       "      <th>x0_sedan</th>\n",
       "      <th>x0_small</th>\n",
       "      <th>x0_suv</th>\n",
       "      <th>...</th>\n",
       "      <th>x4_sonstige_autos</th>\n",
       "      <th>x4_subaru</th>\n",
       "      <th>x4_suzuki</th>\n",
       "      <th>x4_toyota</th>\n",
       "      <th>x4_trabant</th>\n",
       "      <th>x4_volkswagen</th>\n",
       "      <th>x4_volvo</th>\n",
       "      <th>x5_no</th>\n",
       "      <th>x5_unknown</th>\n",
       "      <th>x5_yes</th>\n",
       "    </tr>\n",
       "  </thead>\n",
       "  <tbody>\n",
       "    <tr>\n",
       "      <th>28837</th>\n",
       "      <td>2005</td>\n",
       "      <td>131</td>\n",
       "      <td>150000</td>\n",
       "      <td>1.0</td>\n",
       "      <td>0.0</td>\n",
       "      <td>0.0</td>\n",
       "      <td>0.0</td>\n",
       "      <td>0.0</td>\n",
       "      <td>0.0</td>\n",
       "      <td>0.0</td>\n",
       "      <td>...</td>\n",
       "      <td>0.0</td>\n",
       "      <td>0.0</td>\n",
       "      <td>0.0</td>\n",
       "      <td>0.0</td>\n",
       "      <td>0.0</td>\n",
       "      <td>1.0</td>\n",
       "      <td>0.0</td>\n",
       "      <td>0.0</td>\n",
       "      <td>1.0</td>\n",
       "      <td>0.0</td>\n",
       "    </tr>\n",
       "    <tr>\n",
       "      <th>213028</th>\n",
       "      <td>2003</td>\n",
       "      <td>150</td>\n",
       "      <td>150000</td>\n",
       "      <td>0.0</td>\n",
       "      <td>1.0</td>\n",
       "      <td>0.0</td>\n",
       "      <td>0.0</td>\n",
       "      <td>0.0</td>\n",
       "      <td>0.0</td>\n",
       "      <td>0.0</td>\n",
       "      <td>...</td>\n",
       "      <td>0.0</td>\n",
       "      <td>0.0</td>\n",
       "      <td>0.0</td>\n",
       "      <td>0.0</td>\n",
       "      <td>0.0</td>\n",
       "      <td>1.0</td>\n",
       "      <td>0.0</td>\n",
       "      <td>1.0</td>\n",
       "      <td>0.0</td>\n",
       "      <td>0.0</td>\n",
       "    </tr>\n",
       "    <tr>\n",
       "      <th>164383</th>\n",
       "      <td>2002</td>\n",
       "      <td>150</td>\n",
       "      <td>150000</td>\n",
       "      <td>0.0</td>\n",
       "      <td>0.0</td>\n",
       "      <td>0.0</td>\n",
       "      <td>0.0</td>\n",
       "      <td>1.0</td>\n",
       "      <td>0.0</td>\n",
       "      <td>0.0</td>\n",
       "      <td>...</td>\n",
       "      <td>0.0</td>\n",
       "      <td>0.0</td>\n",
       "      <td>0.0</td>\n",
       "      <td>0.0</td>\n",
       "      <td>0.0</td>\n",
       "      <td>0.0</td>\n",
       "      <td>0.0</td>\n",
       "      <td>0.0</td>\n",
       "      <td>1.0</td>\n",
       "      <td>0.0</td>\n",
       "    </tr>\n",
       "    <tr>\n",
       "      <th>89009</th>\n",
       "      <td>2002</td>\n",
       "      <td>101</td>\n",
       "      <td>150000</td>\n",
       "      <td>0.0</td>\n",
       "      <td>0.0</td>\n",
       "      <td>0.0</td>\n",
       "      <td>0.0</td>\n",
       "      <td>0.0</td>\n",
       "      <td>0.0</td>\n",
       "      <td>0.0</td>\n",
       "      <td>...</td>\n",
       "      <td>0.0</td>\n",
       "      <td>0.0</td>\n",
       "      <td>0.0</td>\n",
       "      <td>0.0</td>\n",
       "      <td>0.0</td>\n",
       "      <td>1.0</td>\n",
       "      <td>0.0</td>\n",
       "      <td>1.0</td>\n",
       "      <td>0.0</td>\n",
       "      <td>0.0</td>\n",
       "    </tr>\n",
       "    <tr>\n",
       "      <th>93353</th>\n",
       "      <td>2008</td>\n",
       "      <td>160</td>\n",
       "      <td>125000</td>\n",
       "      <td>0.0</td>\n",
       "      <td>1.0</td>\n",
       "      <td>0.0</td>\n",
       "      <td>0.0</td>\n",
       "      <td>0.0</td>\n",
       "      <td>0.0</td>\n",
       "      <td>0.0</td>\n",
       "      <td>...</td>\n",
       "      <td>0.0</td>\n",
       "      <td>0.0</td>\n",
       "      <td>0.0</td>\n",
       "      <td>0.0</td>\n",
       "      <td>0.0</td>\n",
       "      <td>0.0</td>\n",
       "      <td>0.0</td>\n",
       "      <td>1.0</td>\n",
       "      <td>0.0</td>\n",
       "      <td>0.0</td>\n",
       "    </tr>\n",
       "  </tbody>\n",
       "</table>\n",
       "<p>5 rows × 309 columns</p>\n",
       "</div>"
      ],
      "text/plain": [
       "        year  power      km  x0_bus  x0_convertible  x0_coupe  x0_other  \\\n",
       "28837   2005    131  150000     1.0             0.0       0.0       0.0   \n",
       "213028  2003    150  150000     0.0             1.0       0.0       0.0   \n",
       "164383  2002    150  150000     0.0             0.0       0.0       0.0   \n",
       "89009   2002    101  150000     0.0             0.0       0.0       0.0   \n",
       "93353   2008    160  125000     0.0             1.0       0.0       0.0   \n",
       "\n",
       "        x0_sedan  x0_small  x0_suv  ...  x4_sonstige_autos  x4_subaru  \\\n",
       "28837        0.0       0.0     0.0  ...                0.0        0.0   \n",
       "213028       0.0       0.0     0.0  ...                0.0        0.0   \n",
       "164383       1.0       0.0     0.0  ...                0.0        0.0   \n",
       "89009        0.0       0.0     0.0  ...                0.0        0.0   \n",
       "93353        0.0       0.0     0.0  ...                0.0        0.0   \n",
       "\n",
       "        x4_suzuki  x4_toyota  x4_trabant  x4_volkswagen  x4_volvo  x5_no  \\\n",
       "28837         0.0        0.0         0.0            1.0       0.0    0.0   \n",
       "213028        0.0        0.0         0.0            1.0       0.0    1.0   \n",
       "164383        0.0        0.0         0.0            0.0       0.0    0.0   \n",
       "89009         0.0        0.0         0.0            1.0       0.0    1.0   \n",
       "93353         0.0        0.0         0.0            0.0       0.0    1.0   \n",
       "\n",
       "        x5_unknown  x5_yes  \n",
       "28837          1.0     0.0  \n",
       "213028         0.0     0.0  \n",
       "164383         1.0     0.0  \n",
       "89009          0.0     0.0  \n",
       "93353          0.0     0.0  \n",
       "\n",
       "[5 rows x 309 columns]"
      ]
     },
     "metadata": {},
     "output_type": "display_data"
    }
   ],
   "source": [
    "del features_train_ohe, features_test_ohe, ohe\n",
    "display(features_train.head(), features_test.head())"
   ]
  },
  {
   "cell_type": "markdown",
   "metadata": {},
   "source": [
    "### Стандартизация признаков"
   ]
  },
  {
   "cell_type": "code",
   "execution_count": 51,
   "metadata": {
    "scrolled": true
   },
   "outputs": [
    {
     "data": {
      "text/html": [
       "<div>\n",
       "<style scoped>\n",
       "    .dataframe tbody tr th:only-of-type {\n",
       "        vertical-align: middle;\n",
       "    }\n",
       "\n",
       "    .dataframe tbody tr th {\n",
       "        vertical-align: top;\n",
       "    }\n",
       "\n",
       "    .dataframe thead th {\n",
       "        text-align: right;\n",
       "    }\n",
       "</style>\n",
       "<table border=\"1\" class=\"dataframe\">\n",
       "  <thead>\n",
       "    <tr style=\"text-align: right;\">\n",
       "      <th></th>\n",
       "      <th>year</th>\n",
       "      <th>power</th>\n",
       "      <th>km</th>\n",
       "      <th>x0_bus</th>\n",
       "      <th>x0_convertible</th>\n",
       "      <th>x0_coupe</th>\n",
       "      <th>x0_other</th>\n",
       "      <th>x0_sedan</th>\n",
       "      <th>x0_small</th>\n",
       "      <th>x0_suv</th>\n",
       "      <th>...</th>\n",
       "      <th>x4_sonstige_autos</th>\n",
       "      <th>x4_subaru</th>\n",
       "      <th>x4_suzuki</th>\n",
       "      <th>x4_toyota</th>\n",
       "      <th>x4_trabant</th>\n",
       "      <th>x4_volkswagen</th>\n",
       "      <th>x4_volvo</th>\n",
       "      <th>x5_no</th>\n",
       "      <th>x5_unknown</th>\n",
       "      <th>x5_yes</th>\n",
       "    </tr>\n",
       "  </thead>\n",
       "  <tbody>\n",
       "    <tr>\n",
       "      <th>65739</th>\n",
       "      <td>-1.132399</td>\n",
       "      <td>0.755987</td>\n",
       "      <td>0.560209</td>\n",
       "      <td>0.0</td>\n",
       "      <td>0.0</td>\n",
       "      <td>1.0</td>\n",
       "      <td>0.0</td>\n",
       "      <td>0.0</td>\n",
       "      <td>0.0</td>\n",
       "      <td>0.0</td>\n",
       "      <td>...</td>\n",
       "      <td>0.0</td>\n",
       "      <td>0.0</td>\n",
       "      <td>0.0</td>\n",
       "      <td>0.0</td>\n",
       "      <td>0.0</td>\n",
       "      <td>0.0</td>\n",
       "      <td>0.0</td>\n",
       "      <td>1.0</td>\n",
       "      <td>0.0</td>\n",
       "      <td>0.0</td>\n",
       "    </tr>\n",
       "    <tr>\n",
       "      <th>8310</th>\n",
       "      <td>-0.623562</td>\n",
       "      <td>0.036882</td>\n",
       "      <td>-0.880887</td>\n",
       "      <td>0.0</td>\n",
       "      <td>0.0</td>\n",
       "      <td>0.0</td>\n",
       "      <td>0.0</td>\n",
       "      <td>1.0</td>\n",
       "      <td>0.0</td>\n",
       "      <td>0.0</td>\n",
       "      <td>...</td>\n",
       "      <td>0.0</td>\n",
       "      <td>0.0</td>\n",
       "      <td>0.0</td>\n",
       "      <td>0.0</td>\n",
       "      <td>0.0</td>\n",
       "      <td>0.0</td>\n",
       "      <td>0.0</td>\n",
       "      <td>1.0</td>\n",
       "      <td>0.0</td>\n",
       "      <td>0.0</td>\n",
       "    </tr>\n",
       "    <tr>\n",
       "      <th>188112</th>\n",
       "      <td>-1.810848</td>\n",
       "      <td>0.593608</td>\n",
       "      <td>0.560209</td>\n",
       "      <td>0.0</td>\n",
       "      <td>0.0</td>\n",
       "      <td>1.0</td>\n",
       "      <td>0.0</td>\n",
       "      <td>0.0</td>\n",
       "      <td>0.0</td>\n",
       "      <td>0.0</td>\n",
       "      <td>...</td>\n",
       "      <td>0.0</td>\n",
       "      <td>0.0</td>\n",
       "      <td>0.0</td>\n",
       "      <td>0.0</td>\n",
       "      <td>0.0</td>\n",
       "      <td>0.0</td>\n",
       "      <td>0.0</td>\n",
       "      <td>0.0</td>\n",
       "      <td>1.0</td>\n",
       "      <td>0.0</td>\n",
       "    </tr>\n",
       "    <tr>\n",
       "      <th>90169</th>\n",
       "      <td>0.733336</td>\n",
       "      <td>0.361639</td>\n",
       "      <td>-1.169106</td>\n",
       "      <td>0.0</td>\n",
       "      <td>0.0</td>\n",
       "      <td>0.0</td>\n",
       "      <td>0.0</td>\n",
       "      <td>0.0</td>\n",
       "      <td>0.0</td>\n",
       "      <td>0.0</td>\n",
       "      <td>...</td>\n",
       "      <td>0.0</td>\n",
       "      <td>0.0</td>\n",
       "      <td>0.0</td>\n",
       "      <td>0.0</td>\n",
       "      <td>0.0</td>\n",
       "      <td>0.0</td>\n",
       "      <td>0.0</td>\n",
       "      <td>1.0</td>\n",
       "      <td>0.0</td>\n",
       "      <td>0.0</td>\n",
       "    </tr>\n",
       "    <tr>\n",
       "      <th>210600</th>\n",
       "      <td>0.054887</td>\n",
       "      <td>0.500821</td>\n",
       "      <td>0.560209</td>\n",
       "      <td>1.0</td>\n",
       "      <td>0.0</td>\n",
       "      <td>0.0</td>\n",
       "      <td>0.0</td>\n",
       "      <td>0.0</td>\n",
       "      <td>0.0</td>\n",
       "      <td>0.0</td>\n",
       "      <td>...</td>\n",
       "      <td>0.0</td>\n",
       "      <td>0.0</td>\n",
       "      <td>0.0</td>\n",
       "      <td>0.0</td>\n",
       "      <td>0.0</td>\n",
       "      <td>1.0</td>\n",
       "      <td>0.0</td>\n",
       "      <td>1.0</td>\n",
       "      <td>0.0</td>\n",
       "      <td>0.0</td>\n",
       "    </tr>\n",
       "  </tbody>\n",
       "</table>\n",
       "<p>5 rows × 309 columns</p>\n",
       "</div>"
      ],
      "text/plain": [
       "            year     power        km  x0_bus  x0_convertible  x0_coupe  \\\n",
       "65739  -1.132399  0.755987  0.560209     0.0             0.0       1.0   \n",
       "8310   -0.623562  0.036882 -0.880887     0.0             0.0       0.0   \n",
       "188112 -1.810848  0.593608  0.560209     0.0             0.0       1.0   \n",
       "90169   0.733336  0.361639 -1.169106     0.0             0.0       0.0   \n",
       "210600  0.054887  0.500821  0.560209     1.0             0.0       0.0   \n",
       "\n",
       "        x0_other  x0_sedan  x0_small  x0_suv  ...  x4_sonstige_autos  \\\n",
       "65739        0.0       0.0       0.0     0.0  ...                0.0   \n",
       "8310         0.0       1.0       0.0     0.0  ...                0.0   \n",
       "188112       0.0       0.0       0.0     0.0  ...                0.0   \n",
       "90169        0.0       0.0       0.0     0.0  ...                0.0   \n",
       "210600       0.0       0.0       0.0     0.0  ...                0.0   \n",
       "\n",
       "        x4_subaru  x4_suzuki  x4_toyota  x4_trabant  x4_volkswagen  x4_volvo  \\\n",
       "65739         0.0        0.0        0.0         0.0            0.0       0.0   \n",
       "8310          0.0        0.0        0.0         0.0            0.0       0.0   \n",
       "188112        0.0        0.0        0.0         0.0            0.0       0.0   \n",
       "90169         0.0        0.0        0.0         0.0            0.0       0.0   \n",
       "210600        0.0        0.0        0.0         0.0            1.0       0.0   \n",
       "\n",
       "        x5_no  x5_unknown  x5_yes  \n",
       "65739     1.0         0.0     0.0  \n",
       "8310      1.0         0.0     0.0  \n",
       "188112    0.0         1.0     0.0  \n",
       "90169     1.0         0.0     0.0  \n",
       "210600    1.0         0.0     0.0  \n",
       "\n",
       "[5 rows x 309 columns]"
      ]
     },
     "metadata": {},
     "output_type": "display_data"
    },
    {
     "data": {
      "text/html": [
       "<div>\n",
       "<style scoped>\n",
       "    .dataframe tbody tr th:only-of-type {\n",
       "        vertical-align: middle;\n",
       "    }\n",
       "\n",
       "    .dataframe tbody tr th {\n",
       "        vertical-align: top;\n",
       "    }\n",
       "\n",
       "    .dataframe thead th {\n",
       "        text-align: right;\n",
       "    }\n",
       "</style>\n",
       "<table border=\"1\" class=\"dataframe\">\n",
       "  <thead>\n",
       "    <tr style=\"text-align: right;\">\n",
       "      <th></th>\n",
       "      <th>year</th>\n",
       "      <th>power</th>\n",
       "      <th>km</th>\n",
       "      <th>x0_bus</th>\n",
       "      <th>x0_convertible</th>\n",
       "      <th>x0_coupe</th>\n",
       "      <th>x0_other</th>\n",
       "      <th>x0_sedan</th>\n",
       "      <th>x0_small</th>\n",
       "      <th>x0_suv</th>\n",
       "      <th>...</th>\n",
       "      <th>x4_sonstige_autos</th>\n",
       "      <th>x4_subaru</th>\n",
       "      <th>x4_suzuki</th>\n",
       "      <th>x4_toyota</th>\n",
       "      <th>x4_trabant</th>\n",
       "      <th>x4_volkswagen</th>\n",
       "      <th>x4_volvo</th>\n",
       "      <th>x5_no</th>\n",
       "      <th>x5_unknown</th>\n",
       "      <th>x5_yes</th>\n",
       "    </tr>\n",
       "  </thead>\n",
       "  <tbody>\n",
       "    <tr>\n",
       "      <th>28837</th>\n",
       "      <td>0.394112</td>\n",
       "      <td>0.384836</td>\n",
       "      <td>0.560209</td>\n",
       "      <td>1.0</td>\n",
       "      <td>0.0</td>\n",
       "      <td>0.0</td>\n",
       "      <td>0.0</td>\n",
       "      <td>0.0</td>\n",
       "      <td>0.0</td>\n",
       "      <td>0.0</td>\n",
       "      <td>...</td>\n",
       "      <td>0.0</td>\n",
       "      <td>0.0</td>\n",
       "      <td>0.0</td>\n",
       "      <td>0.0</td>\n",
       "      <td>0.0</td>\n",
       "      <td>1.0</td>\n",
       "      <td>0.0</td>\n",
       "      <td>0.0</td>\n",
       "      <td>1.0</td>\n",
       "      <td>0.0</td>\n",
       "    </tr>\n",
       "    <tr>\n",
       "      <th>213028</th>\n",
       "      <td>0.054887</td>\n",
       "      <td>0.825577</td>\n",
       "      <td>0.560209</td>\n",
       "      <td>0.0</td>\n",
       "      <td>1.0</td>\n",
       "      <td>0.0</td>\n",
       "      <td>0.0</td>\n",
       "      <td>0.0</td>\n",
       "      <td>0.0</td>\n",
       "      <td>0.0</td>\n",
       "      <td>...</td>\n",
       "      <td>0.0</td>\n",
       "      <td>0.0</td>\n",
       "      <td>0.0</td>\n",
       "      <td>0.0</td>\n",
       "      <td>0.0</td>\n",
       "      <td>1.0</td>\n",
       "      <td>0.0</td>\n",
       "      <td>1.0</td>\n",
       "      <td>0.0</td>\n",
       "      <td>0.0</td>\n",
       "    </tr>\n",
       "    <tr>\n",
       "      <th>164383</th>\n",
       "      <td>-0.114725</td>\n",
       "      <td>0.825577</td>\n",
       "      <td>0.560209</td>\n",
       "      <td>0.0</td>\n",
       "      <td>0.0</td>\n",
       "      <td>0.0</td>\n",
       "      <td>0.0</td>\n",
       "      <td>1.0</td>\n",
       "      <td>0.0</td>\n",
       "      <td>0.0</td>\n",
       "      <td>...</td>\n",
       "      <td>0.0</td>\n",
       "      <td>0.0</td>\n",
       "      <td>0.0</td>\n",
       "      <td>0.0</td>\n",
       "      <td>0.0</td>\n",
       "      <td>0.0</td>\n",
       "      <td>0.0</td>\n",
       "      <td>0.0</td>\n",
       "      <td>1.0</td>\n",
       "      <td>0.0</td>\n",
       "    </tr>\n",
       "    <tr>\n",
       "      <th>89009</th>\n",
       "      <td>-0.114725</td>\n",
       "      <td>-0.311071</td>\n",
       "      <td>0.560209</td>\n",
       "      <td>0.0</td>\n",
       "      <td>0.0</td>\n",
       "      <td>0.0</td>\n",
       "      <td>0.0</td>\n",
       "      <td>0.0</td>\n",
       "      <td>0.0</td>\n",
       "      <td>0.0</td>\n",
       "      <td>...</td>\n",
       "      <td>0.0</td>\n",
       "      <td>0.0</td>\n",
       "      <td>0.0</td>\n",
       "      <td>0.0</td>\n",
       "      <td>0.0</td>\n",
       "      <td>1.0</td>\n",
       "      <td>0.0</td>\n",
       "      <td>1.0</td>\n",
       "      <td>0.0</td>\n",
       "      <td>0.0</td>\n",
       "    </tr>\n",
       "    <tr>\n",
       "      <th>93353</th>\n",
       "      <td>0.902949</td>\n",
       "      <td>1.057547</td>\n",
       "      <td>-0.160339</td>\n",
       "      <td>0.0</td>\n",
       "      <td>1.0</td>\n",
       "      <td>0.0</td>\n",
       "      <td>0.0</td>\n",
       "      <td>0.0</td>\n",
       "      <td>0.0</td>\n",
       "      <td>0.0</td>\n",
       "      <td>...</td>\n",
       "      <td>0.0</td>\n",
       "      <td>0.0</td>\n",
       "      <td>0.0</td>\n",
       "      <td>0.0</td>\n",
       "      <td>0.0</td>\n",
       "      <td>0.0</td>\n",
       "      <td>0.0</td>\n",
       "      <td>1.0</td>\n",
       "      <td>0.0</td>\n",
       "      <td>0.0</td>\n",
       "    </tr>\n",
       "  </tbody>\n",
       "</table>\n",
       "<p>5 rows × 309 columns</p>\n",
       "</div>"
      ],
      "text/plain": [
       "            year     power        km  x0_bus  x0_convertible  x0_coupe  \\\n",
       "28837   0.394112  0.384836  0.560209     1.0             0.0       0.0   \n",
       "213028  0.054887  0.825577  0.560209     0.0             1.0       0.0   \n",
       "164383 -0.114725  0.825577  0.560209     0.0             0.0       0.0   \n",
       "89009  -0.114725 -0.311071  0.560209     0.0             0.0       0.0   \n",
       "93353   0.902949  1.057547 -0.160339     0.0             1.0       0.0   \n",
       "\n",
       "        x0_other  x0_sedan  x0_small  x0_suv  ...  x4_sonstige_autos  \\\n",
       "28837        0.0       0.0       0.0     0.0  ...                0.0   \n",
       "213028       0.0       0.0       0.0     0.0  ...                0.0   \n",
       "164383       0.0       1.0       0.0     0.0  ...                0.0   \n",
       "89009        0.0       0.0       0.0     0.0  ...                0.0   \n",
       "93353        0.0       0.0       0.0     0.0  ...                0.0   \n",
       "\n",
       "        x4_subaru  x4_suzuki  x4_toyota  x4_trabant  x4_volkswagen  x4_volvo  \\\n",
       "28837         0.0        0.0        0.0         0.0            1.0       0.0   \n",
       "213028        0.0        0.0        0.0         0.0            1.0       0.0   \n",
       "164383        0.0        0.0        0.0         0.0            0.0       0.0   \n",
       "89009         0.0        0.0        0.0         0.0            1.0       0.0   \n",
       "93353         0.0        0.0        0.0         0.0            0.0       0.0   \n",
       "\n",
       "        x5_no  x5_unknown  x5_yes  \n",
       "28837     0.0         1.0     0.0  \n",
       "213028    1.0         0.0     0.0  \n",
       "164383    0.0         1.0     0.0  \n",
       "89009     1.0         0.0     0.0  \n",
       "93353     1.0         0.0     0.0  \n",
       "\n",
       "[5 rows x 309 columns]"
      ]
     },
     "metadata": {},
     "output_type": "display_data"
    }
   ],
   "source": [
    "# названия признаков с числовыми данными\n",
    "numeric_features = ['year', 'power', 'km']\n",
    "scaler = StandardScaler()\n",
    "\n",
    "# копирование призанков\n",
    "features_train_scal = features_train.copy()\n",
    "features_test_scal = features_test.copy()\n",
    "\n",
    "# обучение и трансформация\n",
    "features_train_scal[numeric_features] = scaler.fit_transform(features_train[numeric_features])\n",
    "features_test_scal[numeric_features] = scaler.transform(features_test[numeric_features])\n",
    "\n",
    "## обучение и трансформация\n",
    "#features_train[numeric_features] = scaler.fit_transform(features_train[numeric_features])\n",
    "#features_test[numeric_features] = scaler.transform(features_test[numeric_features])\n",
    "\n",
    "# проверка результатов преобразования\n",
    "display(features_train_scal.head(), features_test_scal.head())\n",
    "\n",
    "# удаление переменных \n",
    "del scaler, numeric_features"
   ]
  },
  {
   "cell_type": "markdown",
   "metadata": {},
   "source": [
    "## Обучение моделей"
   ]
  },
  {
   "cell_type": "markdown",
   "metadata": {},
   "source": [
    "Обучим 3 модели: линейную регрессию, дерево решений и LightGBM.  \n",
    "Для оценки качества предсказания будем использовать RMSE."
   ]
  },
  {
   "cell_type": "markdown",
   "metadata": {},
   "source": [
    "### Дамми-модель"
   ]
  },
  {
   "cell_type": "markdown",
   "metadata": {},
   "source": [
    "Для проверки моделей на адекватность создадим константную модель."
   ]
  },
  {
   "cell_type": "code",
   "execution_count": 52,
   "metadata": {},
   "outputs": [
    {
     "name": "stdout",
     "output_type": "stream",
     "text": [
      "RMSE константной модели: 3472.232040918993\n"
     ]
    }
   ],
   "source": [
    "# обучение модели\n",
    "model = LinearRegression()\n",
    "model.fit(features_train, target_train)\n",
    "\n",
    "# предсказание модели\n",
    "predictions = pd.Series(target_train.mean(), index=target_train.index)\n",
    "print('RMSE константной модели:', mean_squared_error(target_train, predictions, squared=False))"
   ]
  },
  {
   "cell_type": "markdown",
   "metadata": {},
   "source": [
    "### Линейная регрессия"
   ]
  },
  {
   "cell_type": "markdown",
   "metadata": {},
   "source": [
    "Посчитаем метрику для линейной регрессии через кросс-валидацию."
   ]
  },
  {
   "cell_type": "code",
   "execution_count": 53,
   "metadata": {},
   "outputs": [],
   "source": [
    "# с масштабированием признаков\n",
    "lr_scal = cross_validate(LinearRegression(), \n",
    "                         X=features_train_scal, \n",
    "                         y=target_train,\n",
    "                         scoring='neg_root_mean_squared_error',\n",
    "                         cv=10)\n",
    "\n",
    "# без масштабирования признаков\n",
    "lr = cross_validate(LinearRegression(), \n",
    "                    X=features_train, \n",
    "                    y=target_train,\n",
    "                    scoring='neg_root_mean_squared_error',\n",
    "                    cv=10)"
   ]
  },
  {
   "cell_type": "code",
   "execution_count": 54,
   "metadata": {},
   "outputs": [
    {
     "name": "stdout",
     "output_type": "stream",
     "text": [
      "RMSE линейной регрессии с масштабированием: 3358331393108.1743\n",
      "RMSE линейной регрессии без масштабирования: 1960.1187999809226\n"
     ]
    }
   ],
   "source": [
    "print('RMSE линейной регрессии с масштабированием:', abs(lr_scal['test_score'].mean()))\n",
    "print('RMSE линейной регрессии без масштабирования:', abs(lr['test_score'].mean()))"
   ]
  },
  {
   "cell_type": "markdown",
   "metadata": {},
   "source": [
    "Линейная регрессия показывает необычно большое значение для масштабированных признаков. Откажемся от масштабирования."
   ]
  },
  {
   "cell_type": "code",
   "execution_count": 55,
   "metadata": {},
   "outputs": [
    {
     "name": "stdout",
     "output_type": "stream",
     "text": [
      "Время обучения: 3.1201751470565795\n",
      "Время предсказания: 0.02254376411437988\n",
      "RMSE линейной регрессии: 1960.1187999809226\n"
     ]
    }
   ],
   "source": [
    "print('Время обучения:', lr['fit_time'].mean())\n",
    "print('Время предсказания:', lr['score_time'].mean())\n",
    "print('RMSE линейной регрессии:', abs(lr['test_score'].mean()))"
   ]
  },
  {
   "cell_type": "markdown",
   "metadata": {},
   "source": [
    "### Дерево решений"
   ]
  },
  {
   "cell_type": "markdown",
   "metadata": {},
   "source": [
    "Подберем гиперпараметры для модели с помощью GridSearchCV. Перебирать будем только глубину дерева."
   ]
  },
  {
   "cell_type": "code",
   "execution_count": 56,
   "metadata": {},
   "outputs": [
    {
     "name": "stdout",
     "output_type": "stream",
     "text": [
      "CPU times: total: 8min 9s\n",
      "Wall time: 8min 14s\n"
     ]
    },
    {
     "data": {
      "text/plain": [
       "GridSearchCV(cv=3, estimator=DecisionTreeRegressor(random_state=12345),\n",
       "             param_grid={'max_depth': [20, 25, 30, 35, 40, 45],\n",
       "                         'min_samples_leaf': [4, 6],\n",
       "                         'min_samples_split': [2, 7, 12, 17]},\n",
       "             scoring='neg_root_mean_squared_error')"
      ]
     },
     "execution_count": 56,
     "metadata": {},
     "output_type": "execute_result"
    }
   ],
   "source": [
    "%%time\n",
    "\n",
    "params = {'max_depth': list(range(20, 46, 5)),\n",
    "          'min_samples_split': list(range(2, 22, 5)),\n",
    "          'min_samples_leaf': [4, 6]\n",
    "         }\n",
    "\n",
    "dtr = GridSearchCV(DecisionTreeRegressor(random_state=state),\n",
    "                    params,\n",
    "                    scoring='neg_root_mean_squared_error',\n",
    "                    cv=3\n",
    "                    )\n",
    "\n",
    "dtr.fit(features_train_scal, target_train)"
   ]
  },
  {
   "cell_type": "markdown",
   "metadata": {},
   "source": [
    "Запишем в переменную модель, показавшую наилучший результат."
   ]
  },
  {
   "cell_type": "code",
   "execution_count": 57,
   "metadata": {},
   "outputs": [],
   "source": [
    "best_dtr_model = dtr.best_estimator_"
   ]
  },
  {
   "cell_type": "code",
   "execution_count": 58,
   "metadata": {
    "scrolled": false
   },
   "outputs": [
    {
     "name": "stdout",
     "output_type": "stream",
     "text": [
      "Дерево решений\n",
      "Время обучения, с: 3.507319370905558\n",
      "Время предсказания, с: 0.06886959075927734\n",
      "RMSE: 1410.0562245868648\n"
     ]
    }
   ],
   "source": [
    "results = pd.DataFrame(dtr.cv_results_)\n",
    "best_result_dtr = results[results.rank_test_score == 1][['mean_fit_time', 'mean_score_time', 'mean_test_score']].values[0]\n",
    "\n",
    "print('Дерево решений')\n",
    "print('Время обучения, с:', best_result_dtr[0])\n",
    "print('Время предсказания, с:', best_result_dtr[1])\n",
    "print('RMSE:', abs(best_result_dtr[2]))"
   ]
  },
  {
   "cell_type": "markdown",
   "metadata": {},
   "source": [
    "### LightGBM"
   ]
  },
  {
   "cell_type": "markdown",
   "metadata": {},
   "source": [
    "Подберем гиперпараметры для модели с помощью RandomizedSearchCV. Перебирать будем глубину дерева, скорость обучения и количество деревьев."
   ]
  },
  {
   "cell_type": "code",
   "execution_count": 59,
   "metadata": {
    "scrolled": true
   },
   "outputs": [
    {
     "name": "stdout",
     "output_type": "stream",
     "text": [
      "CPU times: total: 10min 57s\n",
      "Wall time: 2min 49s\n"
     ]
    },
    {
     "data": {
      "text/plain": [
       "RandomizedSearchCV(cv=3, estimator=LGBMRegressor(random_state=12345), n_iter=50,\n",
       "                   param_distributions={'learning_rate': [0.1, 0.2,\n",
       "                                                          0.30000000000000004,\n",
       "                                                          0.4, 0.5, 0.6,\n",
       "                                                          0.7000000000000001,\n",
       "                                                          0.8, 0.9, 1.0],\n",
       "                                        'max_depth': [20, 30, 40, 50, 60, 70,\n",
       "                                                      80, 90, 100, 110, 120,\n",
       "                                                      130, 140, 150, 160, 170,\n",
       "                                                      180, 190, 200],\n",
       "                                        'n_estimators': [20, 30, 40, 50, 60, 70,\n",
       "                                                         80, 90, 100, 110, 120,\n",
       "                                                         130, 140, 150, 160,\n",
       "                                                         170, 180, 190, 200],\n",
       "                                        'num_leaves': [20, 30, 40, 50, 60, 70,\n",
       "                                                       80, 90, 100],\n",
       "                                        'reg_alpha': [1, 2, 3, 4, 5, 6, 7, 8, 9,\n",
       "                                                      10, 11, 12, 13, 14, 15,\n",
       "                                                      16, 17, 18, 19, 20, 21,\n",
       "                                                      22, 23, 24, 25, 26, 27],\n",
       "                                        'reg_lambda': [1, 2, 3, 4, 5, 6, 7, 8,\n",
       "                                                       9, 10, 11, 12, 13, 14,\n",
       "                                                       15, 16, 17, 18, 19, 20,\n",
       "                                                       21, 22, 23, 24, 25, 26,\n",
       "                                                       27]},\n",
       "                   random_state=12345, scoring='neg_root_mean_squared_error')"
      ]
     },
     "execution_count": 59,
     "metadata": {},
     "output_type": "execute_result"
    }
   ],
   "source": [
    "%%time\n",
    "\n",
    "params = {'max_depth': list(range(20, 201, 10)),\n",
    "         'learning_rate': list(np.arange(0.1, 1.1, 0.1)),\n",
    "         'n_estimators': list(range(20, 201, 10)),\n",
    "         #'boosting_type': ['gbdt', 'dart', 'rf']\n",
    "          'num_leaves': list(range(20, 101, 10)),\n",
    "          'reg_alpha': list(range(1, 28, 1)),\n",
    "          'reg_lambda': list(range(1, 28, 1))\n",
    "         }\n",
    "\n",
    "lgbm = RandomizedSearchCV(LGBMRegressor(random_state=state), \n",
    "                          params,\n",
    "                          scoring='neg_root_mean_squared_error',\n",
    "                          random_state=state,\n",
    "                          cv=3,\n",
    "                          n_iter=50\n",
    "                         )\n",
    "\n",
    "\n",
    "lgbm.fit(features_train_scal, target_train)"
   ]
  },
  {
   "cell_type": "markdown",
   "metadata": {},
   "source": [
    "Запишем в переменную лучшую модель."
   ]
  },
  {
   "cell_type": "code",
   "execution_count": 60,
   "metadata": {},
   "outputs": [],
   "source": [
    "best_lgbm_model = lgbm.best_estimator_"
   ]
  },
  {
   "cell_type": "code",
   "execution_count": 61,
   "metadata": {},
   "outputs": [
    {
     "name": "stdout",
     "output_type": "stream",
     "text": [
      "LightGBM\n",
      "Время обучения, с: 1.4961271286010742\n",
      "Время предсказания, с: 0.3715088367462158\n",
      "RMSE: 1248.8230103169255\n"
     ]
    }
   ],
   "source": [
    "results = pd.DataFrame(lgbm.cv_results_)\n",
    "best_result_lgbm = results[results.rank_test_score == 1][['mean_fit_time', 'mean_score_time', 'mean_test_score']].values[0]\n",
    "\n",
    "print('LightGBM')\n",
    "print('Время обучения, с:', best_result_lgbm[0])\n",
    "print('Время предсказания, с:', best_result_lgbm[1])\n",
    "print('RMSE:', abs(best_result_lgbm[2]))"
   ]
  },
  {
   "cell_type": "markdown",
   "metadata": {},
   "source": [
    "## Анализ моделей"
   ]
  },
  {
   "cell_type": "markdown",
   "metadata": {},
   "source": [
    "Соберем в таблицу значения из предудщего этапа."
   ]
  },
  {
   "cell_type": "code",
   "execution_count": 62,
   "metadata": {},
   "outputs": [
    {
     "data": {
      "text/html": [
       "<div>\n",
       "<style scoped>\n",
       "    .dataframe tbody tr th:only-of-type {\n",
       "        vertical-align: middle;\n",
       "    }\n",
       "\n",
       "    .dataframe tbody tr th {\n",
       "        vertical-align: top;\n",
       "    }\n",
       "\n",
       "    .dataframe thead th {\n",
       "        text-align: right;\n",
       "    }\n",
       "</style>\n",
       "<table border=\"1\" class=\"dataframe\">\n",
       "  <thead>\n",
       "    <tr style=\"text-align: right;\">\n",
       "      <th></th>\n",
       "      <th>Время обучения, с</th>\n",
       "      <th>Время предсказания, с</th>\n",
       "      <th>RMSE</th>\n",
       "    </tr>\n",
       "  </thead>\n",
       "  <tbody>\n",
       "    <tr>\n",
       "      <th>Линейная регрессия</th>\n",
       "      <td>3.120175</td>\n",
       "      <td>0.022544</td>\n",
       "      <td>1960.118800</td>\n",
       "    </tr>\n",
       "    <tr>\n",
       "      <th>Дерево решений</th>\n",
       "      <td>3.507319</td>\n",
       "      <td>0.068870</td>\n",
       "      <td>1410.056225</td>\n",
       "    </tr>\n",
       "    <tr>\n",
       "      <th>LightGBM</th>\n",
       "      <td>1.496127</td>\n",
       "      <td>0.371509</td>\n",
       "      <td>1248.823010</td>\n",
       "    </tr>\n",
       "  </tbody>\n",
       "</table>\n",
       "</div>"
      ],
      "text/plain": [
       "                    Время обучения, с  Время предсказания, с         RMSE\n",
       "Линейная регрессия           3.120175               0.022544  1960.118800\n",
       "Дерево решений               3.507319               0.068870  1410.056225\n",
       "LightGBM                     1.496127               0.371509  1248.823010"
      ]
     },
     "execution_count": 62,
     "metadata": {},
     "output_type": "execute_result"
    }
   ],
   "source": [
    "final_table = pd.DataFrame(data=[[lr['fit_time'].mean(), best_result_dtr[0], best_result_lgbm[0]], \n",
    "                                 [lr['score_time'].mean(), best_result_dtr[1], best_result_lgbm[1]], \n",
    "                                 [abs(lr['test_score'].mean()), abs(best_result_dtr[2]), abs(best_result_lgbm[2])]],\n",
    "             columns=['Линейная регрессия', 'Дерево решений','LightGBM'],\n",
    "             index=['Время обучения, с', 'Время предсказания, с', 'RMSE']).T\n",
    "final_table"
   ]
  },
  {
   "cell_type": "markdown",
   "metadata": {},
   "source": [
    "Построим графики для наглядности."
   ]
  },
  {
   "cell_type": "code",
   "execution_count": 63,
   "metadata": {
    "scrolled": false
   },
   "outputs": [
    {
     "data": {
      "image/png": "[encoded data removed]",
      "text/plain": [
       "<Figure size 432x288 with 1 Axes>"
      ]
     },
     "metadata": {
      "needs_background": "light"
     },
     "output_type": "display_data"
    },
    {
     "data": {
      "image/png": "[encoded data removed]",
      "text/plain": [
       "<Figure size 432x288 with 1 Axes>"
      ]
     },
     "metadata": {
      "needs_background": "light"
     },
     "output_type": "display_data"
    },
    {
     "data": {
      "image/png": "[encoded data removed]",
      "text/plain": [
       "<Figure size 432x288 with 1 Axes>"
      ]
     },
     "metadata": {
      "needs_background": "light"
     },
     "output_type": "display_data"
    }
   ],
   "source": [
    "final_table.plot.bar(y='Время обучения, с',\n",
    "                     grid=True,\n",
    "                     title='Время обучения, с',\n",
    "                     legend=False\n",
    "                     );\n",
    "plt.xticks(rotation = 0);\n",
    "final_table.plot.bar(y='Время предсказания, с',\n",
    "                     grid=True,\n",
    "                     title='Время предсказания, с',\n",
    "                     legend=False\n",
    "                     );\n",
    "plt.xticks(rotation = 0);\n",
    "final_table.plot.bar(y='RMSE',\n",
    "                     grid=True,\n",
    "                     title='RMSE',\n",
    "                     legend=False\n",
    "                     );\n",
    "plt.xticks(rotation = 0);"
   ]
  },
  {
   "cell_type": "markdown",
   "metadata": {},
   "source": [
    "Критерии, которые важны заказчику:\n",
    "- качество предсказания;\n",
    "- время обучения модели;\n",
    "- время предсказания модели.  \n",
    "\n",
    "Наилучшее качество предсказания показала LightGBM, но ее время предсказания - третье, зато по времени обучения - первая.\n",
    "\n",
    "Т. к. заказчику важны все три критерия, то оптимальной моделью для него будет LightGBM. Протестируем её."
   ]
  },
  {
   "cell_type": "code",
   "execution_count": 64,
   "metadata": {},
   "outputs": [
    {
     "name": "stdout",
     "output_type": "stream",
     "text": [
      "CPU times: total: 5.7 s\n",
      "Wall time: 1.34 s\n"
     ]
    },
    {
     "data": {
      "text/plain": [
       "LGBMRegressor(learning_rate=0.2, max_depth=20, n_estimators=170, num_leaves=100,\n",
       "              random_state=12345, reg_alpha=10, reg_lambda=27)"
      ]
     },
     "execution_count": 64,
     "metadata": {},
     "output_type": "execute_result"
    }
   ],
   "source": [
    "%%time\n",
    "best_lgbm_model.fit(features_train_scal, target_train)"
   ]
  },
  {
   "cell_type": "code",
   "execution_count": 65,
   "metadata": {},
   "outputs": [
    {
     "name": "stdout",
     "output_type": "stream",
     "text": [
      "CPU times: total: 1.84 s\n",
      "Wall time: 399 ms\n"
     ]
    }
   ],
   "source": [
    "%%time \n",
    "predictions = best_lgbm_model.predict(features_test_scal)"
   ]
  },
  {
   "cell_type": "code",
   "execution_count": 66,
   "metadata": {},
   "outputs": [
    {
     "name": "stdout",
     "output_type": "stream",
     "text": [
      "RMSE: 1234.3302984426823\n"
     ]
    }
   ],
   "source": [
    "print('RMSE:', mean_squared_error(target_test, predictions, squared=False))"
   ]
  },
  {
   "cell_type": "markdown",
   "metadata": {},
   "source": [
    "Модель LightGBM следующие результаты после тестирования:\n",
    "- Время обучения, с: 1.34;\n",
    "- Время предсказания, с: 0.399;\n",
    "- RMSE: 1234."
   ]
  },
  {
   "cell_type": "markdown",
   "metadata": {},
   "source": [
    "## Вывод"
   ]
  },
  {
   "cell_type": "markdown",
   "metadata": {},
   "source": [
    "Данный проект состоял из нескольких этапов.  \n",
    "\n",
    "На первом этапе были подготовлены данные. Были удалены полные дубли, аномалии и выбросы; обработаны пропущенные значения, подготовлены признаки для моделей.  \n",
    "\n",
    "Затем были подобраны гиперпараметры и обучены три модели: линейная регрессия, дерево решений и LightGBM - модель градиентного бустинга.\n",
    "\n",
    "Последний этап включал в себя анализ результатов обученных моделей.  \n",
    "\n",
    "Было выяснено, что оптимальная модель для заказчика - LightGBM, показавшая RMSE=1234, со следующими гиперпараметрами: \n",
    "\n",
    "- learning_rate=0.2, \n",
    "- max_depth=20, \n",
    "- n_estimators=170, \n",
    "- num_leaves=100, \n",
    "- reg_alpha=10, \n",
    "- reg_lambda=27."
   ]
  }
 ],
 "metadata": {
  "ExecuteTimeLog": [
   {
    "duration": 446,
    "start_time": "2023-01-07T21:58:17.747Z"
   },
   {
    "duration": 2,
    "start_time": "2023-01-07T21:58:20.466Z"
   },
   {
    "duration": 1345,
    "start_time": "2023-01-07T21:58:44.575Z"
   },
   {
    "duration": 98,
    "start_time": "2023-01-07T22:18:56.715Z"
   },
   {
    "duration": 153,
    "start_time": "2023-01-07T22:19:36.447Z"
   },
   {
    "duration": 99,
    "start_time": "2023-01-07T22:41:34.297Z"
   },
   {
    "duration": 32,
    "start_time": "2023-01-07T22:41:47.003Z"
   },
   {
    "duration": 7,
    "start_time": "2023-01-07T22:52:44.949Z"
   },
   {
    "duration": 5,
    "start_time": "2023-01-07T22:52:49.271Z"
   },
   {
    "duration": 5,
    "start_time": "2023-01-07T22:59:20.448Z"
   },
   {
    "duration": 15,
    "start_time": "2023-01-07T22:59:33.834Z"
   },
   {
    "duration": 3,
    "start_time": "2023-01-07T22:59:54.495Z"
   },
   {
    "duration": 15,
    "start_time": "2023-01-07T22:59:58.980Z"
   },
   {
    "duration": 384,
    "start_time": "2023-01-08T12:57:36.673Z"
   },
   {
    "duration": 2926,
    "start_time": "2023-01-08T12:57:37.059Z"
   },
   {
    "duration": 146,
    "start_time": "2023-01-08T12:57:39.987Z"
   },
   {
    "duration": 102,
    "start_time": "2023-01-08T12:57:40.134Z"
   },
   {
    "duration": 33,
    "start_time": "2023-01-08T12:57:40.238Z"
   },
   {
    "duration": 13,
    "start_time": "2023-01-08T12:57:40.273Z"
   },
   {
    "duration": 200,
    "start_time": "2023-01-08T12:58:14.947Z"
   },
   {
    "duration": 209,
    "start_time": "2023-01-08T12:58:22.051Z"
   },
   {
    "duration": 205,
    "start_time": "2023-01-08T12:58:32.616Z"
   },
   {
    "duration": 195,
    "start_time": "2023-01-08T12:58:42.923Z"
   },
   {
    "duration": 43,
    "start_time": "2023-01-08T13:00:52.344Z"
   },
   {
    "duration": 19,
    "start_time": "2023-01-08T13:01:13.232Z"
   },
   {
    "duration": 93,
    "start_time": "2023-01-08T13:01:30.318Z"
   },
   {
    "duration": 35,
    "start_time": "2023-01-08T13:01:35.686Z"
   },
   {
    "duration": 213,
    "start_time": "2023-01-08T13:05:00.425Z"
   },
   {
    "duration": 167,
    "start_time": "2023-01-08T13:05:22.452Z"
   },
   {
    "duration": 40,
    "start_time": "2023-01-08T13:05:31.156Z"
   },
   {
    "duration": 180,
    "start_time": "2023-01-08T13:07:02.089Z"
   },
   {
    "duration": 29,
    "start_time": "2023-01-08T13:07:05.482Z"
   },
   {
    "duration": 196,
    "start_time": "2023-01-08T13:07:31.988Z"
   },
   {
    "duration": 877,
    "start_time": "2023-01-08T13:08:22.724Z"
   },
   {
    "duration": 19,
    "start_time": "2023-01-08T13:08:34.582Z"
   },
   {
    "duration": 1222,
    "start_time": "2023-01-08T13:08:39.517Z"
   },
   {
    "duration": 12,
    "start_time": "2023-01-08T13:11:38.159Z"
   },
   {
    "duration": 15,
    "start_time": "2023-01-08T13:11:43.395Z"
   },
   {
    "duration": 29,
    "start_time": "2023-01-08T13:12:29.422Z"
   },
   {
    "duration": 8,
    "start_time": "2023-01-08T13:14:55.097Z"
   },
   {
    "duration": 19,
    "start_time": "2023-01-08T13:15:15.721Z"
   },
   {
    "duration": 9,
    "start_time": "2023-01-08T13:16:13.017Z"
   },
   {
    "duration": 84,
    "start_time": "2023-01-08T13:30:52.962Z"
   },
   {
    "duration": 9,
    "start_time": "2023-01-08T13:31:00.304Z"
   },
   {
    "duration": 4,
    "start_time": "2023-01-08T13:31:04.492Z"
   },
   {
    "duration": 73,
    "start_time": "2023-01-08T13:31:31.635Z"
   },
   {
    "duration": 26,
    "start_time": "2023-01-08T13:31:53.748Z"
   },
   {
    "duration": 23,
    "start_time": "2023-01-08T13:31:58.464Z"
   },
   {
    "duration": 20,
    "start_time": "2023-01-08T13:32:02.934Z"
   },
   {
    "duration": 46,
    "start_time": "2023-01-08T13:34:10.817Z"
   },
   {
    "duration": 31,
    "start_time": "2023-01-08T14:23:25.411Z"
   },
   {
    "duration": 33,
    "start_time": "2023-01-08T14:23:32.250Z"
   },
   {
    "duration": 44,
    "start_time": "2023-01-08T14:24:33.931Z"
   },
   {
    "duration": 45,
    "start_time": "2023-01-08T14:27:41.591Z"
   },
   {
    "duration": 47,
    "start_time": "2023-01-08T14:27:48.873Z"
   },
   {
    "duration": 135,
    "start_time": "2023-01-08T14:35:39.525Z"
   },
   {
    "duration": 154,
    "start_time": "2023-01-08T14:35:53.985Z"
   },
   {
    "duration": 199,
    "start_time": "2023-01-08T14:35:59.996Z"
   },
   {
    "duration": 310,
    "start_time": "2023-01-08T14:36:07.354Z"
   },
   {
    "duration": 53,
    "start_time": "2023-01-08T14:37:20.351Z"
   },
   {
    "duration": 39,
    "start_time": "2023-01-08T14:37:57.799Z"
   },
   {
    "duration": 22,
    "start_time": "2023-01-08T14:38:10.918Z"
   },
   {
    "duration": 5,
    "start_time": "2023-01-08T14:38:23.236Z"
   },
   {
    "duration": 27,
    "start_time": "2023-01-08T14:41:23.675Z"
   },
   {
    "duration": 27,
    "start_time": "2023-01-08T14:42:48.166Z"
   },
   {
    "duration": 46,
    "start_time": "2023-01-08T23:29:49.844Z"
   },
   {
    "duration": 387,
    "start_time": "2023-01-08T23:30:09.556Z"
   },
   {
    "duration": 1092,
    "start_time": "2023-01-08T23:30:09.945Z"
   },
   {
    "duration": 105,
    "start_time": "2023-01-08T23:30:11.039Z"
   },
   {
    "duration": 135,
    "start_time": "2023-01-08T23:30:11.146Z"
   },
   {
    "duration": 33,
    "start_time": "2023-01-08T23:30:11.283Z"
   },
   {
    "duration": 16,
    "start_time": "2023-01-08T23:30:11.318Z"
   },
   {
    "duration": 215,
    "start_time": "2023-01-08T23:30:11.335Z"
   },
   {
    "duration": 21,
    "start_time": "2023-01-08T23:30:11.552Z"
   },
   {
    "duration": 86,
    "start_time": "2023-01-08T23:30:11.575Z"
   },
   {
    "duration": 0,
    "start_time": "2023-01-08T23:30:11.663Z"
   },
   {
    "duration": 621,
    "start_time": "2023-01-08T23:30:21.999Z"
   },
   {
    "duration": 181,
    "start_time": "2023-01-08T23:30:35.643Z"
   },
   {
    "duration": 229,
    "start_time": "2023-01-08T23:30:58.518Z"
   },
   {
    "duration": 21,
    "start_time": "2023-01-08T23:31:19.557Z"
   },
   {
    "duration": 22,
    "start_time": "2023-01-08T23:31:29.904Z"
   },
   {
    "duration": 24,
    "start_time": "2023-01-08T23:31:52.783Z"
   },
   {
    "duration": 19,
    "start_time": "2023-01-08T23:31:58.532Z"
   },
   {
    "duration": 4,
    "start_time": "2023-01-08T23:33:49.683Z"
   },
   {
    "duration": 24,
    "start_time": "2023-01-08T23:33:54.563Z"
   },
   {
    "duration": 56,
    "start_time": "2023-01-08T23:34:10.853Z"
   },
   {
    "duration": 31,
    "start_time": "2023-01-08T23:34:18.800Z"
   },
   {
    "duration": 4,
    "start_time": "2023-01-08T23:34:31.888Z"
   },
   {
    "duration": 143,
    "start_time": "2023-01-08T23:35:13.855Z"
   },
   {
    "duration": 3,
    "start_time": "2023-01-08T23:36:34.357Z"
   },
   {
    "duration": 8,
    "start_time": "2023-01-08T23:36:52.626Z"
   },
   {
    "duration": 136,
    "start_time": "2023-01-08T23:36:58.677Z"
   },
   {
    "duration": 140,
    "start_time": "2023-01-08T23:37:32.341Z"
   },
   {
    "duration": 133,
    "start_time": "2023-01-08T23:38:08.801Z"
   },
   {
    "duration": 237,
    "start_time": "2023-01-08T23:38:18.297Z"
   },
   {
    "duration": 33,
    "start_time": "2023-01-08T23:39:56.440Z"
   },
   {
    "duration": 13,
    "start_time": "2023-01-08T23:46:19.081Z"
   },
   {
    "duration": 669,
    "start_time": "2023-01-08T23:46:35.610Z"
   },
   {
    "duration": 809,
    "start_time": "2023-01-08T23:46:36.281Z"
   },
   {
    "duration": 117,
    "start_time": "2023-01-08T23:46:37.092Z"
   },
   {
    "duration": 115,
    "start_time": "2023-01-08T23:46:37.211Z"
   },
   {
    "duration": 37,
    "start_time": "2023-01-08T23:46:37.329Z"
   },
   {
    "duration": 3,
    "start_time": "2023-01-08T23:46:41.002Z"
   },
   {
    "duration": 839,
    "start_time": "2023-01-08T23:46:41.007Z"
   },
   {
    "duration": 122,
    "start_time": "2023-01-08T23:46:41.847Z"
   },
   {
    "duration": 106,
    "start_time": "2023-01-08T23:46:41.971Z"
   },
   {
    "duration": 36,
    "start_time": "2023-01-08T23:46:42.079Z"
   },
   {
    "duration": 20,
    "start_time": "2023-01-08T23:46:42.116Z"
   },
   {
    "duration": 222,
    "start_time": "2023-01-08T23:46:42.138Z"
   },
   {
    "duration": 211,
    "start_time": "2023-01-08T23:46:42.361Z"
   },
   {
    "duration": 47,
    "start_time": "2023-01-08T23:46:42.574Z"
   },
   {
    "duration": 33,
    "start_time": "2023-01-08T23:46:42.623Z"
   },
   {
    "duration": 47,
    "start_time": "2023-01-08T23:47:35.700Z"
   },
   {
    "duration": 12,
    "start_time": "2023-01-08T23:47:40.074Z"
   },
   {
    "duration": 207,
    "start_time": "2023-01-08T23:47:55.728Z"
   },
   {
    "duration": 33,
    "start_time": "2023-01-08T23:48:09.659Z"
   },
   {
    "duration": 666,
    "start_time": "2023-01-08T23:48:25.494Z"
   },
   {
    "duration": 805,
    "start_time": "2023-01-08T23:48:26.163Z"
   },
   {
    "duration": 127,
    "start_time": "2023-01-08T23:48:26.970Z"
   },
   {
    "duration": 104,
    "start_time": "2023-01-08T23:48:27.100Z"
   },
   {
    "duration": 35,
    "start_time": "2023-01-08T23:48:27.206Z"
   },
   {
    "duration": 13,
    "start_time": "2023-01-08T23:48:27.243Z"
   },
   {
    "duration": 258,
    "start_time": "2023-01-08T23:48:27.258Z"
   },
   {
    "duration": 211,
    "start_time": "2023-01-08T23:48:27.518Z"
   },
   {
    "duration": 35,
    "start_time": "2023-01-08T23:48:27.731Z"
   },
   {
    "duration": 48,
    "start_time": "2023-01-08T23:48:27.768Z"
   },
   {
    "duration": 97,
    "start_time": "2023-01-08T23:49:20.615Z"
   },
   {
    "duration": 382,
    "start_time": "2023-01-08T23:54:27.254Z"
   },
   {
    "duration": 56,
    "start_time": "2023-01-08T23:55:47.046Z"
   },
   {
    "duration": 76,
    "start_time": "2023-01-08T23:57:09.158Z"
   },
   {
    "duration": 7,
    "start_time": "2023-01-08T23:57:33.811Z"
   },
   {
    "duration": 29,
    "start_time": "2023-01-08T23:57:38.539Z"
   },
   {
    "duration": 31,
    "start_time": "2023-01-09T00:00:32.586Z"
   },
   {
    "duration": 4,
    "start_time": "2023-01-09T00:04:06.887Z"
   },
   {
    "duration": 613,
    "start_time": "2023-01-09T00:04:25.214Z"
   },
   {
    "duration": 899,
    "start_time": "2023-01-09T00:04:25.829Z"
   },
   {
    "duration": 120,
    "start_time": "2023-01-09T00:04:26.730Z"
   },
   {
    "duration": 111,
    "start_time": "2023-01-09T00:04:26.852Z"
   },
   {
    "duration": 42,
    "start_time": "2023-01-09T00:04:26.965Z"
   },
   {
    "duration": 15,
    "start_time": "2023-01-09T00:04:27.009Z"
   },
   {
    "duration": 241,
    "start_time": "2023-01-09T00:04:27.026Z"
   },
   {
    "duration": 199,
    "start_time": "2023-01-09T00:04:27.269Z"
   },
   {
    "duration": 45,
    "start_time": "2023-01-09T00:04:27.470Z"
   },
   {
    "duration": 93,
    "start_time": "2023-01-09T00:04:27.518Z"
   },
   {
    "duration": 35,
    "start_time": "2023-01-09T00:04:27.613Z"
   },
   {
    "duration": 3,
    "start_time": "2023-01-09T00:04:27.650Z"
   },
   {
    "duration": 624,
    "start_time": "2023-01-09T00:05:35.441Z"
   },
   {
    "duration": 818,
    "start_time": "2023-01-09T00:05:36.067Z"
   },
   {
    "duration": 116,
    "start_time": "2023-01-09T00:05:36.886Z"
   },
   {
    "duration": 105,
    "start_time": "2023-01-09T00:05:37.003Z"
   },
   {
    "duration": 34,
    "start_time": "2023-01-09T00:05:37.111Z"
   },
   {
    "duration": 17,
    "start_time": "2023-01-09T00:05:37.147Z"
   },
   {
    "duration": 252,
    "start_time": "2023-01-09T00:05:37.165Z"
   },
   {
    "duration": 4,
    "start_time": "2023-01-09T00:05:37.419Z"
   },
   {
    "duration": 216,
    "start_time": "2023-01-09T00:05:37.424Z"
   },
   {
    "duration": 38,
    "start_time": "2023-01-09T00:05:37.641Z"
   },
   {
    "duration": 17,
    "start_time": "2023-01-09T00:05:37.681Z"
   },
   {
    "duration": 77,
    "start_time": "2023-01-09T00:05:37.700Z"
   },
   {
    "duration": 45,
    "start_time": "2023-01-09T00:05:37.779Z"
   },
   {
    "duration": 4,
    "start_time": "2023-01-09T00:05:37.827Z"
   },
   {
    "duration": 15,
    "start_time": "2023-01-09T00:07:46.341Z"
   },
   {
    "duration": 26,
    "start_time": "2023-01-09T00:08:33.420Z"
   },
   {
    "duration": 25,
    "start_time": "2023-01-09T00:09:02.393Z"
   },
   {
    "duration": 24,
    "start_time": "2023-01-09T00:10:29.833Z"
   },
   {
    "duration": 21,
    "start_time": "2023-01-09T00:10:37.421Z"
   },
   {
    "duration": 15,
    "start_time": "2023-01-09T00:11:27.554Z"
   },
   {
    "duration": 20,
    "start_time": "2023-01-09T00:12:37.954Z"
   },
   {
    "duration": 8,
    "start_time": "2023-01-09T00:13:10.696Z"
   },
   {
    "duration": 24,
    "start_time": "2023-01-09T00:13:22.215Z"
   },
   {
    "duration": 4,
    "start_time": "2023-01-09T00:15:09.647Z"
   },
   {
    "duration": 37,
    "start_time": "2023-01-09T00:15:17.466Z"
   },
   {
    "duration": 4,
    "start_time": "2023-01-09T00:15:19.165Z"
   },
   {
    "duration": 69,
    "start_time": "2023-01-09T00:15:44.016Z"
   },
   {
    "duration": 8,
    "start_time": "2023-01-09T00:15:47.599Z"
   },
   {
    "duration": 412,
    "start_time": "2023-01-09T00:15:59.792Z"
   },
   {
    "duration": 111,
    "start_time": "2023-01-09T00:16:07.946Z"
   },
   {
    "duration": 21,
    "start_time": "2023-01-09T00:16:50.877Z"
   },
   {
    "duration": 10,
    "start_time": "2023-01-09T00:17:52.326Z"
   },
   {
    "duration": 26,
    "start_time": "2023-01-09T00:19:22.470Z"
   },
   {
    "duration": 27,
    "start_time": "2023-01-09T00:19:36.934Z"
   },
   {
    "duration": 31,
    "start_time": "2023-01-09T00:19:40.337Z"
   },
   {
    "duration": 18,
    "start_time": "2023-01-09T00:19:43.489Z"
   },
   {
    "duration": 16,
    "start_time": "2023-01-09T00:21:14.137Z"
   },
   {
    "duration": 154,
    "start_time": "2023-01-09T00:22:23.060Z"
   },
   {
    "duration": 179,
    "start_time": "2023-01-09T00:22:37.048Z"
   },
   {
    "duration": 17,
    "start_time": "2023-01-09T00:23:01.637Z"
   },
   {
    "duration": 23,
    "start_time": "2023-01-09T00:24:46.458Z"
   },
   {
    "duration": 19,
    "start_time": "2023-01-09T00:24:58.455Z"
   },
   {
    "duration": 8,
    "start_time": "2023-01-09T00:26:23.181Z"
   },
   {
    "duration": 8,
    "start_time": "2023-01-09T00:26:54.908Z"
   },
   {
    "duration": 10,
    "start_time": "2023-01-09T00:26:57.623Z"
   },
   {
    "duration": 11,
    "start_time": "2023-01-09T00:26:58.493Z"
   },
   {
    "duration": 9,
    "start_time": "2023-01-09T00:27:00.952Z"
   },
   {
    "duration": 9,
    "start_time": "2023-01-09T00:27:02.761Z"
   },
   {
    "duration": 10,
    "start_time": "2023-01-09T00:27:05.520Z"
   },
   {
    "duration": 25,
    "start_time": "2023-01-09T00:27:37.707Z"
   },
   {
    "duration": 25,
    "start_time": "2023-01-09T00:27:48.872Z"
   },
   {
    "duration": 9,
    "start_time": "2023-01-09T00:28:05.798Z"
   },
   {
    "duration": 8,
    "start_time": "2023-01-09T00:28:17.542Z"
   },
   {
    "duration": 7,
    "start_time": "2023-01-09T00:28:25.853Z"
   },
   {
    "duration": 8,
    "start_time": "2023-01-09T00:28:32.220Z"
   },
   {
    "duration": 8,
    "start_time": "2023-01-09T00:28:36.470Z"
   },
   {
    "duration": 8,
    "start_time": "2023-01-09T00:28:40.457Z"
   },
   {
    "duration": 9,
    "start_time": "2023-01-09T00:28:43.845Z"
   },
   {
    "duration": 8,
    "start_time": "2023-01-09T00:28:55.509Z"
   },
   {
    "duration": 24,
    "start_time": "2023-01-09T00:31:48.872Z"
   },
   {
    "duration": 323,
    "start_time": "2023-01-09T00:32:41.018Z"
   },
   {
    "duration": 265,
    "start_time": "2023-01-09T00:34:26.968Z"
   },
   {
    "duration": 256,
    "start_time": "2023-01-09T00:34:36.401Z"
   },
   {
    "duration": 21,
    "start_time": "2023-01-09T00:35:02.049Z"
   },
   {
    "duration": 20,
    "start_time": "2023-01-09T00:35:23.057Z"
   },
   {
    "duration": 22,
    "start_time": "2023-01-09T00:35:30.741Z"
   },
   {
    "duration": 31,
    "start_time": "2023-01-09T00:36:14.044Z"
   },
   {
    "duration": 244,
    "start_time": "2023-01-09T00:36:28.340Z"
   },
   {
    "duration": 258,
    "start_time": "2023-01-09T00:36:38.889Z"
   },
   {
    "duration": 127,
    "start_time": "2023-01-09T00:37:13.505Z"
   },
   {
    "duration": 225,
    "start_time": "2023-01-09T00:37:20.857Z"
   },
   {
    "duration": 174,
    "start_time": "2023-01-09T00:37:35.231Z"
   },
   {
    "duration": 25,
    "start_time": "2023-01-09T00:38:43.857Z"
   },
   {
    "duration": 3,
    "start_time": "2023-01-09T00:38:50.430Z"
   },
   {
    "duration": 30,
    "start_time": "2023-01-09T00:39:44.201Z"
   },
   {
    "duration": 17,
    "start_time": "2023-01-09T00:39:49.799Z"
   },
   {
    "duration": 147,
    "start_time": "2023-01-09T00:41:43.460Z"
   },
   {
    "duration": 250,
    "start_time": "2023-01-09T00:42:04.172Z"
   },
   {
    "duration": 13,
    "start_time": "2023-01-09T00:42:41.384Z"
   },
   {
    "duration": 304,
    "start_time": "2023-01-09T00:43:43.299Z"
   },
   {
    "duration": 21,
    "start_time": "2023-01-09T00:44:13.566Z"
   },
   {
    "duration": 17,
    "start_time": "2023-01-09T00:46:42.365Z"
   },
   {
    "duration": 73,
    "start_time": "2023-01-09T00:50:32.437Z"
   },
   {
    "duration": 12,
    "start_time": "2023-01-09T00:50:40.468Z"
   },
   {
    "duration": 6,
    "start_time": "2023-01-09T00:51:00.242Z"
   },
   {
    "duration": 61,
    "start_time": "2023-01-09T00:51:19.125Z"
   },
   {
    "duration": 300,
    "start_time": "2023-01-09T00:52:11.450Z"
   },
   {
    "duration": 354,
    "start_time": "2023-01-09T00:52:29.144Z"
   },
   {
    "duration": 28,
    "start_time": "2023-01-09T00:54:22.841Z"
   },
   {
    "duration": 14,
    "start_time": "2023-01-09T00:54:38.493Z"
   },
   {
    "duration": 22,
    "start_time": "2023-01-09T00:55:26.303Z"
   },
   {
    "duration": 924,
    "start_time": "2023-01-09T15:50:17.885Z"
   },
   {
    "duration": 1291,
    "start_time": "2023-01-09T15:50:18.811Z"
   },
   {
    "duration": 116,
    "start_time": "2023-01-09T15:50:20.105Z"
   },
   {
    "duration": 110,
    "start_time": "2023-01-09T15:50:20.224Z"
   },
   {
    "duration": 41,
    "start_time": "2023-01-09T15:50:20.336Z"
   },
   {
    "duration": 14,
    "start_time": "2023-01-09T15:50:20.379Z"
   },
   {
    "duration": 285,
    "start_time": "2023-01-09T15:50:20.395Z"
   },
   {
    "duration": 4,
    "start_time": "2023-01-09T15:50:20.682Z"
   },
   {
    "duration": 259,
    "start_time": "2023-01-09T15:50:20.687Z"
   },
   {
    "duration": 60,
    "start_time": "2023-01-09T15:50:20.949Z"
   },
   {
    "duration": 5,
    "start_time": "2023-01-09T15:50:21.013Z"
   },
   {
    "duration": 115,
    "start_time": "2023-01-09T15:50:21.021Z"
   },
   {
    "duration": 45,
    "start_time": "2023-01-09T15:50:21.138Z"
   },
   {
    "duration": 5,
    "start_time": "2023-01-09T15:50:21.186Z"
   },
   {
    "duration": 57,
    "start_time": "2023-01-09T15:50:21.193Z"
   },
   {
    "duration": 4,
    "start_time": "2023-01-09T15:50:21.252Z"
   },
   {
    "duration": 37,
    "start_time": "2023-01-09T15:50:21.258Z"
   },
   {
    "duration": 311,
    "start_time": "2023-01-09T15:50:21.297Z"
   },
   {
    "duration": 270,
    "start_time": "2023-01-09T15:50:21.610Z"
   },
   {
    "duration": 31,
    "start_time": "2023-01-09T15:50:21.883Z"
   },
   {
    "duration": 35,
    "start_time": "2023-01-09T15:50:21.917Z"
   },
   {
    "duration": 43,
    "start_time": "2023-01-09T15:50:21.954Z"
   },
   {
    "duration": 265,
    "start_time": "2023-01-09T15:50:21.999Z"
   },
   {
    "duration": 378,
    "start_time": "2023-01-09T15:50:22.266Z"
   },
   {
    "duration": 15,
    "start_time": "2023-01-09T15:50:22.646Z"
   },
   {
    "duration": 85,
    "start_time": "2023-01-09T15:50:22.677Z"
   },
   {
    "duration": 36,
    "start_time": "2023-01-09T15:50:22.764Z"
   },
   {
    "duration": 29,
    "start_time": "2023-01-09T15:50:22.804Z"
   },
   {
    "duration": 51,
    "start_time": "2023-01-09T15:50:22.835Z"
   },
   {
    "duration": 28,
    "start_time": "2023-01-09T15:53:16.962Z"
   },
   {
    "duration": 14,
    "start_time": "2023-01-09T15:53:55.690Z"
   },
   {
    "duration": 29,
    "start_time": "2023-01-09T15:57:22.429Z"
   },
   {
    "duration": 43,
    "start_time": "2023-01-09T16:04:26.705Z"
   },
   {
    "duration": 31,
    "start_time": "2023-01-09T16:05:11.657Z"
   },
   {
    "duration": 20,
    "start_time": "2023-01-09T16:07:13.575Z"
   },
   {
    "duration": 81,
    "start_time": "2023-01-09T16:11:47.850Z"
   },
   {
    "duration": 99,
    "start_time": "2023-01-09T16:11:52.302Z"
   },
   {
    "duration": 126,
    "start_time": "2023-01-09T16:11:55.762Z"
   },
   {
    "duration": 70,
    "start_time": "2023-01-09T16:12:59.898Z"
   },
   {
    "duration": 68,
    "start_time": "2023-01-09T16:13:53.084Z"
   },
   {
    "duration": 26,
    "start_time": "2023-01-09T16:14:34.642Z"
   },
   {
    "duration": 30,
    "start_time": "2023-01-09T16:14:57.743Z"
   },
   {
    "duration": 36,
    "start_time": "2023-01-09T16:15:24.447Z"
   },
   {
    "duration": 32,
    "start_time": "2023-01-09T16:15:35.241Z"
   },
   {
    "duration": 25,
    "start_time": "2023-01-09T16:16:08.741Z"
   },
   {
    "duration": 23,
    "start_time": "2023-01-09T16:16:15.673Z"
   },
   {
    "duration": 22,
    "start_time": "2023-01-09T16:17:36.903Z"
   },
   {
    "duration": 21,
    "start_time": "2023-01-09T16:18:26.301Z"
   },
   {
    "duration": 29,
    "start_time": "2023-01-09T16:18:34.545Z"
   },
   {
    "duration": 18,
    "start_time": "2023-01-09T16:20:26.968Z"
   },
   {
    "duration": 28,
    "start_time": "2023-01-09T16:20:34.023Z"
   },
   {
    "duration": 26,
    "start_time": "2023-01-09T16:22:22.002Z"
   },
   {
    "duration": 16,
    "start_time": "2023-01-09T16:22:51.707Z"
   },
   {
    "duration": 30,
    "start_time": "2023-01-09T16:23:09.130Z"
   },
   {
    "duration": 25,
    "start_time": "2023-01-09T16:23:32.655Z"
   },
   {
    "duration": 23,
    "start_time": "2023-01-09T16:24:44.329Z"
   },
   {
    "duration": 26,
    "start_time": "2023-01-09T16:24:52.111Z"
   },
   {
    "duration": 25,
    "start_time": "2023-01-09T16:25:21.351Z"
   },
   {
    "duration": 4,
    "start_time": "2023-01-09T16:28:25.312Z"
   },
   {
    "duration": 25,
    "start_time": "2023-01-09T16:29:21.055Z"
   },
   {
    "duration": 27,
    "start_time": "2023-01-09T16:30:17.653Z"
   },
   {
    "duration": 56,
    "start_time": "2023-01-09T16:31:26.503Z"
   },
   {
    "duration": 39,
    "start_time": "2023-01-09T16:31:54.025Z"
   },
   {
    "duration": 25,
    "start_time": "2023-01-09T16:31:59.469Z"
   },
   {
    "duration": 28,
    "start_time": "2023-01-09T16:32:11.995Z"
   },
   {
    "duration": 26,
    "start_time": "2023-01-09T16:33:15.264Z"
   },
   {
    "duration": 43,
    "start_time": "2023-01-09T16:34:27.043Z"
   },
   {
    "duration": 41,
    "start_time": "2023-01-09T16:35:08.882Z"
   },
   {
    "duration": 24,
    "start_time": "2023-01-09T16:35:16.672Z"
   },
   {
    "duration": 23,
    "start_time": "2023-01-09T16:36:42.495Z"
   },
   {
    "duration": 36,
    "start_time": "2023-01-09T16:36:52.140Z"
   },
   {
    "duration": 64,
    "start_time": "2023-01-09T16:37:08.955Z"
   },
   {
    "duration": 73,
    "start_time": "2023-01-09T16:37:34.376Z"
   },
   {
    "duration": 30,
    "start_time": "2023-01-09T16:39:09.947Z"
   },
   {
    "duration": 9,
    "start_time": "2023-01-09T16:40:07.756Z"
   },
   {
    "duration": 30,
    "start_time": "2023-01-09T16:40:12.214Z"
   },
   {
    "duration": 961,
    "start_time": "2023-01-09T21:44:38.914Z"
   },
   {
    "duration": 3055,
    "start_time": "2023-01-09T21:44:39.878Z"
   },
   {
    "duration": 133,
    "start_time": "2023-01-09T21:44:42.935Z"
   },
   {
    "duration": 117,
    "start_time": "2023-01-09T21:44:43.070Z"
   },
   {
    "duration": 38,
    "start_time": "2023-01-09T21:44:43.189Z"
   },
   {
    "duration": 27,
    "start_time": "2023-01-09T21:44:43.229Z"
   },
   {
    "duration": 235,
    "start_time": "2023-01-09T21:44:43.258Z"
   },
   {
    "duration": 4,
    "start_time": "2023-01-09T21:44:43.500Z"
   },
   {
    "duration": 236,
    "start_time": "2023-01-09T21:44:43.506Z"
   },
   {
    "duration": 37,
    "start_time": "2023-01-09T21:44:43.745Z"
   },
   {
    "duration": 4,
    "start_time": "2023-01-09T21:44:43.784Z"
   },
   {
    "duration": 126,
    "start_time": "2023-01-09T21:44:43.790Z"
   },
   {
    "duration": 40,
    "start_time": "2023-01-09T21:44:43.918Z"
   },
   {
    "duration": 5,
    "start_time": "2023-01-09T21:44:43.961Z"
   },
   {
    "duration": 37,
    "start_time": "2023-01-09T21:44:43.968Z"
   },
   {
    "duration": 4,
    "start_time": "2023-01-09T21:44:44.007Z"
   },
   {
    "duration": 39,
    "start_time": "2023-01-09T21:44:44.013Z"
   },
   {
    "duration": 330,
    "start_time": "2023-01-09T21:44:44.054Z"
   },
   {
    "duration": 228,
    "start_time": "2023-01-09T21:44:44.386Z"
   },
   {
    "duration": 24,
    "start_time": "2023-01-09T21:44:44.615Z"
   },
   {
    "duration": 4,
    "start_time": "2023-01-09T21:44:44.651Z"
   },
   {
    "duration": 20,
    "start_time": "2023-01-09T21:44:44.658Z"
   },
   {
    "duration": 318,
    "start_time": "2023-01-09T21:44:44.680Z"
   },
   {
    "duration": 400,
    "start_time": "2023-01-09T21:44:45.000Z"
   },
   {
    "duration": 13,
    "start_time": "2023-01-09T21:44:45.402Z"
   },
   {
    "duration": 98,
    "start_time": "2023-01-09T21:44:45.416Z"
   },
   {
    "duration": 43,
    "start_time": "2023-01-09T21:44:45.516Z"
   },
   {
    "duration": 18,
    "start_time": "2023-01-09T21:44:45.561Z"
   },
   {
    "duration": 38,
    "start_time": "2023-01-09T21:44:45.580Z"
   },
   {
    "duration": 48,
    "start_time": "2023-01-09T21:44:45.620Z"
   },
   {
    "duration": 28,
    "start_time": "2023-01-09T21:44:45.670Z"
   },
   {
    "duration": 56,
    "start_time": "2023-01-09T21:44:45.700Z"
   },
   {
    "duration": 31,
    "start_time": "2023-01-09T21:44:45.759Z"
   },
   {
    "duration": 31,
    "start_time": "2023-01-09T21:44:45.792Z"
   },
   {
    "duration": 49,
    "start_time": "2023-01-09T21:44:45.825Z"
   },
   {
    "duration": 30,
    "start_time": "2023-01-09T21:44:45.876Z"
   },
   {
    "duration": 48,
    "start_time": "2023-01-09T21:44:45.908Z"
   },
   {
    "duration": 35,
    "start_time": "2023-01-09T21:44:45.958Z"
   },
   {
    "duration": 32,
    "start_time": "2023-01-09T21:44:45.994Z"
   },
   {
    "duration": 49,
    "start_time": "2023-01-09T21:44:46.028Z"
   },
   {
    "duration": 31,
    "start_time": "2023-01-09T21:44:46.081Z"
   },
   {
    "duration": 106,
    "start_time": "2023-01-09T21:44:46.114Z"
   },
   {
    "duration": 94,
    "start_time": "2023-01-09T21:44:46.222Z"
   },
   {
    "duration": 34,
    "start_time": "2023-01-09T21:44:46.318Z"
   },
   {
    "duration": 28,
    "start_time": "2023-01-09T21:44:46.354Z"
   },
   {
    "duration": 650,
    "start_time": "2023-01-09T21:47:34.987Z"
   },
   {
    "duration": 12,
    "start_time": "2023-01-09T21:49:50.529Z"
   },
   {
    "duration": 131,
    "start_time": "2023-01-09T21:51:34.273Z"
   },
   {
    "duration": 129,
    "start_time": "2023-01-09T21:51:39.369Z"
   },
   {
    "duration": 42,
    "start_time": "2023-01-09T21:52:09.332Z"
   },
   {
    "duration": 9,
    "start_time": "2023-01-09T21:52:11.675Z"
   },
   {
    "duration": 4,
    "start_time": "2023-01-09T21:52:15.863Z"
   },
   {
    "duration": 102,
    "start_time": "2023-01-09T22:01:46.737Z"
   },
   {
    "duration": 25,
    "start_time": "2023-01-09T22:04:32.140Z"
   },
   {
    "duration": 88,
    "start_time": "2023-01-09T22:11:16.172Z"
   },
   {
    "duration": 19,
    "start_time": "2023-01-09T22:11:24.687Z"
   },
   {
    "duration": 122,
    "start_time": "2023-01-09T22:12:19.692Z"
   },
   {
    "duration": 20,
    "start_time": "2023-01-09T22:12:20.960Z"
   },
   {
    "duration": 78,
    "start_time": "2023-01-09T22:13:10.051Z"
   },
   {
    "duration": 77,
    "start_time": "2023-01-09T22:13:17.214Z"
   },
   {
    "duration": 15,
    "start_time": "2023-01-09T22:14:45.025Z"
   },
   {
    "duration": 101,
    "start_time": "2023-01-09T22:14:47.226Z"
   },
   {
    "duration": 4,
    "start_time": "2023-01-09T22:14:48.511Z"
   },
   {
    "duration": 22,
    "start_time": "2023-01-10T00:52:33.572Z"
   },
   {
    "duration": 3,
    "start_time": "2023-01-10T00:56:29.509Z"
   },
   {
    "duration": 1649,
    "start_time": "2023-01-11T00:16:48.266Z"
   },
   {
    "duration": 3110,
    "start_time": "2023-01-11T00:16:49.919Z"
   },
   {
    "duration": 144,
    "start_time": "2023-01-11T00:16:53.030Z"
   },
   {
    "duration": 118,
    "start_time": "2023-01-11T00:16:53.177Z"
   },
   {
    "duration": 39,
    "start_time": "2023-01-11T00:16:53.296Z"
   },
   {
    "duration": 14,
    "start_time": "2023-01-11T00:16:53.351Z"
   },
   {
    "duration": 288,
    "start_time": "2023-01-11T00:16:53.367Z"
   },
   {
    "duration": 4,
    "start_time": "2023-01-11T00:16:53.657Z"
   },
   {
    "duration": 230,
    "start_time": "2023-01-11T00:16:53.663Z"
   },
   {
    "duration": 40,
    "start_time": "2023-01-11T00:16:53.897Z"
   },
   {
    "duration": 13,
    "start_time": "2023-01-11T00:16:53.939Z"
   },
   {
    "duration": 101,
    "start_time": "2023-01-11T00:16:53.954Z"
   },
   {
    "duration": 35,
    "start_time": "2023-01-11T00:16:54.056Z"
   },
   {
    "duration": 4,
    "start_time": "2023-01-11T00:16:54.093Z"
   },
   {
    "duration": 56,
    "start_time": "2023-01-11T00:16:54.098Z"
   },
   {
    "duration": 5,
    "start_time": "2023-01-11T00:16:54.156Z"
   },
   {
    "duration": 24,
    "start_time": "2023-01-11T00:16:54.163Z"
   },
   {
    "duration": 333,
    "start_time": "2023-01-11T00:16:54.189Z"
   },
   {
    "duration": 221,
    "start_time": "2023-01-11T00:16:54.524Z"
   },
   {
    "duration": 30,
    "start_time": "2023-01-11T00:16:54.750Z"
   },
   {
    "duration": 4,
    "start_time": "2023-01-11T00:16:54.782Z"
   },
   {
    "duration": 17,
    "start_time": "2023-01-11T00:16:54.788Z"
   },
   {
    "duration": 227,
    "start_time": "2023-01-11T00:16:54.806Z"
   },
   {
    "duration": 502,
    "start_time": "2023-01-11T00:16:55.036Z"
   },
   {
    "duration": 22,
    "start_time": "2023-01-11T00:16:55.541Z"
   },
   {
    "duration": 102,
    "start_time": "2023-01-11T00:16:55.566Z"
   },
   {
    "duration": 53,
    "start_time": "2023-01-11T00:16:55.670Z"
   },
   {
    "duration": 18,
    "start_time": "2023-01-11T00:16:55.728Z"
   },
   {
    "duration": 36,
    "start_time": "2023-01-11T00:16:55.748Z"
   },
   {
    "duration": 51,
    "start_time": "2023-01-11T00:16:55.786Z"
   },
   {
    "duration": 18,
    "start_time": "2023-01-11T00:16:55.839Z"
   },
   {
    "duration": 45,
    "start_time": "2023-01-11T00:16:55.859Z"
   },
   {
    "duration": 30,
    "start_time": "2023-01-11T00:16:55.906Z"
   },
   {
    "duration": 46,
    "start_time": "2023-01-11T00:16:55.938Z"
   },
   {
    "duration": 37,
    "start_time": "2023-01-11T00:16:55.986Z"
   },
   {
    "duration": 44,
    "start_time": "2023-01-11T00:16:56.024Z"
   },
   {
    "duration": 31,
    "start_time": "2023-01-11T00:16:56.070Z"
   },
   {
    "duration": 51,
    "start_time": "2023-01-11T00:16:56.103Z"
   },
   {
    "duration": 33,
    "start_time": "2023-01-11T00:16:56.156Z"
   },
   {
    "duration": 31,
    "start_time": "2023-01-11T00:16:56.191Z"
   },
   {
    "duration": 64,
    "start_time": "2023-01-11T00:16:56.224Z"
   },
   {
    "duration": 81,
    "start_time": "2023-01-11T00:16:56.291Z"
   },
   {
    "duration": 98,
    "start_time": "2023-01-11T00:16:56.374Z"
   },
   {
    "duration": 35,
    "start_time": "2023-01-11T00:16:56.474Z"
   },
   {
    "duration": 29,
    "start_time": "2023-01-11T00:16:56.511Z"
   },
   {
    "duration": 19,
    "start_time": "2023-01-11T00:16:56.541Z"
   },
   {
    "duration": 8,
    "start_time": "2023-01-11T00:16:56.562Z"
   },
   {
    "duration": 9591,
    "start_time": "2023-01-11T00:26:23.100Z"
   },
   {
    "duration": 26,
    "start_time": "2023-01-11T00:26:34.906Z"
   },
   {
    "duration": 28,
    "start_time": "2023-01-11T00:29:26.979Z"
   },
   {
    "duration": 87,
    "start_time": "2023-01-11T00:32:37.097Z"
   },
   {
    "duration": 102,
    "start_time": "2023-01-11T00:32:48.750Z"
   },
   {
    "duration": 84,
    "start_time": "2023-01-11T00:33:22.812Z"
   },
   {
    "duration": 83,
    "start_time": "2023-01-11T00:33:45.082Z"
   },
   {
    "duration": 83,
    "start_time": "2023-01-11T00:33:56.757Z"
   },
   {
    "duration": 121,
    "start_time": "2023-01-11T00:34:05.489Z"
   },
   {
    "duration": 1422,
    "start_time": "2023-01-11T00:34:26.282Z"
   },
   {
    "duration": 1006,
    "start_time": "2023-01-11T00:34:27.706Z"
   },
   {
    "duration": 161,
    "start_time": "2023-01-11T00:34:28.714Z"
   },
   {
    "duration": 114,
    "start_time": "2023-01-11T00:34:28.877Z"
   },
   {
    "duration": 39,
    "start_time": "2023-01-11T00:34:28.994Z"
   },
   {
    "duration": 14,
    "start_time": "2023-01-11T00:34:29.050Z"
   },
   {
    "duration": 302,
    "start_time": "2023-01-11T00:34:29.066Z"
   },
   {
    "duration": 4,
    "start_time": "2023-01-11T00:34:29.370Z"
   },
   {
    "duration": 246,
    "start_time": "2023-01-11T00:34:29.376Z"
   },
   {
    "duration": 52,
    "start_time": "2023-01-11T00:34:29.624Z"
   },
   {
    "duration": 5,
    "start_time": "2023-01-11T00:34:29.678Z"
   },
   {
    "duration": 122,
    "start_time": "2023-01-11T00:34:29.685Z"
   },
   {
    "duration": 52,
    "start_time": "2023-01-11T00:34:29.809Z"
   },
   {
    "duration": 8,
    "start_time": "2023-01-11T00:34:29.865Z"
   },
   {
    "duration": 61,
    "start_time": "2023-01-11T00:34:29.875Z"
   },
   {
    "duration": 16,
    "start_time": "2023-01-11T00:34:29.938Z"
   },
   {
    "duration": 23,
    "start_time": "2023-01-11T00:34:29.956Z"
   },
   {
    "duration": 338,
    "start_time": "2023-01-11T00:34:29.982Z"
   },
   {
    "duration": 242,
    "start_time": "2023-01-11T00:34:30.322Z"
   },
   {
    "duration": 25,
    "start_time": "2023-01-11T00:34:30.566Z"
   },
   {
    "duration": 5,
    "start_time": "2023-01-11T00:34:30.594Z"
   },
   {
    "duration": 36,
    "start_time": "2023-01-11T00:34:30.601Z"
   },
   {
    "duration": 246,
    "start_time": "2023-01-11T00:34:30.639Z"
   },
   {
    "duration": 549,
    "start_time": "2023-01-11T00:34:30.887Z"
   },
   {
    "duration": 22,
    "start_time": "2023-01-11T00:34:31.438Z"
   },
   {
    "duration": 117,
    "start_time": "2023-01-11T00:34:31.462Z"
   },
   {
    "duration": 36,
    "start_time": "2023-01-11T00:34:31.581Z"
   },
   {
    "duration": 35,
    "start_time": "2023-01-11T00:34:31.619Z"
   },
   {
    "duration": 33,
    "start_time": "2023-01-11T00:34:31.656Z"
   },
   {
    "duration": 35,
    "start_time": "2023-01-11T00:34:31.691Z"
   },
   {
    "duration": 33,
    "start_time": "2023-01-11T00:34:31.728Z"
   },
   {
    "duration": 36,
    "start_time": "2023-01-11T00:34:31.763Z"
   },
   {
    "duration": 58,
    "start_time": "2023-01-11T00:34:31.801Z"
   },
   {
    "duration": 36,
    "start_time": "2023-01-11T00:34:31.861Z"
   },
   {
    "duration": 31,
    "start_time": "2023-01-11T00:34:31.899Z"
   },
   {
    "duration": 32,
    "start_time": "2023-01-11T00:34:31.950Z"
   },
   {
    "duration": 30,
    "start_time": "2023-01-11T00:34:31.984Z"
   },
   {
    "duration": 71,
    "start_time": "2023-01-11T00:34:32.016Z"
   },
   {
    "duration": 36,
    "start_time": "2023-01-11T00:34:32.090Z"
   },
   {
    "duration": 34,
    "start_time": "2023-01-11T00:34:32.151Z"
   },
   {
    "duration": 40,
    "start_time": "2023-01-11T00:34:32.189Z"
   },
   {
    "duration": 92,
    "start_time": "2023-01-11T00:34:32.231Z"
   },
   {
    "duration": 97,
    "start_time": "2023-01-11T00:34:32.325Z"
   },
   {
    "duration": 37,
    "start_time": "2023-01-11T00:34:32.424Z"
   },
   {
    "duration": 97,
    "start_time": "2023-01-11T00:34:32.463Z"
   },
   {
    "duration": 3,
    "start_time": "2023-01-11T00:34:52.485Z"
   },
   {
    "duration": 863,
    "start_time": "2023-01-11T00:34:52.490Z"
   },
   {
    "duration": 134,
    "start_time": "2023-01-11T00:34:53.354Z"
   },
   {
    "duration": 107,
    "start_time": "2023-01-11T00:34:53.490Z"
   },
   {
    "duration": 26,
    "start_time": "2023-01-11T00:34:53.600Z"
   },
   {
    "duration": 24,
    "start_time": "2023-01-11T00:34:53.628Z"
   },
   {
    "duration": 225,
    "start_time": "2023-01-11T00:34:53.655Z"
   },
   {
    "duration": 5,
    "start_time": "2023-01-11T00:34:53.882Z"
   },
   {
    "duration": 227,
    "start_time": "2023-01-11T00:34:53.888Z"
   },
   {
    "duration": 41,
    "start_time": "2023-01-11T00:34:54.117Z"
   },
   {
    "duration": 5,
    "start_time": "2023-01-11T00:34:54.161Z"
   },
   {
    "duration": 109,
    "start_time": "2023-01-11T00:34:54.167Z"
   },
   {
    "duration": 35,
    "start_time": "2023-01-11T00:34:54.280Z"
   },
   {
    "duration": 4,
    "start_time": "2023-01-11T00:34:54.317Z"
   },
   {
    "duration": 57,
    "start_time": "2023-01-11T00:34:54.322Z"
   },
   {
    "duration": 4,
    "start_time": "2023-01-11T00:34:54.381Z"
   },
   {
    "duration": 38,
    "start_time": "2023-01-11T00:34:54.386Z"
   },
   {
    "duration": 369,
    "start_time": "2023-01-11T00:34:54.426Z"
   },
   {
    "duration": 227,
    "start_time": "2023-01-11T00:34:54.798Z"
   },
   {
    "duration": 37,
    "start_time": "2023-01-11T00:34:55.028Z"
   },
   {
    "duration": 4,
    "start_time": "2023-01-11T00:34:55.067Z"
   },
   {
    "duration": 19,
    "start_time": "2023-01-11T00:34:55.073Z"
   },
   {
    "duration": 234,
    "start_time": "2023-01-11T00:34:55.094Z"
   },
   {
    "duration": 383,
    "start_time": "2023-01-11T00:34:55.330Z"
   },
   {
    "duration": 13,
    "start_time": "2023-01-11T00:34:55.714Z"
   },
   {
    "duration": 95,
    "start_time": "2023-01-11T00:34:55.729Z"
   },
   {
    "duration": 44,
    "start_time": "2023-01-11T00:34:55.825Z"
   },
   {
    "duration": 18,
    "start_time": "2023-01-11T00:34:55.871Z"
   },
   {
    "duration": 30,
    "start_time": "2023-01-11T00:34:55.891Z"
   },
   {
    "duration": 48,
    "start_time": "2023-01-11T00:34:55.922Z"
   },
   {
    "duration": 17,
    "start_time": "2023-01-11T00:34:55.971Z"
   },
   {
    "duration": 33,
    "start_time": "2023-01-11T00:34:55.990Z"
   },
   {
    "duration": 45,
    "start_time": "2023-01-11T00:34:56.025Z"
   },
   {
    "duration": 32,
    "start_time": "2023-01-11T00:34:56.072Z"
   },
   {
    "duration": 51,
    "start_time": "2023-01-11T00:34:56.106Z"
   },
   {
    "duration": 36,
    "start_time": "2023-01-11T00:34:56.159Z"
   },
   {
    "duration": 27,
    "start_time": "2023-01-11T00:34:56.199Z"
   },
   {
    "duration": 51,
    "start_time": "2023-01-11T00:34:56.228Z"
   },
   {
    "duration": 29,
    "start_time": "2023-01-11T00:34:56.280Z"
   },
   {
    "duration": 41,
    "start_time": "2023-01-11T00:34:56.310Z"
   },
   {
    "duration": 32,
    "start_time": "2023-01-11T00:34:56.352Z"
   },
   {
    "duration": 88,
    "start_time": "2023-01-11T00:34:56.385Z"
   },
   {
    "duration": 85,
    "start_time": "2023-01-11T00:34:56.474Z"
   },
   {
    "duration": 22,
    "start_time": "2023-01-11T00:34:56.560Z"
   },
   {
    "duration": 93,
    "start_time": "2023-01-11T00:34:56.584Z"
   },
   {
    "duration": 4,
    "start_time": "2023-01-11T00:42:23.804Z"
   },
   {
    "duration": 980,
    "start_time": "2023-01-11T00:42:23.810Z"
   },
   {
    "duration": 162,
    "start_time": "2023-01-11T00:42:24.792Z"
   },
   {
    "duration": 104,
    "start_time": "2023-01-11T00:42:24.956Z"
   },
   {
    "duration": 29,
    "start_time": "2023-01-11T00:42:25.063Z"
   },
   {
    "duration": 14,
    "start_time": "2023-01-11T00:42:25.094Z"
   },
   {
    "duration": 261,
    "start_time": "2023-01-11T00:42:25.109Z"
   },
   {
    "duration": 4,
    "start_time": "2023-01-11T00:42:25.372Z"
   },
   {
    "duration": 234,
    "start_time": "2023-01-11T00:42:25.378Z"
   },
   {
    "duration": 40,
    "start_time": "2023-01-11T00:42:25.614Z"
   },
   {
    "duration": 6,
    "start_time": "2023-01-11T00:42:25.660Z"
   },
   {
    "duration": 102,
    "start_time": "2023-01-11T00:42:25.668Z"
   },
   {
    "duration": 34,
    "start_time": "2023-01-11T00:42:25.772Z"
   },
   {
    "duration": 4,
    "start_time": "2023-01-11T00:42:25.809Z"
   },
   {
    "duration": 54,
    "start_time": "2023-01-11T00:42:25.814Z"
   },
   {
    "duration": 5,
    "start_time": "2023-01-11T00:42:25.870Z"
   },
   {
    "duration": 43,
    "start_time": "2023-01-11T00:42:25.877Z"
   },
   {
    "duration": 399,
    "start_time": "2023-01-11T00:42:25.922Z"
   },
   {
    "duration": 228,
    "start_time": "2023-01-11T00:42:26.322Z"
   },
   {
    "duration": 24,
    "start_time": "2023-01-11T00:42:26.553Z"
   },
   {
    "duration": 48,
    "start_time": "2023-01-11T00:42:26.579Z"
   },
   {
    "duration": 82,
    "start_time": "2023-01-11T00:42:26.629Z"
   },
   {
    "duration": 230,
    "start_time": "2023-01-11T00:42:26.713Z"
   },
   {
    "duration": 376,
    "start_time": "2023-01-11T00:42:26.945Z"
   },
   {
    "duration": 12,
    "start_time": "2023-01-11T00:42:27.323Z"
   },
   {
    "duration": 112,
    "start_time": "2023-01-11T00:42:27.351Z"
   },
   {
    "duration": 88,
    "start_time": "2023-01-11T00:42:27.465Z"
   },
   {
    "duration": 22,
    "start_time": "2023-01-11T00:42:27.555Z"
   },
   {
    "duration": 69,
    "start_time": "2023-01-11T00:42:27.579Z"
   },
   {
    "duration": 86,
    "start_time": "2023-01-11T00:42:27.650Z"
   },
   {
    "duration": 53,
    "start_time": "2023-01-11T00:42:27.738Z"
   },
   {
    "duration": 83,
    "start_time": "2023-01-11T00:42:27.793Z"
   },
   {
    "duration": 57,
    "start_time": "2023-01-11T00:42:27.878Z"
   },
   {
    "duration": 56,
    "start_time": "2023-01-11T00:42:27.937Z"
   },
   {
    "duration": 47,
    "start_time": "2023-01-11T00:42:27.994Z"
   },
   {
    "duration": 66,
    "start_time": "2023-01-11T00:42:28.042Z"
   },
   {
    "duration": 87,
    "start_time": "2023-01-11T00:42:28.109Z"
   },
   {
    "duration": 62,
    "start_time": "2023-01-11T00:42:28.198Z"
   },
   {
    "duration": 62,
    "start_time": "2023-01-11T00:42:28.262Z"
   },
   {
    "duration": 50,
    "start_time": "2023-01-11T00:42:28.326Z"
   },
   {
    "duration": 61,
    "start_time": "2023-01-11T00:42:28.379Z"
   },
   {
    "duration": 94,
    "start_time": "2023-01-11T00:42:28.441Z"
   },
   {
    "duration": 111,
    "start_time": "2023-01-11T00:42:28.536Z"
   },
   {
    "duration": 51,
    "start_time": "2023-01-11T00:42:28.649Z"
   },
   {
    "duration": 30,
    "start_time": "2023-01-11T00:42:28.702Z"
   },
   {
    "duration": 68,
    "start_time": "2023-01-11T00:42:28.734Z"
   },
   {
    "duration": 35,
    "start_time": "2023-01-11T00:42:28.804Z"
   },
   {
    "duration": 7133,
    "start_time": "2023-01-11T00:42:28.840Z"
   },
   {
    "duration": 24,
    "start_time": "2023-01-11T00:42:35.976Z"
   },
   {
    "duration": 1527,
    "start_time": "2023-01-11T00:42:36.002Z"
   },
   {
    "duration": 4,
    "start_time": "2023-01-11T00:42:37.532Z"
   },
   {
    "duration": 5,
    "start_time": "2023-01-11T00:43:17.930Z"
   },
   {
    "duration": 4,
    "start_time": "2023-01-11T00:46:40.605Z"
   },
   {
    "duration": 117,
    "start_time": "2023-01-11T00:53:43.104Z"
   },
   {
    "duration": 12,
    "start_time": "2023-01-11T00:54:10.059Z"
   },
   {
    "duration": 100,
    "start_time": "2023-01-11T00:54:35.703Z"
   },
   {
    "duration": 216,
    "start_time": "2023-01-11T00:59:03.345Z"
   },
   {
    "duration": 1462,
    "start_time": "2023-01-11T01:01:11.210Z"
   },
   {
    "duration": 3387,
    "start_time": "2023-01-11T01:01:12.674Z"
   },
   {
    "duration": 193,
    "start_time": "2023-01-11T01:01:16.063Z"
   },
   {
    "duration": 116,
    "start_time": "2023-01-11T01:01:16.259Z"
   },
   {
    "duration": 40,
    "start_time": "2023-01-11T01:01:16.377Z"
   },
   {
    "duration": 38,
    "start_time": "2023-01-11T01:01:16.419Z"
   },
   {
    "duration": 339,
    "start_time": "2023-01-11T01:01:16.459Z"
   },
   {
    "duration": 4,
    "start_time": "2023-01-11T01:01:16.800Z"
   },
   {
    "duration": 246,
    "start_time": "2023-01-11T01:01:16.806Z"
   },
   {
    "duration": 36,
    "start_time": "2023-01-11T01:01:17.055Z"
   },
   {
    "duration": 22,
    "start_time": "2023-01-11T01:01:17.093Z"
   },
   {
    "duration": 124,
    "start_time": "2023-01-11T01:01:17.116Z"
   },
   {
    "duration": 34,
    "start_time": "2023-01-11T01:01:17.241Z"
   },
   {
    "duration": 4,
    "start_time": "2023-01-11T01:01:17.277Z"
   },
   {
    "duration": 59,
    "start_time": "2023-01-11T01:01:17.282Z"
   },
   {
    "duration": 4,
    "start_time": "2023-01-11T01:01:17.343Z"
   },
   {
    "duration": 29,
    "start_time": "2023-01-11T01:01:17.349Z"
   },
   {
    "duration": 325,
    "start_time": "2023-01-11T01:01:17.380Z"
   },
   {
    "duration": 227,
    "start_time": "2023-01-11T01:01:17.706Z"
   },
   {
    "duration": 27,
    "start_time": "2023-01-11T01:01:17.935Z"
   },
   {
    "duration": 17,
    "start_time": "2023-01-11T01:01:17.964Z"
   },
   {
    "duration": 25,
    "start_time": "2023-01-11T01:01:17.983Z"
   },
   {
    "duration": 259,
    "start_time": "2023-01-11T01:01:18.011Z"
   },
   {
    "duration": 506,
    "start_time": "2023-01-11T01:01:18.272Z"
   },
   {
    "duration": 18,
    "start_time": "2023-01-11T01:01:18.780Z"
   },
   {
    "duration": 124,
    "start_time": "2023-01-11T01:01:18.800Z"
   },
   {
    "duration": 42,
    "start_time": "2023-01-11T01:01:18.926Z"
   },
   {
    "duration": 21,
    "start_time": "2023-01-11T01:01:18.972Z"
   },
   {
    "duration": 45,
    "start_time": "2023-01-11T01:01:18.994Z"
   },
   {
    "duration": 78,
    "start_time": "2023-01-11T01:01:19.041Z"
   },
   {
    "duration": 35,
    "start_time": "2023-01-11T01:01:19.121Z"
   },
   {
    "duration": 77,
    "start_time": "2023-01-11T01:01:19.158Z"
   },
   {
    "duration": 37,
    "start_time": "2023-01-11T01:01:19.237Z"
   },
   {
    "duration": 48,
    "start_time": "2023-01-11T01:01:19.276Z"
   },
   {
    "duration": 35,
    "start_time": "2023-01-11T01:01:19.326Z"
   },
   {
    "duration": 45,
    "start_time": "2023-01-11T01:01:19.363Z"
   },
   {
    "duration": 44,
    "start_time": "2023-01-11T01:01:19.410Z"
   },
   {
    "duration": 51,
    "start_time": "2023-01-11T01:01:19.456Z"
   },
   {
    "duration": 34,
    "start_time": "2023-01-11T01:01:19.509Z"
   },
   {
    "duration": 58,
    "start_time": "2023-01-11T01:01:19.545Z"
   },
   {
    "duration": 98,
    "start_time": "2023-01-11T01:01:19.605Z"
   },
   {
    "duration": 124,
    "start_time": "2023-01-11T01:01:19.706Z"
   },
   {
    "duration": 172,
    "start_time": "2023-01-11T01:01:19.832Z"
   },
   {
    "duration": 39,
    "start_time": "2023-01-11T01:01:20.005Z"
   },
   {
    "duration": 14,
    "start_time": "2023-01-11T01:01:20.045Z"
   },
   {
    "duration": 51,
    "start_time": "2023-01-11T01:01:20.061Z"
   },
   {
    "duration": 11,
    "start_time": "2023-01-11T01:01:20.114Z"
   },
   {
    "duration": 7353,
    "start_time": "2023-01-11T01:01:20.126Z"
   },
   {
    "duration": 24,
    "start_time": "2023-01-11T01:01:27.481Z"
   },
   {
    "duration": 1631,
    "start_time": "2023-01-11T01:01:27.506Z"
   },
   {
    "duration": 5,
    "start_time": "2023-01-11T01:01:29.143Z"
   },
   {
    "duration": 228,
    "start_time": "2023-01-11T01:01:29.150Z"
   },
   {
    "duration": 4,
    "start_time": "2023-01-11T01:14:52.975Z"
   },
   {
    "duration": 4,
    "start_time": "2023-01-11T01:17:25.402Z"
   },
   {
    "duration": 93,
    "start_time": "2023-01-11T01:19:27.636Z"
   },
   {
    "duration": 37836,
    "start_time": "2023-01-11T01:19:33.932Z"
   },
   {
    "duration": 36536,
    "start_time": "2023-01-11T01:25:53.035Z"
   },
   {
    "duration": 25211,
    "start_time": "2023-01-11T01:29:29.558Z"
   },
   {
    "duration": 7,
    "start_time": "2023-01-11T01:30:50.829Z"
   },
   {
    "duration": 21900,
    "start_time": "2023-01-11T01:36:20.552Z"
   },
   {
    "duration": 234,
    "start_time": "2023-01-11T01:37:18.037Z"
   },
   {
    "duration": 189,
    "start_time": "2023-01-11T01:47:07.769Z"
   },
   {
    "duration": 27,
    "start_time": "2023-01-11T01:47:18.012Z"
   },
   {
    "duration": 1484,
    "start_time": "2023-01-13T00:22:19.646Z"
   },
   {
    "duration": 10,
    "start_time": "2023-01-13T00:22:55.085Z"
   },
   {
    "duration": 2231,
    "start_time": "2023-01-13T00:23:26.626Z"
   },
   {
    "duration": 13,
    "start_time": "2023-01-13T00:23:49.395Z"
   },
   {
    "duration": 2000,
    "start_time": "2023-01-13T00:40:48.305Z"
   },
   {
    "duration": 45,
    "start_time": "2023-01-13T00:40:56.723Z"
   },
   {
    "duration": 1321,
    "start_time": "2023-01-13T00:41:11.734Z"
   },
   {
    "duration": 31,
    "start_time": "2023-01-13T00:41:23.616Z"
   },
   {
    "duration": 4,
    "start_time": "2023-01-13T00:41:37.549Z"
   },
   {
    "duration": 2017,
    "start_time": "2023-01-13T00:52:56.031Z"
   },
   {
    "duration": 1213,
    "start_time": "2023-01-13T00:52:58.051Z"
   },
   {
    "duration": 1693,
    "start_time": "2023-01-13T00:52:59.266Z"
   },
   {
    "duration": 187,
    "start_time": "2023-01-13T00:53:00.960Z"
   },
   {
    "duration": 128,
    "start_time": "2023-01-13T00:53:01.150Z"
   },
   {
    "duration": 38,
    "start_time": "2023-01-13T00:53:01.279Z"
   },
   {
    "duration": 44,
    "start_time": "2023-01-13T00:53:01.318Z"
   },
   {
    "duration": 259,
    "start_time": "2023-01-13T00:53:01.363Z"
   },
   {
    "duration": 4,
    "start_time": "2023-01-13T00:53:01.623Z"
   },
   {
    "duration": 200,
    "start_time": "2023-01-13T00:53:01.628Z"
   },
   {
    "duration": 36,
    "start_time": "2023-01-13T00:53:01.829Z"
   },
   {
    "duration": 4,
    "start_time": "2023-01-13T00:53:01.867Z"
   },
   {
    "duration": 93,
    "start_time": "2023-01-13T00:53:01.872Z"
   },
   {
    "duration": 51,
    "start_time": "2023-01-13T00:53:01.968Z"
   },
   {
    "duration": 4,
    "start_time": "2023-01-13T00:53:02.020Z"
   },
   {
    "duration": 43,
    "start_time": "2023-01-13T00:53:02.026Z"
   },
   {
    "duration": 5,
    "start_time": "2023-01-13T00:53:02.072Z"
   },
   {
    "duration": 23,
    "start_time": "2023-01-13T00:53:02.078Z"
   },
   {
    "duration": 305,
    "start_time": "2023-01-13T00:53:02.115Z"
   },
   {
    "duration": 208,
    "start_time": "2023-01-13T00:53:02.422Z"
   },
   {
    "duration": 23,
    "start_time": "2023-01-13T00:53:02.631Z"
   },
   {
    "duration": 3,
    "start_time": "2023-01-13T00:53:02.656Z"
   },
   {
    "duration": 15,
    "start_time": "2023-01-13T00:53:02.661Z"
   },
   {
    "duration": 198,
    "start_time": "2023-01-13T00:53:02.677Z"
   },
   {
    "duration": 393,
    "start_time": "2023-01-13T00:53:02.876Z"
   },
   {
    "duration": 11,
    "start_time": "2023-01-13T00:53:03.271Z"
   },
   {
    "duration": 81,
    "start_time": "2023-01-13T00:53:03.283Z"
   },
   {
    "duration": 28,
    "start_time": "2023-01-13T00:53:03.366Z"
   },
   {
    "duration": 29,
    "start_time": "2023-01-13T00:53:03.395Z"
   },
   {
    "duration": 24,
    "start_time": "2023-01-13T00:53:03.426Z"
   },
   {
    "duration": 26,
    "start_time": "2023-01-13T00:53:03.451Z"
   },
   {
    "duration": 14,
    "start_time": "2023-01-13T00:53:03.479Z"
   },
   {
    "duration": 46,
    "start_time": "2023-01-13T00:53:03.494Z"
   },
   {
    "duration": 26,
    "start_time": "2023-01-13T00:53:03.542Z"
   },
   {
    "duration": 31,
    "start_time": "2023-01-13T00:53:03.570Z"
   },
   {
    "duration": 39,
    "start_time": "2023-01-13T00:53:03.603Z"
   },
   {
    "duration": 30,
    "start_time": "2023-01-13T00:53:03.644Z"
   },
   {
    "duration": 40,
    "start_time": "2023-01-13T00:53:03.676Z"
   },
   {
    "duration": 27,
    "start_time": "2023-01-13T00:53:03.718Z"
   },
   {
    "duration": 26,
    "start_time": "2023-01-13T00:53:03.747Z"
   },
   {
    "duration": 42,
    "start_time": "2023-01-13T00:53:03.776Z"
   },
   {
    "duration": 27,
    "start_time": "2023-01-13T00:53:03.820Z"
   },
   {
    "duration": 80,
    "start_time": "2023-01-13T00:53:03.848Z"
   },
   {
    "duration": 87,
    "start_time": "2023-01-13T00:53:03.929Z"
   },
   {
    "duration": 19,
    "start_time": "2023-01-13T00:53:04.018Z"
   },
   {
    "duration": 10,
    "start_time": "2023-01-13T00:53:04.038Z"
   },
   {
    "duration": 29,
    "start_time": "2023-01-13T00:53:04.050Z"
   },
   {
    "duration": 6342,
    "start_time": "2023-01-13T00:53:04.080Z"
   },
   {
    "duration": 22,
    "start_time": "2023-01-13T00:53:10.424Z"
   },
   {
    "duration": 1504,
    "start_time": "2023-01-13T00:53:10.447Z"
   },
   {
    "duration": 5,
    "start_time": "2023-01-13T00:53:11.953Z"
   },
   {
    "duration": 211,
    "start_time": "2023-01-13T00:53:11.959Z"
   },
   {
    "duration": 101,
    "start_time": "2023-01-13T00:53:12.172Z"
   },
   {
    "duration": 4,
    "start_time": "2023-01-13T00:53:12.275Z"
   },
   {
    "duration": 160,
    "start_time": "2023-01-13T00:53:12.280Z"
   },
   {
    "duration": 13883,
    "start_time": "2023-01-13T00:53:12.442Z"
   },
   {
    "duration": 7,
    "start_time": "2023-01-13T00:53:26.416Z"
   },
   {
    "duration": 12493,
    "start_time": "2023-01-13T00:53:26.424Z"
   },
   {
    "duration": 203,
    "start_time": "2023-01-13T00:53:38.919Z"
   },
   {
    "duration": 391,
    "start_time": "2023-01-13T00:53:39.125Z"
   },
   {
    "duration": 166,
    "start_time": "2023-01-13T01:01:49.030Z"
   },
   {
    "duration": 104,
    "start_time": "2023-01-13T01:04:43.524Z"
   },
   {
    "duration": 19,
    "start_time": "2023-01-13T01:06:03.193Z"
   },
   {
    "duration": 11,
    "start_time": "2023-01-13T01:09:30.796Z"
   },
   {
    "duration": 4,
    "start_time": "2023-01-13T01:09:37.776Z"
   },
   {
    "duration": 64,
    "start_time": "2023-01-13T01:10:10.173Z"
   },
   {
    "duration": 71,
    "start_time": "2023-01-13T01:16:21.180Z"
   },
   {
    "duration": 95,
    "start_time": "2023-01-13T01:17:13.576Z"
   },
   {
    "duration": 70,
    "start_time": "2023-01-13T01:18:13.386Z"
   },
   {
    "duration": 2421,
    "start_time": "2023-01-13T18:15:22.072Z"
   },
   {
    "duration": 1487,
    "start_time": "2023-01-13T18:15:24.495Z"
   },
   {
    "duration": 1240,
    "start_time": "2023-01-13T18:15:25.984Z"
   },
   {
    "duration": 153,
    "start_time": "2023-01-13T18:15:27.229Z"
   },
   {
    "duration": 102,
    "start_time": "2023-01-13T18:15:27.384Z"
   },
   {
    "duration": 48,
    "start_time": "2023-01-13T18:15:27.488Z"
   },
   {
    "duration": 20,
    "start_time": "2023-01-13T18:15:27.538Z"
   },
   {
    "duration": 307,
    "start_time": "2023-01-13T18:15:27.561Z"
   },
   {
    "duration": 4,
    "start_time": "2023-01-13T18:15:27.869Z"
   },
   {
    "duration": 220,
    "start_time": "2023-01-13T18:15:27.876Z"
   },
   {
    "duration": 43,
    "start_time": "2023-01-13T18:15:28.097Z"
   },
   {
    "duration": 4,
    "start_time": "2023-01-13T18:15:28.142Z"
   },
   {
    "duration": 100,
    "start_time": "2023-01-13T18:15:28.147Z"
   },
   {
    "duration": 31,
    "start_time": "2023-01-13T18:15:28.248Z"
   },
   {
    "duration": 3,
    "start_time": "2023-01-13T18:15:28.281Z"
   },
   {
    "duration": 54,
    "start_time": "2023-01-13T18:15:28.285Z"
   },
   {
    "duration": 3,
    "start_time": "2023-01-13T18:15:28.341Z"
   },
   {
    "duration": 17,
    "start_time": "2023-01-13T18:15:28.346Z"
   },
   {
    "duration": 333,
    "start_time": "2023-01-13T18:15:28.364Z"
   },
   {
    "duration": 201,
    "start_time": "2023-01-13T18:15:28.698Z"
   },
   {
    "duration": 39,
    "start_time": "2023-01-13T18:15:28.901Z"
   },
   {
    "duration": 4,
    "start_time": "2023-01-13T18:15:28.942Z"
   },
   {
    "duration": 13,
    "start_time": "2023-01-13T18:15:28.947Z"
   },
   {
    "duration": 220,
    "start_time": "2023-01-13T18:15:28.962Z"
   },
   {
    "duration": 447,
    "start_time": "2023-01-13T18:15:29.183Z"
   },
   {
    "duration": 11,
    "start_time": "2023-01-13T18:15:29.635Z"
   },
   {
    "duration": 85,
    "start_time": "2023-01-13T18:15:29.648Z"
   },
   {
    "duration": 28,
    "start_time": "2023-01-13T18:15:29.736Z"
   },
   {
    "duration": 17,
    "start_time": "2023-01-13T18:15:29.766Z"
   },
   {
    "duration": 52,
    "start_time": "2023-01-13T18:15:29.785Z"
   },
   {
    "duration": 26,
    "start_time": "2023-01-13T18:15:29.839Z"
   },
   {
    "duration": 15,
    "start_time": "2023-01-13T18:15:29.867Z"
   },
   {
    "duration": 68,
    "start_time": "2023-01-13T18:15:29.884Z"
   },
   {
    "duration": 31,
    "start_time": "2023-01-13T18:15:29.954Z"
   },
   {
    "duration": 46,
    "start_time": "2023-01-13T18:15:29.986Z"
   },
   {
    "duration": 32,
    "start_time": "2023-01-13T18:15:30.033Z"
   },
   {
    "duration": 31,
    "start_time": "2023-01-13T18:15:30.066Z"
   },
   {
    "duration": 51,
    "start_time": "2023-01-13T18:15:30.098Z"
   },
   {
    "duration": 33,
    "start_time": "2023-01-13T18:15:30.151Z"
   },
   {
    "duration": 47,
    "start_time": "2023-01-13T18:15:30.186Z"
   },
   {
    "duration": 32,
    "start_time": "2023-01-13T18:15:30.236Z"
   },
   {
    "duration": 32,
    "start_time": "2023-01-13T18:15:30.270Z"
   },
   {
    "duration": 154,
    "start_time": "2023-01-13T18:15:30.303Z"
   },
   {
    "duration": 108,
    "start_time": "2023-01-13T18:15:30.459Z"
   },
   {
    "duration": 55,
    "start_time": "2023-01-13T18:15:30.569Z"
   },
   {
    "duration": 32,
    "start_time": "2023-01-13T18:15:30.626Z"
   },
   {
    "duration": 60,
    "start_time": "2023-01-13T18:15:30.660Z"
   },
   {
    "duration": 103,
    "start_time": "2023-01-13T18:49:49.587Z"
   },
   {
    "duration": 150,
    "start_time": "2023-01-13T18:50:00.196Z"
   },
   {
    "duration": 25,
    "start_time": "2023-01-13T18:50:16.923Z"
   },
   {
    "duration": 5453,
    "start_time": "2023-01-13T18:50:36.316Z"
   },
   {
    "duration": 23,
    "start_time": "2023-01-13T18:50:43.898Z"
   },
   {
    "duration": 1295,
    "start_time": "2023-01-13T18:50:50.814Z"
   },
   {
    "duration": 4,
    "start_time": "2023-01-13T18:50:54.835Z"
   },
   {
    "duration": 165,
    "start_time": "2023-01-13T18:50:56.983Z"
   },
   {
    "duration": 41,
    "start_time": "2023-01-13T18:51:05.921Z"
   },
   {
    "duration": 5,
    "start_time": "2023-01-13T18:51:07.687Z"
   },
   {
    "duration": 164,
    "start_time": "2023-01-13T18:51:09.896Z"
   },
   {
    "duration": 19270,
    "start_time": "2023-01-13T18:51:15.352Z"
   },
   {
    "duration": 6,
    "start_time": "2023-01-13T18:51:43.636Z"
   },
   {
    "duration": 17894,
    "start_time": "2023-01-13T18:52:06.123Z"
   },
   {
    "duration": 186,
    "start_time": "2023-01-13T18:53:06.335Z"
   },
   {
    "duration": 163,
    "start_time": "2023-01-13T18:53:09.258Z"
   },
   {
    "duration": 376185,
    "start_time": "2023-01-13T18:53:25.134Z"
   },
   {
    "duration": 5,
    "start_time": "2023-01-13T23:19:45.422Z"
   },
   {
    "duration": 461,
    "start_time": "2023-01-13T23:20:59.466Z"
   },
   {
    "duration": 4,
    "start_time": "2023-01-13T23:33:45.043Z"
   },
   {
    "duration": 4,
    "start_time": "2023-01-13T23:38:55.572Z"
   },
   {
    "duration": 4,
    "start_time": "2023-01-13T23:39:01.870Z"
   },
   {
    "duration": 4,
    "start_time": "2023-01-13T23:39:39.022Z"
   },
   {
    "duration": 9,
    "start_time": "2023-01-13T23:40:37.367Z"
   },
   {
    "duration": 9,
    "start_time": "2023-01-13T23:40:41.768Z"
   },
   {
    "duration": 4,
    "start_time": "2023-01-13T23:41:13.554Z"
   },
   {
    "duration": 4,
    "start_time": "2023-01-13T23:41:38.113Z"
   },
   {
    "duration": 3,
    "start_time": "2023-01-13T23:44:35.269Z"
   },
   {
    "duration": 91,
    "start_time": "2023-01-13T23:48:29.725Z"
   },
   {
    "duration": 2095,
    "start_time": "2023-01-13T23:48:50.220Z"
   },
   {
    "duration": 1446,
    "start_time": "2023-01-13T23:48:52.318Z"
   },
   {
    "duration": 833,
    "start_time": "2023-01-13T23:48:53.766Z"
   },
   {
    "duration": 136,
    "start_time": "2023-01-13T23:48:54.601Z"
   },
   {
    "duration": 102,
    "start_time": "2023-01-13T23:48:54.739Z"
   },
   {
    "duration": 37,
    "start_time": "2023-01-13T23:48:54.843Z"
   },
   {
    "duration": 34,
    "start_time": "2023-01-13T23:48:54.882Z"
   },
   {
    "duration": 262,
    "start_time": "2023-01-13T23:48:54.917Z"
   },
   {
    "duration": 5,
    "start_time": "2023-01-13T23:48:55.180Z"
   },
   {
    "duration": 204,
    "start_time": "2023-01-13T23:48:55.188Z"
   },
   {
    "duration": 43,
    "start_time": "2023-01-13T23:48:55.394Z"
   },
   {
    "duration": 5,
    "start_time": "2023-01-13T23:48:55.438Z"
   },
   {
    "duration": 88,
    "start_time": "2023-01-13T23:48:55.444Z"
   },
   {
    "duration": 32,
    "start_time": "2023-01-13T23:48:55.534Z"
   },
   {
    "duration": 4,
    "start_time": "2023-01-13T23:48:55.567Z"
   },
   {
    "duration": 51,
    "start_time": "2023-01-13T23:48:55.573Z"
   },
   {
    "duration": 4,
    "start_time": "2023-01-13T23:48:55.626Z"
   },
   {
    "duration": 17,
    "start_time": "2023-01-13T23:48:55.632Z"
   },
   {
    "duration": 295,
    "start_time": "2023-01-13T23:48:55.650Z"
   },
   {
    "duration": 205,
    "start_time": "2023-01-13T23:48:55.947Z"
   },
   {
    "duration": 27,
    "start_time": "2023-01-13T23:48:56.153Z"
   },
   {
    "duration": 4,
    "start_time": "2023-01-13T23:48:56.181Z"
   },
   {
    "duration": 32,
    "start_time": "2023-01-13T23:48:56.186Z"
   },
   {
    "duration": 251,
    "start_time": "2023-01-13T23:48:56.220Z"
   },
   {
    "duration": 428,
    "start_time": "2023-01-13T23:48:56.472Z"
   },
   {
    "duration": 15,
    "start_time": "2023-01-13T23:48:56.902Z"
   },
   {
    "duration": 75,
    "start_time": "2023-01-13T23:48:56.919Z"
   },
   {
    "duration": 44,
    "start_time": "2023-01-13T23:48:57.000Z"
   },
   {
    "duration": 17,
    "start_time": "2023-01-13T23:48:57.046Z"
   },
   {
    "duration": 28,
    "start_time": "2023-01-13T23:48:57.065Z"
   },
   {
    "duration": 28,
    "start_time": "2023-01-13T23:48:57.115Z"
   },
   {
    "duration": 15,
    "start_time": "2023-01-13T23:48:57.145Z"
   },
   {
    "duration": 30,
    "start_time": "2023-01-13T23:48:57.162Z"
   },
   {
    "duration": 45,
    "start_time": "2023-01-13T23:48:57.194Z"
   },
   {
    "duration": 30,
    "start_time": "2023-01-13T23:48:57.240Z"
   },
   {
    "duration": 46,
    "start_time": "2023-01-13T23:48:57.272Z"
   },
   {
    "duration": 29,
    "start_time": "2023-01-13T23:48:57.320Z"
   },
   {
    "duration": 25,
    "start_time": "2023-01-13T23:48:57.350Z"
   },
   {
    "duration": 41,
    "start_time": "2023-01-13T23:48:57.377Z"
   },
   {
    "duration": 26,
    "start_time": "2023-01-13T23:48:57.420Z"
   },
   {
    "duration": 24,
    "start_time": "2023-01-13T23:48:57.448Z"
   },
   {
    "duration": 48,
    "start_time": "2023-01-13T23:48:57.474Z"
   },
   {
    "duration": 69,
    "start_time": "2023-01-13T23:48:57.524Z"
   },
   {
    "duration": 95,
    "start_time": "2023-01-13T23:48:57.595Z"
   },
   {
    "duration": 32,
    "start_time": "2023-01-13T23:48:57.692Z"
   },
   {
    "duration": 10,
    "start_time": "2023-01-13T23:48:57.726Z"
   },
   {
    "duration": 161,
    "start_time": "2023-01-13T23:48:57.738Z"
   },
   {
    "duration": 30,
    "start_time": "2023-01-13T23:48:57.901Z"
   },
   {
    "duration": 6281,
    "start_time": "2023-01-13T23:48:57.933Z"
   },
   {
    "duration": 21,
    "start_time": "2023-01-13T23:49:04.216Z"
   },
   {
    "duration": 1286,
    "start_time": "2023-01-13T23:49:04.239Z"
   },
   {
    "duration": 5,
    "start_time": "2023-01-13T23:49:05.526Z"
   },
   {
    "duration": 197,
    "start_time": "2023-01-13T23:49:05.532Z"
   },
   {
    "duration": 43,
    "start_time": "2023-01-13T23:49:05.731Z"
   },
   {
    "duration": 4,
    "start_time": "2023-01-13T23:49:05.776Z"
   },
   {
    "duration": 164,
    "start_time": "2023-01-13T23:49:05.781Z"
   },
   {
    "duration": 17670,
    "start_time": "2023-01-13T23:49:05.947Z"
   },
   {
    "duration": 7,
    "start_time": "2023-01-13T23:49:23.619Z"
   },
   {
    "duration": 18994,
    "start_time": "2023-01-13T23:49:23.628Z"
   },
   {
    "duration": 298,
    "start_time": "2023-01-13T23:49:42.624Z"
   },
   {
    "duration": 296,
    "start_time": "2023-01-13T23:49:42.925Z"
   },
   {
    "duration": 6,
    "start_time": "2023-01-13T23:49:43.223Z"
   },
   {
    "duration": 435907,
    "start_time": "2023-01-13T23:49:43.316Z"
   },
   {
    "duration": 7,
    "start_time": "2023-01-14T00:07:56.422Z"
   },
   {
    "duration": 20,
    "start_time": "2023-01-14T00:08:24.259Z"
   },
   {
    "duration": 5,
    "start_time": "2023-01-14T00:09:24.620Z"
   },
   {
    "duration": 4,
    "start_time": "2023-01-14T00:09:39.573Z"
   },
   {
    "duration": 3,
    "start_time": "2023-01-14T00:44:05.590Z"
   },
   {
    "duration": 292734,
    "start_time": "2023-01-14T00:44:46.089Z"
   },
   {
    "duration": 416,
    "start_time": "2023-01-14T00:57:57.518Z"
   },
   {
    "duration": 332,
    "start_time": "2023-01-14T00:59:06.996Z"
   },
   {
    "duration": 8,
    "start_time": "2023-01-14T01:04:17.630Z"
   },
   {
    "duration": 18774,
    "start_time": "2023-01-14T01:05:28.742Z"
   },
   {
    "duration": 9,
    "start_time": "2023-01-14T01:08:25.304Z"
   },
   {
    "duration": 46,
    "start_time": "2023-01-14T01:09:04.559Z"
   },
   {
    "duration": 102,
    "start_time": "2023-01-14T01:09:14.609Z"
   },
   {
    "duration": 8,
    "start_time": "2023-01-14T01:09:20.376Z"
   },
   {
    "duration": 1945,
    "start_time": "2023-01-14T01:11:23.945Z"
   },
   {
    "duration": 1310,
    "start_time": "2023-01-14T01:11:25.892Z"
   },
   {
    "duration": 805,
    "start_time": "2023-01-14T01:11:27.204Z"
   },
   {
    "duration": 139,
    "start_time": "2023-01-14T01:11:28.011Z"
   },
   {
    "duration": 99,
    "start_time": "2023-01-14T01:11:28.151Z"
   },
   {
    "duration": 36,
    "start_time": "2023-01-14T01:11:28.252Z"
   },
   {
    "duration": 12,
    "start_time": "2023-01-14T01:11:28.289Z"
   },
   {
    "duration": 245,
    "start_time": "2023-01-14T01:11:28.315Z"
   },
   {
    "duration": 3,
    "start_time": "2023-01-14T01:11:28.562Z"
   },
   {
    "duration": 184,
    "start_time": "2023-01-14T01:11:28.568Z"
   },
   {
    "duration": 34,
    "start_time": "2023-01-14T01:11:28.754Z"
   },
   {
    "duration": 4,
    "start_time": "2023-01-14T01:11:28.790Z"
   },
   {
    "duration": 86,
    "start_time": "2023-01-14T01:11:28.795Z"
   },
   {
    "duration": 39,
    "start_time": "2023-01-14T01:11:28.882Z"
   },
   {
    "duration": 4,
    "start_time": "2023-01-14T01:11:28.923Z"
   },
   {
    "duration": 35,
    "start_time": "2023-01-14T01:11:28.928Z"
   },
   {
    "duration": 4,
    "start_time": "2023-01-14T01:11:28.964Z"
   },
   {
    "duration": 17,
    "start_time": "2023-01-14T01:11:28.969Z"
   },
   {
    "duration": 302,
    "start_time": "2023-01-14T01:11:28.987Z"
   },
   {
    "duration": 182,
    "start_time": "2023-01-14T01:11:29.290Z"
   },
   {
    "duration": 26,
    "start_time": "2023-01-14T01:11:29.474Z"
   },
   {
    "duration": 3,
    "start_time": "2023-01-14T01:11:29.502Z"
   },
   {
    "duration": 12,
    "start_time": "2023-01-14T01:11:29.516Z"
   },
   {
    "duration": 188,
    "start_time": "2023-01-14T01:11:29.529Z"
   },
   {
    "duration": 399,
    "start_time": "2023-01-14T01:11:29.718Z"
   },
   {
    "duration": 12,
    "start_time": "2023-01-14T01:11:30.119Z"
   },
   {
    "duration": 79,
    "start_time": "2023-01-14T01:11:30.132Z"
   },
   {
    "duration": 37,
    "start_time": "2023-01-14T01:11:30.216Z"
   },
   {
    "duration": 15,
    "start_time": "2023-01-14T01:11:30.255Z"
   },
   {
    "duration": 38,
    "start_time": "2023-01-14T01:11:30.272Z"
   },
   {
    "duration": 64,
    "start_time": "2023-01-14T01:11:30.312Z"
   },
   {
    "duration": 21,
    "start_time": "2023-01-14T01:11:30.377Z"
   },
   {
    "duration": 51,
    "start_time": "2023-01-14T01:11:30.399Z"
   },
   {
    "duration": 29,
    "start_time": "2023-01-14T01:11:30.452Z"
   },
   {
    "duration": 31,
    "start_time": "2023-01-14T01:11:30.483Z"
   },
   {
    "duration": 28,
    "start_time": "2023-01-14T01:11:30.516Z"
   },
   {
    "duration": 51,
    "start_time": "2023-01-14T01:11:30.545Z"
   },
   {
    "duration": 33,
    "start_time": "2023-01-14T01:11:30.598Z"
   },
   {
    "duration": 59,
    "start_time": "2023-01-14T01:11:30.633Z"
   },
   {
    "duration": 31,
    "start_time": "2023-01-14T01:11:30.693Z"
   },
   {
    "duration": 28,
    "start_time": "2023-01-14T01:11:30.726Z"
   },
   {
    "duration": 33,
    "start_time": "2023-01-14T01:11:30.756Z"
   },
   {
    "duration": 84,
    "start_time": "2023-01-14T01:11:30.790Z"
   },
   {
    "duration": 94,
    "start_time": "2023-01-14T01:11:30.876Z"
   },
   {
    "duration": 43,
    "start_time": "2023-01-14T01:11:30.972Z"
   },
   {
    "duration": 14,
    "start_time": "2023-01-14T01:11:31.016Z"
   },
   {
    "duration": 143,
    "start_time": "2023-01-14T01:11:31.032Z"
   },
   {
    "duration": 23,
    "start_time": "2023-01-14T01:11:31.177Z"
   },
   {
    "duration": 5982,
    "start_time": "2023-01-14T01:11:31.201Z"
   },
   {
    "duration": 21,
    "start_time": "2023-01-14T01:11:37.185Z"
   },
   {
    "duration": 1263,
    "start_time": "2023-01-14T01:11:37.216Z"
   },
   {
    "duration": 5,
    "start_time": "2023-01-14T01:11:38.480Z"
   },
   {
    "duration": 183,
    "start_time": "2023-01-14T01:11:38.486Z"
   },
   {
    "duration": 48,
    "start_time": "2023-01-14T01:11:38.671Z"
   },
   {
    "duration": 4,
    "start_time": "2023-01-14T01:11:38.721Z"
   },
   {
    "duration": 154,
    "start_time": "2023-01-14T01:11:38.726Z"
   },
   {
    "duration": 13039,
    "start_time": "2023-01-14T01:11:38.882Z"
   },
   {
    "duration": 12595,
    "start_time": "2023-01-14T01:11:51.923Z"
   },
   {
    "duration": 201,
    "start_time": "2023-01-14T01:12:04.519Z"
   },
   {
    "duration": 393,
    "start_time": "2023-01-14T01:12:04.722Z"
   },
   {
    "duration": 97,
    "start_time": "2023-01-14T01:12:05.118Z"
   },
   {
    "duration": 102904,
    "start_time": "2023-01-14T01:12:05.217Z"
   },
   {
    "duration": 3,
    "start_time": "2023-01-14T01:13:48.122Z"
   },
   {
    "duration": 2696,
    "start_time": "2023-01-14T01:13:48.127Z"
   },
   {
    "duration": 6,
    "start_time": "2023-01-14T01:13:50.825Z"
   },
   {
    "duration": 396,
    "start_time": "2023-01-14T01:13:50.832Z"
   },
   {
    "duration": 8,
    "start_time": "2023-01-14T01:13:51.229Z"
   },
   {
    "duration": 8,
    "start_time": "2023-01-14T01:19:29.344Z"
   },
   {
    "duration": 27,
    "start_time": "2023-01-14T01:22:47.116Z"
   },
   {
    "duration": 3,
    "start_time": "2023-01-14T01:26:23.054Z"
   },
   {
    "duration": 1988,
    "start_time": "2023-01-14T01:31:26.791Z"
   },
   {
    "duration": 1459,
    "start_time": "2023-01-14T01:31:28.781Z"
   },
   {
    "duration": 1047,
    "start_time": "2023-01-14T01:31:30.242Z"
   },
   {
    "duration": 127,
    "start_time": "2023-01-14T01:31:31.291Z"
   },
   {
    "duration": 96,
    "start_time": "2023-01-14T01:31:31.420Z"
   },
   {
    "duration": 35,
    "start_time": "2023-01-14T01:31:31.518Z"
   },
   {
    "duration": 12,
    "start_time": "2023-01-14T01:31:31.555Z"
   },
   {
    "duration": 258,
    "start_time": "2023-01-14T01:31:31.569Z"
   },
   {
    "duration": 3,
    "start_time": "2023-01-14T01:31:31.829Z"
   },
   {
    "duration": 193,
    "start_time": "2023-01-14T01:31:31.836Z"
   },
   {
    "duration": 39,
    "start_time": "2023-01-14T01:31:32.031Z"
   },
   {
    "duration": 6,
    "start_time": "2023-01-14T01:31:32.072Z"
   },
   {
    "duration": 98,
    "start_time": "2023-01-14T01:31:32.079Z"
   },
   {
    "duration": 40,
    "start_time": "2023-01-14T01:31:32.179Z"
   },
   {
    "duration": 4,
    "start_time": "2023-01-14T01:31:32.220Z"
   },
   {
    "duration": 33,
    "start_time": "2023-01-14T01:31:32.225Z"
   },
   {
    "duration": 4,
    "start_time": "2023-01-14T01:31:32.260Z"
   },
   {
    "duration": 16,
    "start_time": "2023-01-14T01:31:32.266Z"
   },
   {
    "duration": 300,
    "start_time": "2023-01-14T01:31:32.283Z"
   },
   {
    "duration": 198,
    "start_time": "2023-01-14T01:31:32.584Z"
   },
   {
    "duration": 37,
    "start_time": "2023-01-14T01:31:32.783Z"
   },
   {
    "duration": 4,
    "start_time": "2023-01-14T01:31:32.821Z"
   },
   {
    "duration": 14,
    "start_time": "2023-01-14T01:31:32.827Z"
   },
   {
    "duration": 257,
    "start_time": "2023-01-14T01:31:32.843Z"
   },
   {
    "duration": 341,
    "start_time": "2023-01-14T01:31:33.102Z"
   },
   {
    "duration": 11,
    "start_time": "2023-01-14T01:31:33.444Z"
   },
   {
    "duration": 83,
    "start_time": "2023-01-14T01:31:33.456Z"
   },
   {
    "duration": 30,
    "start_time": "2023-01-14T01:31:33.542Z"
   },
   {
    "duration": 17,
    "start_time": "2023-01-14T01:31:33.573Z"
   },
   {
    "duration": 40,
    "start_time": "2023-01-14T01:31:33.591Z"
   },
   {
    "duration": 29,
    "start_time": "2023-01-14T01:31:33.632Z"
   },
   {
    "duration": 15,
    "start_time": "2023-01-14T01:31:33.662Z"
   },
   {
    "duration": 41,
    "start_time": "2023-01-14T01:31:33.678Z"
   },
   {
    "duration": 28,
    "start_time": "2023-01-14T01:31:33.721Z"
   },
   {
    "duration": 27,
    "start_time": "2023-01-14T01:31:33.751Z"
   },
   {
    "duration": 43,
    "start_time": "2023-01-14T01:31:33.780Z"
   },
   {
    "duration": 31,
    "start_time": "2023-01-14T01:31:33.824Z"
   },
   {
    "duration": 26,
    "start_time": "2023-01-14T01:31:33.856Z"
   },
   {
    "duration": 53,
    "start_time": "2023-01-14T01:31:33.884Z"
   },
   {
    "duration": 26,
    "start_time": "2023-01-14T01:31:33.939Z"
   },
   {
    "duration": 24,
    "start_time": "2023-01-14T01:31:33.967Z"
   },
   {
    "duration": 41,
    "start_time": "2023-01-14T01:31:33.993Z"
   },
   {
    "duration": 81,
    "start_time": "2023-01-14T01:31:34.035Z"
   },
   {
    "duration": 72,
    "start_time": "2023-01-14T01:31:34.117Z"
   },
   {
    "duration": 32,
    "start_time": "2023-01-14T01:31:34.190Z"
   },
   {
    "duration": 10,
    "start_time": "2023-01-14T01:31:34.223Z"
   },
   {
    "duration": 166,
    "start_time": "2023-01-14T01:31:34.235Z"
   },
   {
    "duration": 32,
    "start_time": "2023-01-14T01:31:34.403Z"
   },
   {
    "duration": 6160,
    "start_time": "2023-01-14T01:31:34.437Z"
   },
   {
    "duration": 27,
    "start_time": "2023-01-14T01:31:40.599Z"
   },
   {
    "duration": 1300,
    "start_time": "2023-01-14T01:31:40.628Z"
   },
   {
    "duration": 5,
    "start_time": "2023-01-14T01:31:41.930Z"
   },
   {
    "duration": 191,
    "start_time": "2023-01-14T01:31:41.937Z"
   },
   {
    "duration": 49,
    "start_time": "2023-01-14T01:31:42.130Z"
   },
   {
    "duration": 4,
    "start_time": "2023-01-14T01:31:42.181Z"
   },
   {
    "duration": 165,
    "start_time": "2023-01-14T01:31:42.187Z"
   },
   {
    "duration": 12662,
    "start_time": "2023-01-14T01:31:42.353Z"
   },
   {
    "duration": 12600,
    "start_time": "2023-01-14T01:31:55.017Z"
   },
   {
    "duration": 202,
    "start_time": "2023-01-14T01:32:07.618Z"
   },
   {
    "duration": 302,
    "start_time": "2023-01-14T01:32:07.822Z"
   },
   {
    "duration": 5,
    "start_time": "2023-01-14T01:32:08.217Z"
   },
   {
    "duration": 1982,
    "start_time": "2023-01-14T01:53:23.246Z"
   },
   {
    "duration": 1338,
    "start_time": "2023-01-14T01:53:25.230Z"
   },
   {
    "duration": 1038,
    "start_time": "2023-01-14T01:53:26.569Z"
   },
   {
    "duration": 128,
    "start_time": "2023-01-14T01:53:27.609Z"
   },
   {
    "duration": 92,
    "start_time": "2023-01-14T01:53:27.738Z"
   },
   {
    "duration": 34,
    "start_time": "2023-01-14T01:53:27.832Z"
   },
   {
    "duration": 16,
    "start_time": "2023-01-14T01:53:27.868Z"
   },
   {
    "duration": 271,
    "start_time": "2023-01-14T01:53:27.885Z"
   },
   {
    "duration": 3,
    "start_time": "2023-01-14T01:53:28.157Z"
   },
   {
    "duration": 194,
    "start_time": "2023-01-14T01:53:28.162Z"
   },
   {
    "duration": 36,
    "start_time": "2023-01-14T01:53:28.358Z"
   },
   {
    "duration": 4,
    "start_time": "2023-01-14T01:53:28.396Z"
   },
   {
    "duration": 79,
    "start_time": "2023-01-14T01:53:28.415Z"
   },
   {
    "duration": 45,
    "start_time": "2023-01-14T01:53:28.495Z"
   },
   {
    "duration": 4,
    "start_time": "2023-01-14T01:53:28.541Z"
   },
   {
    "duration": 35,
    "start_time": "2023-01-14T01:53:28.546Z"
   },
   {
    "duration": 4,
    "start_time": "2023-01-14T01:53:28.583Z"
   },
   {
    "duration": 34,
    "start_time": "2023-01-14T01:53:28.589Z"
   },
   {
    "duration": 281,
    "start_time": "2023-01-14T01:53:28.625Z"
   },
   {
    "duration": 208,
    "start_time": "2023-01-14T01:53:28.908Z"
   },
   {
    "duration": 29,
    "start_time": "2023-01-14T01:53:29.118Z"
   },
   {
    "duration": 5,
    "start_time": "2023-01-14T01:53:29.148Z"
   },
   {
    "duration": 13,
    "start_time": "2023-01-14T01:53:29.155Z"
   },
   {
    "duration": 271,
    "start_time": "2023-01-14T01:53:29.170Z"
   },
   {
    "duration": 329,
    "start_time": "2023-01-14T01:53:29.442Z"
   },
   {
    "duration": 12,
    "start_time": "2023-01-14T01:53:29.773Z"
   },
   {
    "duration": 78,
    "start_time": "2023-01-14T01:53:29.786Z"
   },
   {
    "duration": 29,
    "start_time": "2023-01-14T01:53:29.868Z"
   },
   {
    "duration": 29,
    "start_time": "2023-01-14T01:53:29.898Z"
   },
   {
    "duration": 27,
    "start_time": "2023-01-14T01:53:29.928Z"
   },
   {
    "duration": 25,
    "start_time": "2023-01-14T01:53:29.957Z"
   },
   {
    "duration": 16,
    "start_time": "2023-01-14T01:53:29.983Z"
   },
   {
    "duration": 28,
    "start_time": "2023-01-14T01:53:30.015Z"
   },
   {
    "duration": 35,
    "start_time": "2023-01-14T01:53:30.044Z"
   },
   {
    "duration": 52,
    "start_time": "2023-01-14T01:53:30.080Z"
   },
   {
    "duration": 25,
    "start_time": "2023-01-14T01:53:30.134Z"
   },
   {
    "duration": 33,
    "start_time": "2023-01-14T01:53:30.161Z"
   },
   {
    "duration": 40,
    "start_time": "2023-01-14T01:53:30.196Z"
   },
   {
    "duration": 48,
    "start_time": "2023-01-14T01:53:30.237Z"
   },
   {
    "duration": 26,
    "start_time": "2023-01-14T01:53:30.286Z"
   },
   {
    "duration": 36,
    "start_time": "2023-01-14T01:53:30.314Z"
   },
   {
    "duration": 49,
    "start_time": "2023-01-14T01:53:30.351Z"
   },
   {
    "duration": 74,
    "start_time": "2023-01-14T01:53:30.401Z"
   },
   {
    "duration": 94,
    "start_time": "2023-01-14T01:53:30.477Z"
   },
   {
    "duration": 35,
    "start_time": "2023-01-14T01:53:30.573Z"
   },
   {
    "duration": 9,
    "start_time": "2023-01-14T01:53:30.611Z"
   },
   {
    "duration": 161,
    "start_time": "2023-01-14T01:53:30.621Z"
   },
   {
    "duration": 37,
    "start_time": "2023-01-14T01:53:30.783Z"
   },
   {
    "duration": 6204,
    "start_time": "2023-01-14T01:53:30.822Z"
   },
   {
    "duration": 20,
    "start_time": "2023-01-14T01:53:37.028Z"
   },
   {
    "duration": 1305,
    "start_time": "2023-01-14T01:53:37.049Z"
   },
   {
    "duration": 4,
    "start_time": "2023-01-14T01:53:38.356Z"
   },
   {
    "duration": 181,
    "start_time": "2023-01-14T01:53:38.362Z"
   },
   {
    "duration": 42,
    "start_time": "2023-01-14T01:53:38.544Z"
   },
   {
    "duration": 4,
    "start_time": "2023-01-14T01:53:38.588Z"
   },
   {
    "duration": 174,
    "start_time": "2023-01-14T01:53:38.594Z"
   },
   {
    "duration": 12951,
    "start_time": "2023-01-14T01:53:38.771Z"
   },
   {
    "duration": 12998,
    "start_time": "2023-01-14T01:53:51.724Z"
   },
   {
    "duration": 216,
    "start_time": "2023-01-14T01:54:04.723Z"
   },
   {
    "duration": 228,
    "start_time": "2023-01-14T01:54:05.017Z"
   },
   {
    "duration": 5,
    "start_time": "2023-01-14T01:54:05.316Z"
   },
   {
    "duration": 2112,
    "start_time": "2023-01-14T02:11:35.378Z"
   },
   {
    "duration": 1337,
    "start_time": "2023-01-14T02:11:37.493Z"
   },
   {
    "duration": 1023,
    "start_time": "2023-01-14T02:11:38.832Z"
   },
   {
    "duration": 121,
    "start_time": "2023-01-14T02:11:39.857Z"
   },
   {
    "duration": 129,
    "start_time": "2023-01-14T02:11:39.980Z"
   },
   {
    "duration": 33,
    "start_time": "2023-01-14T02:11:40.110Z"
   },
   {
    "duration": 12,
    "start_time": "2023-01-14T02:11:40.145Z"
   },
   {
    "duration": 251,
    "start_time": "2023-01-14T02:11:40.158Z"
   },
   {
    "duration": 6,
    "start_time": "2023-01-14T02:11:40.410Z"
   },
   {
    "duration": 194,
    "start_time": "2023-01-14T02:11:40.418Z"
   },
   {
    "duration": 35,
    "start_time": "2023-01-14T02:11:40.614Z"
   },
   {
    "duration": 4,
    "start_time": "2023-01-14T02:11:40.652Z"
   },
   {
    "duration": 95,
    "start_time": "2023-01-14T02:11:40.658Z"
   },
   {
    "duration": 40,
    "start_time": "2023-01-14T02:11:40.754Z"
   },
   {
    "duration": 3,
    "start_time": "2023-01-14T02:11:40.796Z"
   },
   {
    "duration": 43,
    "start_time": "2023-01-14T02:11:40.801Z"
   },
   {
    "duration": 4,
    "start_time": "2023-01-14T02:11:40.846Z"
   },
   {
    "duration": 17,
    "start_time": "2023-01-14T02:11:40.852Z"
   },
   {
    "duration": 301,
    "start_time": "2023-01-14T02:11:40.871Z"
   },
   {
    "duration": 199,
    "start_time": "2023-01-14T02:11:41.174Z"
   },
   {
    "duration": 22,
    "start_time": "2023-01-14T02:11:41.375Z"
   },
   {
    "duration": 3,
    "start_time": "2023-01-14T02:11:41.399Z"
   },
   {
    "duration": 13,
    "start_time": "2023-01-14T02:11:41.415Z"
   },
   {
    "duration": 275,
    "start_time": "2023-01-14T02:11:41.430Z"
   },
   {
    "duration": 351,
    "start_time": "2023-01-14T02:11:41.706Z"
   },
   {
    "duration": 13,
    "start_time": "2023-01-14T02:11:42.059Z"
   },
   {
    "duration": 103,
    "start_time": "2023-01-14T02:11:42.074Z"
   },
   {
    "duration": 41,
    "start_time": "2023-01-14T02:11:42.181Z"
   },
   {
    "duration": 18,
    "start_time": "2023-01-14T02:11:42.223Z"
   },
   {
    "duration": 28,
    "start_time": "2023-01-14T02:11:42.243Z"
   },
   {
    "duration": 43,
    "start_time": "2023-01-14T02:11:42.273Z"
   },
   {
    "duration": 15,
    "start_time": "2023-01-14T02:11:42.317Z"
   },
   {
    "duration": 32,
    "start_time": "2023-01-14T02:11:42.333Z"
   },
   {
    "duration": 25,
    "start_time": "2023-01-14T02:11:42.366Z"
   },
   {
    "duration": 48,
    "start_time": "2023-01-14T02:11:42.393Z"
   },
   {
    "duration": 27,
    "start_time": "2023-01-14T02:11:42.443Z"
   },
   {
    "duration": 45,
    "start_time": "2023-01-14T02:11:42.471Z"
   },
   {
    "duration": 26,
    "start_time": "2023-01-14T02:11:42.518Z"
   },
   {
    "duration": 34,
    "start_time": "2023-01-14T02:11:42.546Z"
   },
   {
    "duration": 48,
    "start_time": "2023-01-14T02:11:42.582Z"
   },
   {
    "duration": 26,
    "start_time": "2023-01-14T02:11:42.632Z"
   },
   {
    "duration": 26,
    "start_time": "2023-01-14T02:11:42.660Z"
   },
   {
    "duration": 89,
    "start_time": "2023-01-14T02:11:42.688Z"
   },
   {
    "duration": 84,
    "start_time": "2023-01-14T02:11:42.779Z"
   },
   {
    "duration": 19,
    "start_time": "2023-01-14T02:11:42.865Z"
   },
   {
    "duration": 9,
    "start_time": "2023-01-14T02:11:42.886Z"
   },
   {
    "duration": 160,
    "start_time": "2023-01-14T02:11:42.896Z"
   },
   {
    "duration": 25,
    "start_time": "2023-01-14T02:11:43.057Z"
   },
   {
    "duration": 6208,
    "start_time": "2023-01-14T02:11:43.084Z"
   },
   {
    "duration": 22,
    "start_time": "2023-01-14T02:11:49.294Z"
   },
   {
    "duration": 1312,
    "start_time": "2023-01-14T02:11:49.318Z"
   },
   {
    "duration": 5,
    "start_time": "2023-01-14T02:11:50.632Z"
   },
   {
    "duration": 199,
    "start_time": "2023-01-14T02:11:50.639Z"
   },
   {
    "duration": 43,
    "start_time": "2023-01-14T02:11:50.840Z"
   },
   {
    "duration": 4,
    "start_time": "2023-01-14T02:11:50.884Z"
   },
   {
    "duration": 166,
    "start_time": "2023-01-14T02:11:50.889Z"
   },
   {
    "duration": 13064,
    "start_time": "2023-01-14T02:11:51.057Z"
   },
   {
    "duration": 12398,
    "start_time": "2023-01-14T02:12:04.122Z"
   },
   {
    "duration": 200,
    "start_time": "2023-01-14T02:12:16.522Z"
   },
   {
    "duration": 322,
    "start_time": "2023-01-14T02:12:16.724Z"
   },
   {
    "duration": 5,
    "start_time": "2023-01-14T02:12:17.117Z"
   },
   {
    "duration": 2114,
    "start_time": "2023-01-14T02:29:44.604Z"
   },
   {
    "duration": 1307,
    "start_time": "2023-01-14T02:29:46.720Z"
   },
   {
    "duration": 1084,
    "start_time": "2023-01-14T02:29:48.028Z"
   },
   {
    "duration": 190,
    "start_time": "2023-01-14T02:29:49.117Z"
   },
   {
    "duration": 88,
    "start_time": "2023-01-14T02:29:49.309Z"
   },
   {
    "duration": 43,
    "start_time": "2023-01-14T02:29:49.399Z"
   },
   {
    "duration": 17,
    "start_time": "2023-01-14T02:29:49.444Z"
   },
   {
    "duration": 254,
    "start_time": "2023-01-14T02:29:49.462Z"
   },
   {
    "duration": 4,
    "start_time": "2023-01-14T02:29:49.718Z"
   },
   {
    "duration": 204,
    "start_time": "2023-01-14T02:29:49.724Z"
   },
   {
    "duration": 36,
    "start_time": "2023-01-14T02:29:49.930Z"
   },
   {
    "duration": 4,
    "start_time": "2023-01-14T02:29:49.967Z"
   },
   {
    "duration": 95,
    "start_time": "2023-01-14T02:29:49.972Z"
   },
   {
    "duration": 33,
    "start_time": "2023-01-14T02:29:50.068Z"
   },
   {
    "duration": 13,
    "start_time": "2023-01-14T02:29:50.103Z"
   },
   {
    "duration": 47,
    "start_time": "2023-01-14T02:29:50.118Z"
   },
   {
    "duration": 4,
    "start_time": "2023-01-14T02:29:50.166Z"
   },
   {
    "duration": 17,
    "start_time": "2023-01-14T02:29:50.172Z"
   },
   {
    "duration": 302,
    "start_time": "2023-01-14T02:29:50.191Z"
   },
   {
    "duration": 200,
    "start_time": "2023-01-14T02:29:50.495Z"
   },
   {
    "duration": 32,
    "start_time": "2023-01-14T02:29:50.697Z"
   },
   {
    "duration": 4,
    "start_time": "2023-01-14T02:29:50.731Z"
   },
   {
    "duration": 18,
    "start_time": "2023-01-14T02:29:50.737Z"
   },
   {
    "duration": 266,
    "start_time": "2023-01-14T02:29:50.758Z"
   },
   {
    "duration": 323,
    "start_time": "2023-01-14T02:29:51.026Z"
   },
   {
    "duration": 11,
    "start_time": "2023-01-14T02:29:51.350Z"
   },
   {
    "duration": 80,
    "start_time": "2023-01-14T02:29:51.362Z"
   },
   {
    "duration": 30,
    "start_time": "2023-01-14T02:29:51.446Z"
   },
   {
    "duration": 16,
    "start_time": "2023-01-14T02:29:51.477Z"
   },
   {
    "duration": 44,
    "start_time": "2023-01-14T02:29:51.494Z"
   },
   {
    "duration": 37,
    "start_time": "2023-01-14T02:29:51.542Z"
   },
   {
    "duration": 18,
    "start_time": "2023-01-14T02:29:51.581Z"
   },
   {
    "duration": 47,
    "start_time": "2023-01-14T02:29:51.601Z"
   },
   {
    "duration": 28,
    "start_time": "2023-01-14T02:29:51.650Z"
   },
   {
    "duration": 44,
    "start_time": "2023-01-14T02:29:51.679Z"
   },
   {
    "duration": 25,
    "start_time": "2023-01-14T02:29:51.724Z"
   },
   {
    "duration": 46,
    "start_time": "2023-01-14T02:29:51.751Z"
   },
   {
    "duration": 30,
    "start_time": "2023-01-14T02:29:51.798Z"
   },
   {
    "duration": 36,
    "start_time": "2023-01-14T02:29:51.829Z"
   },
   {
    "duration": 27,
    "start_time": "2023-01-14T02:29:51.866Z"
   },
   {
    "duration": 24,
    "start_time": "2023-01-14T02:29:51.916Z"
   },
   {
    "duration": 40,
    "start_time": "2023-01-14T02:29:51.942Z"
   },
   {
    "duration": 75,
    "start_time": "2023-01-14T02:29:51.984Z"
   },
   {
    "duration": 98,
    "start_time": "2023-01-14T02:29:52.061Z"
   },
   {
    "duration": 22,
    "start_time": "2023-01-14T02:29:52.161Z"
   },
   {
    "duration": 30,
    "start_time": "2023-01-14T02:29:52.185Z"
   },
   {
    "duration": 138,
    "start_time": "2023-01-14T02:29:52.217Z"
   },
   {
    "duration": 24,
    "start_time": "2023-01-14T02:29:52.357Z"
   },
   {
    "duration": 6221,
    "start_time": "2023-01-14T02:29:52.383Z"
   },
   {
    "duration": 23,
    "start_time": "2023-01-14T02:29:58.606Z"
   },
   {
    "duration": 1307,
    "start_time": "2023-01-14T02:29:58.630Z"
   },
   {
    "duration": 4,
    "start_time": "2023-01-14T02:29:59.939Z"
   },
   {
    "duration": 193,
    "start_time": "2023-01-14T02:29:59.945Z"
   },
   {
    "duration": 41,
    "start_time": "2023-01-14T02:30:00.140Z"
   },
   {
    "duration": 4,
    "start_time": "2023-01-14T02:30:00.182Z"
   },
   {
    "duration": 175,
    "start_time": "2023-01-14T02:30:00.188Z"
   },
   {
    "duration": 19156,
    "start_time": "2023-01-14T02:30:00.365Z"
   },
   {
    "duration": 16100,
    "start_time": "2023-01-14T02:30:19.522Z"
   },
   {
    "duration": 200,
    "start_time": "2023-01-14T02:30:35.624Z"
   },
   {
    "duration": 228,
    "start_time": "2023-01-14T02:30:35.919Z"
   },
   {
    "duration": 10,
    "start_time": "2023-01-14T02:30:36.217Z"
   },
   {
    "duration": 2227,
    "start_time": "2023-01-14T02:43:02.293Z"
   },
   {
    "duration": 1416,
    "start_time": "2023-01-14T02:43:04.524Z"
   },
   {
    "duration": 1180,
    "start_time": "2023-01-14T02:43:05.942Z"
   },
   {
    "duration": 136,
    "start_time": "2023-01-14T02:43:07.124Z"
   },
   {
    "duration": 100,
    "start_time": "2023-01-14T02:43:07.262Z"
   },
   {
    "duration": 34,
    "start_time": "2023-01-14T02:43:07.364Z"
   },
   {
    "duration": 26,
    "start_time": "2023-01-14T02:43:07.399Z"
   },
   {
    "duration": 267,
    "start_time": "2023-01-14T02:43:07.427Z"
   },
   {
    "duration": 3,
    "start_time": "2023-01-14T02:43:07.695Z"
   },
   {
    "duration": 204,
    "start_time": "2023-01-14T02:43:07.700Z"
   },
   {
    "duration": 46,
    "start_time": "2023-01-14T02:43:07.905Z"
   },
   {
    "duration": 4,
    "start_time": "2023-01-14T02:43:07.952Z"
   },
   {
    "duration": 94,
    "start_time": "2023-01-14T02:43:07.957Z"
   },
   {
    "duration": 32,
    "start_time": "2023-01-14T02:43:08.054Z"
   },
   {
    "duration": 4,
    "start_time": "2023-01-14T02:43:08.088Z"
   },
   {
    "duration": 58,
    "start_time": "2023-01-14T02:43:08.094Z"
   },
   {
    "duration": 4,
    "start_time": "2023-01-14T02:43:08.154Z"
   },
   {
    "duration": 18,
    "start_time": "2023-01-14T02:43:08.160Z"
   },
   {
    "duration": 316,
    "start_time": "2023-01-14T02:43:08.179Z"
   },
   {
    "duration": 199,
    "start_time": "2023-01-14T02:43:08.497Z"
   },
   {
    "duration": 32,
    "start_time": "2023-01-14T02:43:08.698Z"
   },
   {
    "duration": 5,
    "start_time": "2023-01-14T02:43:08.732Z"
   },
   {
    "duration": 13,
    "start_time": "2023-01-14T02:43:08.738Z"
   },
   {
    "duration": 277,
    "start_time": "2023-01-14T02:43:08.752Z"
   },
   {
    "duration": 335,
    "start_time": "2023-01-14T02:43:09.030Z"
   },
   {
    "duration": 11,
    "start_time": "2023-01-14T02:43:09.366Z"
   },
   {
    "duration": 79,
    "start_time": "2023-01-14T02:43:09.378Z"
   },
   {
    "duration": 29,
    "start_time": "2023-01-14T02:43:09.459Z"
   },
   {
    "duration": 30,
    "start_time": "2023-01-14T02:43:09.489Z"
   },
   {
    "duration": 33,
    "start_time": "2023-01-14T02:43:09.521Z"
   },
   {
    "duration": 30,
    "start_time": "2023-01-14T02:43:09.555Z"
   },
   {
    "duration": 14,
    "start_time": "2023-01-14T02:43:09.587Z"
   },
   {
    "duration": 39,
    "start_time": "2023-01-14T02:43:09.602Z"
   },
   {
    "duration": 27,
    "start_time": "2023-01-14T02:43:09.642Z"
   },
   {
    "duration": 46,
    "start_time": "2023-01-14T02:43:09.670Z"
   },
   {
    "duration": 28,
    "start_time": "2023-01-14T02:43:09.718Z"
   },
   {
    "duration": 31,
    "start_time": "2023-01-14T02:43:09.747Z"
   },
   {
    "duration": 39,
    "start_time": "2023-01-14T02:43:09.779Z"
   },
   {
    "duration": 33,
    "start_time": "2023-01-14T02:43:09.820Z"
   },
   {
    "duration": 29,
    "start_time": "2023-01-14T02:43:09.854Z"
   },
   {
    "duration": 42,
    "start_time": "2023-01-14T02:43:09.888Z"
   },
   {
    "duration": 40,
    "start_time": "2023-01-14T02:43:09.931Z"
   },
   {
    "duration": 98,
    "start_time": "2023-01-14T02:43:09.973Z"
   },
   {
    "duration": 98,
    "start_time": "2023-01-14T02:43:10.073Z"
   },
   {
    "duration": 21,
    "start_time": "2023-01-14T02:43:10.172Z"
   },
   {
    "duration": 23,
    "start_time": "2023-01-14T02:43:10.195Z"
   },
   {
    "duration": 158,
    "start_time": "2023-01-14T02:43:10.220Z"
   },
   {
    "duration": 36,
    "start_time": "2023-01-14T02:43:10.380Z"
   },
   {
    "duration": 6782,
    "start_time": "2023-01-14T02:43:10.418Z"
   },
   {
    "duration": 26,
    "start_time": "2023-01-14T02:43:17.201Z"
   },
   {
    "duration": 1336,
    "start_time": "2023-01-14T02:43:17.229Z"
   },
   {
    "duration": 5,
    "start_time": "2023-01-14T02:43:18.567Z"
   },
   {
    "duration": 200,
    "start_time": "2023-01-14T02:43:18.574Z"
   },
   {
    "duration": 54,
    "start_time": "2023-01-14T02:43:18.775Z"
   },
   {
    "duration": 5,
    "start_time": "2023-01-14T02:43:18.831Z"
   },
   {
    "duration": 165,
    "start_time": "2023-01-14T02:43:18.837Z"
   },
   {
    "duration": 18600,
    "start_time": "2023-01-14T02:43:19.016Z"
   },
   {
    "duration": 16119,
    "start_time": "2023-01-14T02:43:37.618Z"
   },
   {
    "duration": 293,
    "start_time": "2023-01-14T02:43:53.739Z"
   },
   {
    "duration": 285,
    "start_time": "2023-01-14T02:43:54.035Z"
   },
   {
    "duration": 6,
    "start_time": "2023-01-14T02:43:54.322Z"
   },
   {
    "duration": 2033,
    "start_time": "2023-01-14T03:00:02.909Z"
   },
   {
    "duration": 1285,
    "start_time": "2023-01-14T03:00:04.945Z"
   },
   {
    "duration": 808,
    "start_time": "2023-01-14T03:00:06.232Z"
   },
   {
    "duration": 129,
    "start_time": "2023-01-14T03:00:07.042Z"
   },
   {
    "duration": 93,
    "start_time": "2023-01-14T03:00:07.173Z"
   },
   {
    "duration": 33,
    "start_time": "2023-01-14T03:00:07.268Z"
   },
   {
    "duration": 22,
    "start_time": "2023-01-14T03:00:07.302Z"
   },
   {
    "duration": 247,
    "start_time": "2023-01-14T03:00:07.325Z"
   },
   {
    "duration": 4,
    "start_time": "2023-01-14T03:00:07.573Z"
   },
   {
    "duration": 200,
    "start_time": "2023-01-14T03:00:07.580Z"
   },
   {
    "duration": 42,
    "start_time": "2023-01-14T03:00:07.781Z"
   },
   {
    "duration": 4,
    "start_time": "2023-01-14T03:00:07.824Z"
   },
   {
    "duration": 91,
    "start_time": "2023-01-14T03:00:07.829Z"
   },
   {
    "duration": 32,
    "start_time": "2023-01-14T03:00:07.921Z"
   },
   {
    "duration": 3,
    "start_time": "2023-01-14T03:00:07.955Z"
   },
   {
    "duration": 38,
    "start_time": "2023-01-14T03:00:07.959Z"
   },
   {
    "duration": 18,
    "start_time": "2023-01-14T03:00:07.999Z"
   },
   {
    "duration": 24,
    "start_time": "2023-01-14T03:00:08.018Z"
   },
   {
    "duration": 286,
    "start_time": "2023-01-14T03:00:08.044Z"
   },
   {
    "duration": 192,
    "start_time": "2023-01-14T03:00:08.332Z"
   },
   {
    "duration": 26,
    "start_time": "2023-01-14T03:00:08.526Z"
   },
   {
    "duration": 4,
    "start_time": "2023-01-14T03:00:08.554Z"
   },
   {
    "duration": 13,
    "start_time": "2023-01-14T03:00:08.560Z"
   },
   {
    "duration": 273,
    "start_time": "2023-01-14T03:00:08.575Z"
   },
   {
    "duration": 334,
    "start_time": "2023-01-14T03:00:08.849Z"
   },
   {
    "duration": 11,
    "start_time": "2023-01-14T03:00:09.185Z"
   },
   {
    "duration": 86,
    "start_time": "2023-01-14T03:00:09.198Z"
   },
   {
    "duration": 34,
    "start_time": "2023-01-14T03:00:09.288Z"
   },
   {
    "duration": 15,
    "start_time": "2023-01-14T03:00:09.323Z"
   },
   {
    "duration": 26,
    "start_time": "2023-01-14T03:00:09.340Z"
   },
   {
    "duration": 28,
    "start_time": "2023-01-14T03:00:09.367Z"
   },
   {
    "duration": 33,
    "start_time": "2023-01-14T03:00:09.396Z"
   },
   {
    "duration": 31,
    "start_time": "2023-01-14T03:00:09.431Z"
   },
   {
    "duration": 34,
    "start_time": "2023-01-14T03:00:09.464Z"
   },
   {
    "duration": 37,
    "start_time": "2023-01-14T03:00:09.499Z"
   },
   {
    "duration": 27,
    "start_time": "2023-01-14T03:00:09.538Z"
   },
   {
    "duration": 28,
    "start_time": "2023-01-14T03:00:09.566Z"
   },
   {
    "duration": 43,
    "start_time": "2023-01-14T03:00:09.595Z"
   },
   {
    "duration": 37,
    "start_time": "2023-01-14T03:00:09.639Z"
   },
   {
    "duration": 27,
    "start_time": "2023-01-14T03:00:09.677Z"
   },
   {
    "duration": 37,
    "start_time": "2023-01-14T03:00:09.705Z"
   },
   {
    "duration": 31,
    "start_time": "2023-01-14T03:00:09.744Z"
   },
   {
    "duration": 82,
    "start_time": "2023-01-14T03:00:09.776Z"
   },
   {
    "duration": 107,
    "start_time": "2023-01-14T03:00:09.859Z"
   },
   {
    "duration": 21,
    "start_time": "2023-01-14T03:00:09.967Z"
   },
   {
    "duration": 20,
    "start_time": "2023-01-14T03:00:09.989Z"
   },
   {
    "duration": 154,
    "start_time": "2023-01-14T03:00:10.014Z"
   },
   {
    "duration": 24,
    "start_time": "2023-01-14T03:00:10.170Z"
   },
   {
    "duration": 6197,
    "start_time": "2023-01-14T03:00:10.196Z"
   },
   {
    "duration": 29,
    "start_time": "2023-01-14T03:00:16.395Z"
   },
   {
    "duration": 1306,
    "start_time": "2023-01-14T03:00:16.425Z"
   },
   {
    "duration": 4,
    "start_time": "2023-01-14T03:00:17.733Z"
   },
   {
    "duration": 195,
    "start_time": "2023-01-14T03:00:17.739Z"
   },
   {
    "duration": 39,
    "start_time": "2023-01-14T03:00:17.936Z"
   },
   {
    "duration": 4,
    "start_time": "2023-01-14T03:00:17.977Z"
   },
   {
    "duration": 173,
    "start_time": "2023-01-14T03:00:17.982Z"
   },
   {
    "duration": 13661,
    "start_time": "2023-01-14T03:00:18.156Z"
   },
   {
    "duration": 14098,
    "start_time": "2023-01-14T03:00:31.819Z"
   },
   {
    "duration": 201,
    "start_time": "2023-01-14T03:00:45.918Z"
   },
   {
    "duration": 310,
    "start_time": "2023-01-14T03:00:46.121Z"
   },
   {
    "duration": 87,
    "start_time": "2023-01-14T03:00:46.433Z"
   },
   {
    "duration": 1981,
    "start_time": "2023-01-14T03:34:19.722Z"
   },
   {
    "duration": 1296,
    "start_time": "2023-01-14T03:34:21.705Z"
   },
   {
    "duration": 789,
    "start_time": "2023-01-14T03:34:23.003Z"
   },
   {
    "duration": 130,
    "start_time": "2023-01-14T03:34:23.794Z"
   },
   {
    "duration": 94,
    "start_time": "2023-01-14T03:34:23.926Z"
   },
   {
    "duration": 34,
    "start_time": "2023-01-14T03:34:24.022Z"
   },
   {
    "duration": 13,
    "start_time": "2023-01-14T03:34:24.057Z"
   },
   {
    "duration": 252,
    "start_time": "2023-01-14T03:34:24.071Z"
   },
   {
    "duration": 3,
    "start_time": "2023-01-14T03:34:24.325Z"
   },
   {
    "duration": 188,
    "start_time": "2023-01-14T03:34:24.330Z"
   },
   {
    "duration": 35,
    "start_time": "2023-01-14T03:34:24.520Z"
   },
   {
    "duration": 3,
    "start_time": "2023-01-14T03:34:24.557Z"
   },
   {
    "duration": 93,
    "start_time": "2023-01-14T03:34:24.562Z"
   },
   {
    "duration": 31,
    "start_time": "2023-01-14T03:34:24.656Z"
   },
   {
    "duration": 4,
    "start_time": "2023-01-14T03:34:24.689Z"
   },
   {
    "duration": 46,
    "start_time": "2023-01-14T03:34:24.695Z"
   },
   {
    "duration": 4,
    "start_time": "2023-01-14T03:34:24.743Z"
   },
   {
    "duration": 16,
    "start_time": "2023-01-14T03:34:24.748Z"
   },
   {
    "duration": 289,
    "start_time": "2023-01-14T03:34:24.766Z"
   },
   {
    "duration": 192,
    "start_time": "2023-01-14T03:34:25.057Z"
   },
   {
    "duration": 23,
    "start_time": "2023-01-14T03:34:25.250Z"
   },
   {
    "duration": 4,
    "start_time": "2023-01-14T03:34:25.275Z"
   },
   {
    "duration": 13,
    "start_time": "2023-01-14T03:34:25.281Z"
   },
   {
    "duration": 279,
    "start_time": "2023-01-14T03:34:25.296Z"
   },
   {
    "duration": 327,
    "start_time": "2023-01-14T03:34:25.576Z"
   },
   {
    "duration": 19,
    "start_time": "2023-01-14T03:34:25.905Z"
   },
   {
    "duration": 71,
    "start_time": "2023-01-14T03:34:25.926Z"
   },
   {
    "duration": 45,
    "start_time": "2023-01-14T03:34:26.000Z"
   },
   {
    "duration": 18,
    "start_time": "2023-01-14T03:34:26.046Z"
   },
   {
    "duration": 38,
    "start_time": "2023-01-14T03:34:26.066Z"
   },
   {
    "duration": 33,
    "start_time": "2023-01-14T03:34:26.106Z"
   },
   {
    "duration": 14,
    "start_time": "2023-01-14T03:34:26.141Z"
   },
   {
    "duration": 29,
    "start_time": "2023-01-14T03:34:26.156Z"
   },
   {
    "duration": 48,
    "start_time": "2023-01-14T03:34:26.187Z"
   },
   {
    "duration": 35,
    "start_time": "2023-01-14T03:34:26.236Z"
   },
   {
    "duration": 47,
    "start_time": "2023-01-14T03:34:26.273Z"
   },
   {
    "duration": 39,
    "start_time": "2023-01-14T03:34:26.322Z"
   },
   {
    "duration": 54,
    "start_time": "2023-01-14T03:34:26.363Z"
   },
   {
    "duration": 31,
    "start_time": "2023-01-14T03:34:26.418Z"
   },
   {
    "duration": 27,
    "start_time": "2023-01-14T03:34:26.450Z"
   },
   {
    "duration": 40,
    "start_time": "2023-01-14T03:34:26.478Z"
   },
   {
    "duration": 27,
    "start_time": "2023-01-14T03:34:26.519Z"
   },
   {
    "duration": 82,
    "start_time": "2023-01-14T03:34:26.548Z"
   },
   {
    "duration": 84,
    "start_time": "2023-01-14T03:34:26.632Z"
   },
   {
    "duration": 19,
    "start_time": "2023-01-14T03:34:26.718Z"
   },
   {
    "duration": 9,
    "start_time": "2023-01-14T03:34:26.739Z"
   },
   {
    "duration": 179,
    "start_time": "2023-01-14T03:34:26.750Z"
   },
   {
    "duration": 25,
    "start_time": "2023-01-14T03:34:26.930Z"
   },
   {
    "duration": 6564,
    "start_time": "2023-01-14T03:34:26.957Z"
   },
   {
    "duration": 21,
    "start_time": "2023-01-14T03:34:33.523Z"
   },
   {
    "duration": 1326,
    "start_time": "2023-01-14T03:34:33.545Z"
   },
   {
    "duration": 4,
    "start_time": "2023-01-14T03:34:34.872Z"
   },
   {
    "duration": 203,
    "start_time": "2023-01-14T03:34:34.878Z"
   },
   {
    "duration": 63,
    "start_time": "2023-01-14T03:34:35.083Z"
   },
   {
    "duration": 4,
    "start_time": "2023-01-14T03:34:35.148Z"
   },
   {
    "duration": 153,
    "start_time": "2023-01-14T03:34:35.153Z"
   },
   {
    "duration": 14604,
    "start_time": "2023-01-14T03:34:35.315Z"
   },
   {
    "duration": 13101,
    "start_time": "2023-01-14T03:34:49.921Z"
   },
   {
    "duration": 199,
    "start_time": "2023-01-14T03:35:03.023Z"
   },
   {
    "duration": 391,
    "start_time": "2023-01-14T03:35:03.224Z"
   },
   {
    "duration": 6,
    "start_time": "2023-01-14T03:35:03.618Z"
   },
   {
    "duration": 1527,
    "start_time": "2023-01-14T15:25:54.092Z"
   },
   {
    "duration": 2236,
    "start_time": "2023-01-14T15:35:08.444Z"
   },
   {
    "duration": 1305,
    "start_time": "2023-01-14T15:35:10.682Z"
   },
   {
    "duration": 1071,
    "start_time": "2023-01-14T15:35:11.991Z"
   },
   {
    "duration": 123,
    "start_time": "2023-01-14T15:35:13.063Z"
   },
   {
    "duration": 130,
    "start_time": "2023-01-14T15:35:13.187Z"
   },
   {
    "duration": 32,
    "start_time": "2023-01-14T15:35:13.319Z"
   },
   {
    "duration": 13,
    "start_time": "2023-01-14T15:35:13.352Z"
   },
   {
    "duration": 252,
    "start_time": "2023-01-14T15:35:13.367Z"
   },
   {
    "duration": 3,
    "start_time": "2023-01-14T15:35:13.622Z"
   },
   {
    "duration": 207,
    "start_time": "2023-01-14T15:35:13.627Z"
   },
   {
    "duration": 35,
    "start_time": "2023-01-14T15:35:13.835Z"
   },
   {
    "duration": 4,
    "start_time": "2023-01-14T15:35:13.871Z"
   },
   {
    "duration": 107,
    "start_time": "2023-01-14T15:35:13.876Z"
   },
   {
    "duration": 50,
    "start_time": "2023-01-14T15:35:13.985Z"
   },
   {
    "duration": 4,
    "start_time": "2023-01-14T15:35:14.036Z"
   },
   {
    "duration": 41,
    "start_time": "2023-01-14T15:35:14.042Z"
   },
   {
    "duration": 4,
    "start_time": "2023-01-14T15:35:14.085Z"
   },
   {
    "duration": 37,
    "start_time": "2023-01-14T15:35:14.091Z"
   },
   {
    "duration": 318,
    "start_time": "2023-01-14T15:35:14.130Z"
   },
   {
    "duration": 203,
    "start_time": "2023-01-14T15:35:14.449Z"
   },
   {
    "duration": 24,
    "start_time": "2023-01-14T15:35:14.654Z"
   },
   {
    "duration": 6,
    "start_time": "2023-01-14T15:35:14.679Z"
   },
   {
    "duration": 32,
    "start_time": "2023-01-14T15:35:14.687Z"
   },
   {
    "duration": 263,
    "start_time": "2023-01-14T15:35:14.721Z"
   },
   {
    "duration": 343,
    "start_time": "2023-01-14T15:35:14.986Z"
   },
   {
    "duration": 11,
    "start_time": "2023-01-14T15:35:15.332Z"
   },
   {
    "duration": 88,
    "start_time": "2023-01-14T15:35:15.348Z"
   },
   {
    "duration": 30,
    "start_time": "2023-01-14T15:35:15.438Z"
   },
   {
    "duration": 18,
    "start_time": "2023-01-14T15:35:15.470Z"
   },
   {
    "duration": 51,
    "start_time": "2023-01-14T15:35:15.490Z"
   },
   {
    "duration": 29,
    "start_time": "2023-01-14T15:35:15.543Z"
   },
   {
    "duration": 15,
    "start_time": "2023-01-14T15:35:15.574Z"
   },
   {
    "duration": 47,
    "start_time": "2023-01-14T15:35:15.591Z"
   },
   {
    "duration": 41,
    "start_time": "2023-01-14T15:35:15.639Z"
   },
   {
    "duration": 44,
    "start_time": "2023-01-14T15:35:15.682Z"
   },
   {
    "duration": 27,
    "start_time": "2023-01-14T15:35:15.728Z"
   },
   {
    "duration": 66,
    "start_time": "2023-01-14T15:35:15.757Z"
   },
   {
    "duration": 48,
    "start_time": "2023-01-14T15:35:15.825Z"
   },
   {
    "duration": 50,
    "start_time": "2023-01-14T15:35:15.875Z"
   },
   {
    "duration": 28,
    "start_time": "2023-01-14T15:35:15.927Z"
   },
   {
    "duration": 25,
    "start_time": "2023-01-14T15:35:15.956Z"
   },
   {
    "duration": 45,
    "start_time": "2023-01-14T15:35:15.982Z"
   },
   {
    "duration": 70,
    "start_time": "2023-01-14T15:35:16.028Z"
   },
   {
    "duration": 90,
    "start_time": "2023-01-14T15:35:16.099Z"
   },
   {
    "duration": 34,
    "start_time": "2023-01-14T15:35:16.190Z"
   },
   {
    "duration": 9,
    "start_time": "2023-01-14T15:35:16.226Z"
   },
   {
    "duration": 190,
    "start_time": "2023-01-14T15:35:16.237Z"
   },
   {
    "duration": 31,
    "start_time": "2023-01-14T15:35:16.429Z"
   },
   {
    "duration": 5568,
    "start_time": "2023-01-14T15:35:16.462Z"
   },
   {
    "duration": 24,
    "start_time": "2023-01-14T15:35:22.033Z"
   },
   {
    "duration": 1327,
    "start_time": "2023-01-14T15:35:22.060Z"
   },
   {
    "duration": 4,
    "start_time": "2023-01-14T15:35:23.389Z"
   },
   {
    "duration": 185,
    "start_time": "2023-01-14T15:35:23.394Z"
   },
   {
    "duration": 58,
    "start_time": "2023-01-14T15:35:23.580Z"
   },
   {
    "duration": 4,
    "start_time": "2023-01-14T15:35:23.639Z"
   },
   {
    "duration": 153,
    "start_time": "2023-01-14T15:35:23.645Z"
   },
   {
    "duration": 19024,
    "start_time": "2023-01-14T15:35:23.801Z"
   },
   {
    "duration": 17610,
    "start_time": "2023-01-14T15:35:42.915Z"
   },
   {
    "duration": 296,
    "start_time": "2023-01-14T15:36:00.527Z"
   },
   {
    "duration": 392,
    "start_time": "2023-01-14T15:36:00.825Z"
   },
   {
    "duration": 198,
    "start_time": "2023-01-14T15:36:01.219Z"
   },
   {
    "duration": 0,
    "start_time": "2023-01-14T15:36:01.419Z"
   },
   {
    "duration": 0,
    "start_time": "2023-01-14T15:36:01.420Z"
   },
   {
    "duration": 0,
    "start_time": "2023-01-14T15:36:01.422Z"
   },
   {
    "duration": 0,
    "start_time": "2023-01-14T15:36:01.423Z"
   },
   {
    "duration": 0,
    "start_time": "2023-01-14T15:36:01.425Z"
   },
   {
    "duration": 0,
    "start_time": "2023-01-14T15:36:01.426Z"
   },
   {
    "duration": 0,
    "start_time": "2023-01-14T15:36:01.427Z"
   },
   {
    "duration": 0,
    "start_time": "2023-01-14T15:36:01.428Z"
   },
   {
    "duration": 0,
    "start_time": "2023-01-14T15:36:01.430Z"
   },
   {
    "duration": 0,
    "start_time": "2023-01-14T15:36:01.431Z"
   },
   {
    "duration": 0,
    "start_time": "2023-01-14T15:36:01.432Z"
   },
   {
    "duration": 0,
    "start_time": "2023-01-14T15:36:01.435Z"
   },
   {
    "duration": 2096,
    "start_time": "2023-01-14T16:31:57.849Z"
   },
   {
    "duration": 4,
    "start_time": "2023-01-14T16:31:59.948Z"
   },
   {
    "duration": 803,
    "start_time": "2023-01-14T16:31:59.953Z"
   },
   {
    "duration": 137,
    "start_time": "2023-01-14T16:32:00.759Z"
   },
   {
    "duration": 91,
    "start_time": "2023-01-14T16:32:00.898Z"
   },
   {
    "duration": 41,
    "start_time": "2023-01-14T16:32:00.990Z"
   },
   {
    "duration": 12,
    "start_time": "2023-01-14T16:32:01.032Z"
   },
   {
    "duration": 253,
    "start_time": "2023-01-14T16:32:01.045Z"
   },
   {
    "duration": 5,
    "start_time": "2023-01-14T16:32:01.300Z"
   },
   {
    "duration": 211,
    "start_time": "2023-01-14T16:32:01.308Z"
   },
   {
    "duration": 34,
    "start_time": "2023-01-14T16:32:01.521Z"
   },
   {
    "duration": 4,
    "start_time": "2023-01-14T16:32:01.556Z"
   },
   {
    "duration": 116,
    "start_time": "2023-01-14T16:32:01.562Z"
   },
   {
    "duration": 45,
    "start_time": "2023-01-14T16:32:01.681Z"
   },
   {
    "duration": 4,
    "start_time": "2023-01-14T16:32:01.728Z"
   },
   {
    "duration": 57,
    "start_time": "2023-01-14T16:32:01.734Z"
   },
   {
    "duration": 4,
    "start_time": "2023-01-14T16:32:01.793Z"
   },
   {
    "duration": 29,
    "start_time": "2023-01-14T16:32:01.798Z"
   },
   {
    "duration": 309,
    "start_time": "2023-01-14T16:32:01.829Z"
   },
   {
    "duration": 207,
    "start_time": "2023-01-14T16:32:02.140Z"
   },
   {
    "duration": 23,
    "start_time": "2023-01-14T16:32:02.348Z"
   },
   {
    "duration": 4,
    "start_time": "2023-01-14T16:32:02.373Z"
   },
   {
    "duration": 39,
    "start_time": "2023-01-14T16:32:02.380Z"
   },
   {
    "duration": 211,
    "start_time": "2023-01-14T16:32:02.421Z"
   },
   {
    "duration": 350,
    "start_time": "2023-01-14T16:32:02.634Z"
   },
   {
    "duration": 12,
    "start_time": "2023-01-14T16:32:02.986Z"
   },
   {
    "duration": 84,
    "start_time": "2023-01-14T16:32:02.999Z"
   },
   {
    "duration": 39,
    "start_time": "2023-01-14T16:32:03.086Z"
   },
   {
    "duration": 16,
    "start_time": "2023-01-14T16:32:03.127Z"
   },
   {
    "duration": 26,
    "start_time": "2023-01-14T16:32:03.145Z"
   },
   {
    "duration": 50,
    "start_time": "2023-01-14T16:32:03.173Z"
   },
   {
    "duration": 15,
    "start_time": "2023-01-14T16:32:03.224Z"
   },
   {
    "duration": 36,
    "start_time": "2023-01-14T16:32:03.240Z"
   },
   {
    "duration": 43,
    "start_time": "2023-01-14T16:32:03.278Z"
   },
   {
    "duration": 29,
    "start_time": "2023-01-14T16:32:03.323Z"
   },
   {
    "duration": 26,
    "start_time": "2023-01-14T16:32:03.353Z"
   },
   {
    "duration": 47,
    "start_time": "2023-01-14T16:32:03.381Z"
   },
   {
    "duration": 31,
    "start_time": "2023-01-14T16:32:03.429Z"
   },
   {
    "duration": 33,
    "start_time": "2023-01-14T16:32:03.462Z"
   },
   {
    "duration": 40,
    "start_time": "2023-01-14T16:32:03.496Z"
   },
   {
    "duration": 28,
    "start_time": "2023-01-14T16:32:03.538Z"
   },
   {
    "duration": 27,
    "start_time": "2023-01-14T16:32:03.567Z"
   },
   {
    "duration": 95,
    "start_time": "2023-01-14T16:32:03.596Z"
   },
   {
    "duration": 101,
    "start_time": "2023-01-14T16:32:03.692Z"
   },
   {
    "duration": 32,
    "start_time": "2023-01-14T16:32:03.794Z"
   },
   {
    "duration": 11,
    "start_time": "2023-01-14T16:32:03.828Z"
   },
   {
    "duration": 158,
    "start_time": "2023-01-14T16:32:03.840Z"
   },
   {
    "duration": 29,
    "start_time": "2023-01-14T16:32:04.000Z"
   },
   {
    "duration": 2071,
    "start_time": "2023-01-14T16:32:20.271Z"
   },
   {
    "duration": 1272,
    "start_time": "2023-01-14T16:32:22.344Z"
   },
   {
    "duration": 1061,
    "start_time": "2023-01-14T16:32:23.618Z"
   },
   {
    "duration": 141,
    "start_time": "2023-01-14T16:32:24.681Z"
   },
   {
    "duration": 96,
    "start_time": "2023-01-14T16:32:24.823Z"
   },
   {
    "duration": 33,
    "start_time": "2023-01-14T16:32:24.921Z"
   },
   {
    "duration": 14,
    "start_time": "2023-01-14T16:32:24.955Z"
   },
   {
    "duration": 262,
    "start_time": "2023-01-14T16:32:24.970Z"
   },
   {
    "duration": 3,
    "start_time": "2023-01-14T16:32:25.234Z"
   },
   {
    "duration": 204,
    "start_time": "2023-01-14T16:32:25.240Z"
   },
   {
    "duration": 34,
    "start_time": "2023-01-14T16:32:25.445Z"
   },
   {
    "duration": 3,
    "start_time": "2023-01-14T16:32:25.481Z"
   },
   {
    "duration": 91,
    "start_time": "2023-01-14T16:32:25.485Z"
   },
   {
    "duration": 41,
    "start_time": "2023-01-14T16:32:25.578Z"
   },
   {
    "duration": 4,
    "start_time": "2023-01-14T16:32:25.621Z"
   },
   {
    "duration": 39,
    "start_time": "2023-01-14T16:32:25.627Z"
   },
   {
    "duration": 4,
    "start_time": "2023-01-14T16:32:25.668Z"
   },
   {
    "duration": 17,
    "start_time": "2023-01-14T16:32:25.674Z"
   },
   {
    "duration": 284,
    "start_time": "2023-01-14T16:32:25.716Z"
   },
   {
    "duration": 200,
    "start_time": "2023-01-14T16:32:26.001Z"
   },
   {
    "duration": 26,
    "start_time": "2023-01-14T16:32:26.203Z"
   },
   {
    "duration": 4,
    "start_time": "2023-01-14T16:32:26.231Z"
   },
   {
    "duration": 17,
    "start_time": "2023-01-14T16:32:26.236Z"
   },
   {
    "duration": 316,
    "start_time": "2023-01-14T16:32:26.255Z"
   },
   {
    "duration": 352,
    "start_time": "2023-01-14T16:32:26.573Z"
   },
   {
    "duration": 11,
    "start_time": "2023-01-14T16:32:26.927Z"
   },
   {
    "duration": 87,
    "start_time": "2023-01-14T16:32:26.939Z"
   },
   {
    "duration": 29,
    "start_time": "2023-01-14T16:32:27.030Z"
   },
   {
    "duration": 15,
    "start_time": "2023-01-14T16:32:27.060Z"
   },
   {
    "duration": 50,
    "start_time": "2023-01-14T16:32:27.077Z"
   },
   {
    "duration": 28,
    "start_time": "2023-01-14T16:32:27.129Z"
   },
   {
    "duration": 18,
    "start_time": "2023-01-14T16:32:27.159Z"
   },
   {
    "duration": 46,
    "start_time": "2023-01-14T16:32:27.178Z"
   },
   {
    "duration": 27,
    "start_time": "2023-01-14T16:32:27.225Z"
   },
   {
    "duration": 30,
    "start_time": "2023-01-14T16:32:27.253Z"
   },
   {
    "duration": 51,
    "start_time": "2023-01-14T16:32:27.285Z"
   },
   {
    "duration": 34,
    "start_time": "2023-01-14T16:32:27.338Z"
   },
   {
    "duration": 46,
    "start_time": "2023-01-14T16:32:27.373Z"
   },
   {
    "duration": 36,
    "start_time": "2023-01-14T16:32:27.421Z"
   },
   {
    "duration": 32,
    "start_time": "2023-01-14T16:32:27.458Z"
   },
   {
    "duration": 49,
    "start_time": "2023-01-14T16:32:27.493Z"
   },
   {
    "duration": 31,
    "start_time": "2023-01-14T16:32:27.544Z"
   },
   {
    "duration": 87,
    "start_time": "2023-01-14T16:32:27.577Z"
   },
   {
    "duration": 85,
    "start_time": "2023-01-14T16:32:27.666Z"
   },
   {
    "duration": 21,
    "start_time": "2023-01-14T16:32:27.753Z"
   },
   {
    "duration": 10,
    "start_time": "2023-01-14T16:32:27.775Z"
   },
   {
    "duration": 170,
    "start_time": "2023-01-14T16:32:27.787Z"
   },
   {
    "duration": 29,
    "start_time": "2023-01-14T16:32:27.959Z"
   },
   {
    "duration": 6615,
    "start_time": "2023-01-14T16:32:27.989Z"
   },
   {
    "duration": 30,
    "start_time": "2023-01-14T16:32:34.606Z"
   },
   {
    "duration": 1349,
    "start_time": "2023-01-14T16:32:34.638Z"
   },
   {
    "duration": 4,
    "start_time": "2023-01-14T16:32:35.989Z"
   },
   {
    "duration": 221,
    "start_time": "2023-01-14T16:32:35.995Z"
   },
   {
    "duration": 44,
    "start_time": "2023-01-14T16:32:36.218Z"
   },
   {
    "duration": 4,
    "start_time": "2023-01-14T16:32:36.264Z"
   },
   {
    "duration": 161,
    "start_time": "2023-01-14T16:32:36.269Z"
   },
   {
    "duration": 17886,
    "start_time": "2023-01-14T16:32:36.431Z"
   },
   {
    "duration": 18407,
    "start_time": "2023-01-14T16:32:54.319Z"
   },
   {
    "duration": 301,
    "start_time": "2023-01-14T16:33:12.816Z"
   },
   {
    "duration": 198,
    "start_time": "2023-01-14T16:33:13.119Z"
   },
   {
    "duration": 199,
    "start_time": "2023-01-14T16:33:13.320Z"
   },
   {
    "duration": 0,
    "start_time": "2023-01-14T16:33:13.521Z"
   },
   {
    "duration": 0,
    "start_time": "2023-01-14T16:33:13.523Z"
   },
   {
    "duration": 0,
    "start_time": "2023-01-14T16:33:13.524Z"
   },
   {
    "duration": 0,
    "start_time": "2023-01-14T16:33:13.525Z"
   },
   {
    "duration": 0,
    "start_time": "2023-01-14T16:33:13.526Z"
   },
   {
    "duration": 0,
    "start_time": "2023-01-14T16:33:13.527Z"
   },
   {
    "duration": 0,
    "start_time": "2023-01-14T16:33:13.529Z"
   },
   {
    "duration": 0,
    "start_time": "2023-01-14T16:33:13.530Z"
   },
   {
    "duration": 0,
    "start_time": "2023-01-14T16:33:13.531Z"
   },
   {
    "duration": 0,
    "start_time": "2023-01-14T16:33:13.532Z"
   },
   {
    "duration": 0,
    "start_time": "2023-01-14T16:33:13.534Z"
   },
   {
    "duration": 0,
    "start_time": "2023-01-14T16:33:13.535Z"
   },
   {
    "duration": 11,
    "start_time": "2023-01-14T16:33:51.322Z"
   },
   {
    "duration": 3,
    "start_time": "2023-01-14T16:34:05.411Z"
   },
   {
    "duration": 2151,
    "start_time": "2023-01-14T16:34:15.678Z"
   },
   {
    "duration": 1314,
    "start_time": "2023-01-14T16:34:17.831Z"
   },
   {
    "duration": 832,
    "start_time": "2023-01-14T16:34:19.147Z"
   },
   {
    "duration": 156,
    "start_time": "2023-01-14T16:34:19.981Z"
   },
   {
    "duration": 126,
    "start_time": "2023-01-14T16:34:20.139Z"
   },
   {
    "duration": 38,
    "start_time": "2023-01-14T16:34:20.267Z"
   },
   {
    "duration": 13,
    "start_time": "2023-01-14T16:34:20.315Z"
   },
   {
    "duration": 286,
    "start_time": "2023-01-14T16:34:20.331Z"
   },
   {
    "duration": 4,
    "start_time": "2023-01-14T16:34:20.619Z"
   },
   {
    "duration": 212,
    "start_time": "2023-01-14T16:34:20.627Z"
   },
   {
    "duration": 37,
    "start_time": "2023-01-14T16:34:20.841Z"
   },
   {
    "duration": 4,
    "start_time": "2023-01-14T16:34:20.880Z"
   },
   {
    "duration": 97,
    "start_time": "2023-01-14T16:34:20.885Z"
   },
   {
    "duration": 43,
    "start_time": "2023-01-14T16:34:20.983Z"
   },
   {
    "duration": 5,
    "start_time": "2023-01-14T16:34:21.028Z"
   },
   {
    "duration": 35,
    "start_time": "2023-01-14T16:34:21.035Z"
   },
   {
    "duration": 5,
    "start_time": "2023-01-14T16:34:21.072Z"
   },
   {
    "duration": 42,
    "start_time": "2023-01-14T16:34:21.078Z"
   },
   {
    "duration": 296,
    "start_time": "2023-01-14T16:34:21.122Z"
   },
   {
    "duration": 196,
    "start_time": "2023-01-14T16:34:21.419Z"
   },
   {
    "duration": 23,
    "start_time": "2023-01-14T16:34:21.617Z"
   },
   {
    "duration": 4,
    "start_time": "2023-01-14T16:34:21.642Z"
   },
   {
    "duration": 16,
    "start_time": "2023-01-14T16:34:21.648Z"
   },
   {
    "duration": 283,
    "start_time": "2023-01-14T16:34:21.665Z"
   },
   {
    "duration": 376,
    "start_time": "2023-01-14T16:34:21.950Z"
   },
   {
    "duration": 11,
    "start_time": "2023-01-14T16:34:22.328Z"
   },
   {
    "duration": 93,
    "start_time": "2023-01-14T16:34:22.341Z"
   },
   {
    "duration": 33,
    "start_time": "2023-01-14T16:34:22.438Z"
   },
   {
    "duration": 19,
    "start_time": "2023-01-14T16:34:22.473Z"
   },
   {
    "duration": 45,
    "start_time": "2023-01-14T16:34:22.494Z"
   },
   {
    "duration": 34,
    "start_time": "2023-01-14T16:34:22.540Z"
   },
   {
    "duration": 17,
    "start_time": "2023-01-14T16:34:22.576Z"
   },
   {
    "duration": 47,
    "start_time": "2023-01-14T16:34:22.595Z"
   },
   {
    "duration": 39,
    "start_time": "2023-01-14T16:34:22.644Z"
   },
   {
    "duration": 47,
    "start_time": "2023-01-14T16:34:22.685Z"
   },
   {
    "duration": 27,
    "start_time": "2023-01-14T16:34:22.733Z"
   },
   {
    "duration": 32,
    "start_time": "2023-01-14T16:34:22.761Z"
   },
   {
    "duration": 39,
    "start_time": "2023-01-14T16:34:22.795Z"
   },
   {
    "duration": 44,
    "start_time": "2023-01-14T16:34:22.835Z"
   },
   {
    "duration": 39,
    "start_time": "2023-01-14T16:34:22.881Z"
   },
   {
    "duration": 34,
    "start_time": "2023-01-14T16:34:22.922Z"
   },
   {
    "duration": 31,
    "start_time": "2023-01-14T16:34:22.957Z"
   },
   {
    "duration": 77,
    "start_time": "2023-01-14T16:34:22.990Z"
   },
   {
    "duration": 82,
    "start_time": "2023-01-14T16:34:23.068Z"
   },
   {
    "duration": 20,
    "start_time": "2023-01-14T16:34:23.152Z"
   },
   {
    "duration": 9,
    "start_time": "2023-01-14T16:34:23.174Z"
   },
   {
    "duration": 178,
    "start_time": "2023-01-14T16:34:23.184Z"
   },
   {
    "duration": 25,
    "start_time": "2023-01-14T16:34:23.364Z"
   },
   {
    "duration": 6376,
    "start_time": "2023-01-14T16:34:23.390Z"
   },
   {
    "duration": 21,
    "start_time": "2023-01-14T16:34:29.767Z"
   },
   {
    "duration": 1345,
    "start_time": "2023-01-14T16:34:29.790Z"
   },
   {
    "duration": 4,
    "start_time": "2023-01-14T16:34:31.137Z"
   },
   {
    "duration": 196,
    "start_time": "2023-01-14T16:34:31.143Z"
   },
   {
    "duration": 44,
    "start_time": "2023-01-14T16:34:31.342Z"
   },
   {
    "duration": 4,
    "start_time": "2023-01-14T16:34:31.388Z"
   },
   {
    "duration": 183,
    "start_time": "2023-01-14T16:34:31.393Z"
   },
   {
    "duration": 19751,
    "start_time": "2023-01-14T16:34:31.577Z"
   },
   {
    "duration": 17014,
    "start_time": "2023-01-14T16:34:51.416Z"
   },
   {
    "duration": 278,
    "start_time": "2023-01-14T16:35:08.439Z"
   },
   {
    "duration": 298,
    "start_time": "2023-01-14T16:35:08.721Z"
   },
   {
    "duration": 5,
    "start_time": "2023-01-14T16:35:09.021Z"
   },
   {
    "duration": 369649,
    "start_time": "2023-01-14T16:35:09.028Z"
   },
   {
    "duration": 3,
    "start_time": "2023-01-14T16:41:18.679Z"
   },
   {
    "duration": 3427,
    "start_time": "2023-01-14T16:41:18.684Z"
   },
   {
    "duration": 62,
    "start_time": "2023-01-14T16:41:22.116Z"
   },
   {
    "duration": 71,
    "start_time": "2023-01-14T16:41:22.180Z"
   },
   {
    "duration": 4,
    "start_time": "2023-01-14T16:41:22.252Z"
   },
   {
    "duration": 2096,
    "start_time": "2023-01-14T18:42:53.767Z"
   },
   {
    "duration": 1352,
    "start_time": "2023-01-14T18:42:55.865Z"
   },
   {
    "duration": 825,
    "start_time": "2023-01-14T18:42:57.219Z"
   },
   {
    "duration": 129,
    "start_time": "2023-01-14T18:42:58.047Z"
   },
   {
    "duration": 110,
    "start_time": "2023-01-14T18:42:58.178Z"
   },
   {
    "duration": 36,
    "start_time": "2023-01-14T18:42:58.290Z"
   },
   {
    "duration": 12,
    "start_time": "2023-01-14T18:42:58.327Z"
   },
   {
    "duration": 269,
    "start_time": "2023-01-14T18:42:58.341Z"
   },
   {
    "duration": 5,
    "start_time": "2023-01-14T18:42:58.615Z"
   },
   {
    "duration": 198,
    "start_time": "2023-01-14T18:42:58.622Z"
   },
   {
    "duration": 34,
    "start_time": "2023-01-14T18:42:58.821Z"
   },
   {
    "duration": 4,
    "start_time": "2023-01-14T18:42:58.856Z"
   },
   {
    "duration": 110,
    "start_time": "2023-01-14T18:42:58.862Z"
   },
   {
    "duration": 44,
    "start_time": "2023-01-14T18:42:58.974Z"
   },
   {
    "duration": 4,
    "start_time": "2023-01-14T18:42:59.019Z"
   },
   {
    "duration": 41,
    "start_time": "2023-01-14T18:42:59.026Z"
   },
   {
    "duration": 5,
    "start_time": "2023-01-14T18:42:59.068Z"
   },
   {
    "duration": 17,
    "start_time": "2023-01-14T18:42:59.075Z"
   },
   {
    "duration": 299,
    "start_time": "2023-01-14T18:42:59.116Z"
   },
   {
    "duration": 217,
    "start_time": "2023-01-14T18:42:59.417Z"
   },
   {
    "duration": 22,
    "start_time": "2023-01-14T18:42:59.635Z"
   },
   {
    "duration": 4,
    "start_time": "2023-01-14T18:42:59.659Z"
   },
   {
    "duration": 14,
    "start_time": "2023-01-14T18:42:59.664Z"
   },
   {
    "duration": 280,
    "start_time": "2023-01-14T18:42:59.680Z"
   },
   {
    "duration": 347,
    "start_time": "2023-01-14T18:42:59.962Z"
   },
   {
    "duration": 11,
    "start_time": "2023-01-14T18:43:00.316Z"
   },
   {
    "duration": 84,
    "start_time": "2023-01-14T18:43:00.329Z"
   },
   {
    "duration": 38,
    "start_time": "2023-01-14T18:43:00.417Z"
   },
   {
    "duration": 22,
    "start_time": "2023-01-14T18:43:00.457Z"
   },
   {
    "duration": 51,
    "start_time": "2023-01-14T18:43:00.481Z"
   },
   {
    "duration": 52,
    "start_time": "2023-01-14T18:43:00.534Z"
   },
   {
    "duration": 16,
    "start_time": "2023-01-14T18:43:00.588Z"
   },
   {
    "duration": 73,
    "start_time": "2023-01-14T18:43:00.606Z"
   },
   {
    "duration": 31,
    "start_time": "2023-01-14T18:43:00.681Z"
   },
   {
    "duration": 58,
    "start_time": "2023-01-14T18:43:00.713Z"
   },
   {
    "duration": 48,
    "start_time": "2023-01-14T18:43:00.773Z"
   },
   {
    "duration": 60,
    "start_time": "2023-01-14T18:43:00.823Z"
   },
   {
    "duration": 46,
    "start_time": "2023-01-14T18:43:00.885Z"
   },
   {
    "duration": 84,
    "start_time": "2023-01-14T18:43:00.932Z"
   },
   {
    "duration": 33,
    "start_time": "2023-01-14T18:43:01.018Z"
   },
   {
    "duration": 26,
    "start_time": "2023-01-14T18:43:01.053Z"
   },
   {
    "duration": 57,
    "start_time": "2023-01-14T18:43:01.081Z"
   },
   {
    "duration": 84,
    "start_time": "2023-01-14T18:43:01.140Z"
   },
   {
    "duration": 103,
    "start_time": "2023-01-14T18:43:01.226Z"
   },
   {
    "duration": 32,
    "start_time": "2023-01-14T18:43:01.331Z"
   },
   {
    "duration": 12,
    "start_time": "2023-01-14T18:43:01.365Z"
   },
   {
    "duration": 173,
    "start_time": "2023-01-14T18:43:01.378Z"
   },
   {
    "duration": 26,
    "start_time": "2023-01-14T18:43:01.553Z"
   },
   {
    "duration": 6023,
    "start_time": "2023-01-14T18:43:01.580Z"
   },
   {
    "duration": 23,
    "start_time": "2023-01-14T18:43:07.604Z"
   },
   {
    "duration": 1345,
    "start_time": "2023-01-14T18:43:07.629Z"
   },
   {
    "duration": 5,
    "start_time": "2023-01-14T18:43:08.976Z"
   },
   {
    "duration": 197,
    "start_time": "2023-01-14T18:43:08.983Z"
   },
   {
    "duration": 64,
    "start_time": "2023-01-14T18:43:09.182Z"
   },
   {
    "duration": 4,
    "start_time": "2023-01-14T18:43:09.248Z"
   },
   {
    "duration": 171,
    "start_time": "2023-01-14T18:43:09.254Z"
   },
   {
    "duration": 31100,
    "start_time": "2023-01-14T18:43:09.426Z"
   },
   {
    "duration": 17402,
    "start_time": "2023-01-14T18:43:40.616Z"
   },
   {
    "duration": 199,
    "start_time": "2023-01-14T18:43:58.019Z"
   },
   {
    "duration": 297,
    "start_time": "2023-01-14T18:43:58.223Z"
   },
   {
    "duration": 92,
    "start_time": "2023-01-14T18:43:58.524Z"
   },
   {
    "duration": 371651,
    "start_time": "2023-01-14T18:43:58.618Z"
   },
   {
    "duration": 2,
    "start_time": "2023-01-14T18:50:10.271Z"
   },
   {
    "duration": 3515,
    "start_time": "2023-01-14T18:50:10.275Z"
   },
   {
    "duration": 68,
    "start_time": "2023-01-14T18:50:13.792Z"
   },
   {
    "duration": 69,
    "start_time": "2023-01-14T18:50:13.861Z"
   },
   {
    "duration": 4,
    "start_time": "2023-01-14T18:50:13.931Z"
   },
   {
    "duration": 2250,
    "start_time": "2023-01-14T20:04:19.229Z"
   },
   {
    "duration": 1374,
    "start_time": "2023-01-14T20:04:21.482Z"
   },
   {
    "duration": 817,
    "start_time": "2023-01-14T20:04:22.860Z"
   },
   {
    "duration": 189,
    "start_time": "2023-01-14T20:04:23.679Z"
   },
   {
    "duration": 107,
    "start_time": "2023-01-14T20:04:23.869Z"
   },
   {
    "duration": 50,
    "start_time": "2023-01-14T20:04:23.978Z"
   },
   {
    "duration": 19,
    "start_time": "2023-01-14T20:04:24.030Z"
   },
   {
    "duration": 338,
    "start_time": "2023-01-14T20:04:24.051Z"
   },
   {
    "duration": 5,
    "start_time": "2023-01-14T20:04:24.391Z"
   },
   {
    "duration": 219,
    "start_time": "2023-01-14T20:04:24.398Z"
   },
   {
    "duration": 42,
    "start_time": "2023-01-14T20:04:24.618Z"
   },
   {
    "duration": 7,
    "start_time": "2023-01-14T20:04:24.662Z"
   },
   {
    "duration": 108,
    "start_time": "2023-01-14T20:04:24.671Z"
   },
   {
    "duration": 35,
    "start_time": "2023-01-14T20:04:24.780Z"
   },
   {
    "duration": 4,
    "start_time": "2023-01-14T20:04:24.818Z"
   },
   {
    "duration": 44,
    "start_time": "2023-01-14T20:04:24.826Z"
   },
   {
    "duration": 5,
    "start_time": "2023-01-14T20:04:24.871Z"
   },
   {
    "duration": 27,
    "start_time": "2023-01-14T20:04:24.878Z"
   },
   {
    "duration": 318,
    "start_time": "2023-01-14T20:04:24.906Z"
   },
   {
    "duration": 201,
    "start_time": "2023-01-14T20:04:25.226Z"
   },
   {
    "duration": 34,
    "start_time": "2023-01-14T20:04:25.430Z"
   },
   {
    "duration": 4,
    "start_time": "2023-01-14T20:04:25.466Z"
   },
   {
    "duration": 17,
    "start_time": "2023-01-14T20:04:25.472Z"
   },
   {
    "duration": 338,
    "start_time": "2023-01-14T20:04:25.490Z"
   },
   {
    "duration": 424,
    "start_time": "2023-01-14T20:04:25.830Z"
   },
   {
    "duration": 14,
    "start_time": "2023-01-14T20:04:26.256Z"
   },
   {
    "duration": 120,
    "start_time": "2023-01-14T20:04:26.275Z"
   },
   {
    "duration": 63,
    "start_time": "2023-01-14T20:04:26.398Z"
   },
   {
    "duration": 20,
    "start_time": "2023-01-14T20:04:26.462Z"
   },
   {
    "duration": 49,
    "start_time": "2023-01-14T20:04:26.484Z"
   },
   {
    "duration": 32,
    "start_time": "2023-01-14T20:04:26.535Z"
   },
   {
    "duration": 15,
    "start_time": "2023-01-14T20:04:26.569Z"
   },
   {
    "duration": 51,
    "start_time": "2023-01-14T20:04:26.586Z"
   },
   {
    "duration": 33,
    "start_time": "2023-01-14T20:04:26.639Z"
   },
   {
    "duration": 29,
    "start_time": "2023-01-14T20:04:26.674Z"
   },
   {
    "duration": 53,
    "start_time": "2023-01-14T20:04:26.704Z"
   },
   {
    "duration": 29,
    "start_time": "2023-01-14T20:04:26.759Z"
   },
   {
    "duration": 55,
    "start_time": "2023-01-14T20:04:26.790Z"
   },
   {
    "duration": 35,
    "start_time": "2023-01-14T20:04:26.847Z"
   },
   {
    "duration": 45,
    "start_time": "2023-01-14T20:04:26.885Z"
   },
   {
    "duration": 35,
    "start_time": "2023-01-14T20:04:26.934Z"
   },
   {
    "duration": 34,
    "start_time": "2023-01-14T20:04:26.970Z"
   },
   {
    "duration": 93,
    "start_time": "2023-01-14T20:04:27.006Z"
   },
   {
    "duration": 105,
    "start_time": "2023-01-14T20:04:27.101Z"
   },
   {
    "duration": 33,
    "start_time": "2023-01-14T20:04:27.207Z"
   },
   {
    "duration": 11,
    "start_time": "2023-01-14T20:04:27.242Z"
   },
   {
    "duration": 180,
    "start_time": "2023-01-14T20:04:27.254Z"
   },
   {
    "duration": 25,
    "start_time": "2023-01-14T20:04:27.437Z"
   },
   {
    "duration": 5994,
    "start_time": "2023-01-14T20:04:27.464Z"
   },
   {
    "duration": 20,
    "start_time": "2023-01-14T20:04:33.460Z"
   },
   {
    "duration": 1404,
    "start_time": "2023-01-14T20:04:33.481Z"
   },
   {
    "duration": 5,
    "start_time": "2023-01-14T20:04:34.887Z"
   },
   {
    "duration": 239,
    "start_time": "2023-01-14T20:04:34.893Z"
   },
   {
    "duration": 47,
    "start_time": "2023-01-14T20:04:35.134Z"
   },
   {
    "duration": 5,
    "start_time": "2023-01-14T20:04:35.183Z"
   },
   {
    "duration": 210,
    "start_time": "2023-01-14T20:04:35.190Z"
   },
   {
    "duration": 57139,
    "start_time": "2023-01-14T20:04:35.402Z"
   },
   {
    "duration": 61180,
    "start_time": "2023-01-14T20:05:32.544Z"
   },
   {
    "duration": 295,
    "start_time": "2023-01-14T20:06:33.727Z"
   },
   {
    "duration": 233,
    "start_time": "2023-01-14T20:06:34.027Z"
   },
   {
    "duration": 4,
    "start_time": "2023-01-14T20:06:34.262Z"
   },
   {
    "duration": 398691,
    "start_time": "2023-01-14T20:06:34.315Z"
   },
   {
    "duration": 11,
    "start_time": "2023-01-14T20:13:13.008Z"
   },
   {
    "duration": 3640,
    "start_time": "2023-01-14T20:13:13.021Z"
   },
   {
    "duration": 79,
    "start_time": "2023-01-14T20:13:16.663Z"
   },
   {
    "duration": 59,
    "start_time": "2023-01-14T20:13:16.744Z"
   },
   {
    "duration": 12,
    "start_time": "2023-01-14T20:13:16.805Z"
   },
   {
    "duration": 491728,
    "start_time": "2023-01-14T20:13:16.818Z"
   },
   {
    "duration": 10,
    "start_time": "2023-01-14T20:21:28.548Z"
   },
   {
    "duration": 0,
    "start_time": "2023-01-14T20:21:28.559Z"
   },
   {
    "duration": 0,
    "start_time": "2023-01-14T20:21:28.561Z"
   },
   {
    "duration": 0,
    "start_time": "2023-01-14T20:21:28.562Z"
   },
   {
    "duration": 0,
    "start_time": "2023-01-14T20:21:28.563Z"
   },
   {
    "duration": 0,
    "start_time": "2023-01-14T20:21:28.564Z"
   },
   {
    "duration": 5,
    "start_time": "2023-01-14T20:21:37.771Z"
   },
   {
    "duration": 3601259,
    "start_time": "2023-01-14T20:21:45.858Z"
   },
   {
    "duration": 4,
    "start_time": "2023-01-14T22:54:43.338Z"
   },
   {
    "duration": 205881,
    "start_time": "2023-01-14T22:54:45.536Z"
   },
   {
    "duration": 8,
    "start_time": "2023-01-14T23:19:44.313Z"
   },
   {
    "duration": 246,
    "start_time": "2023-01-14T23:19:51.084Z"
   },
   {
    "duration": 312,
    "start_time": "2023-01-14T23:19:52.816Z"
   },
   {
    "duration": 12,
    "start_time": "2023-01-14T23:26:06.034Z"
   },
   {
    "duration": 9,
    "start_time": "2023-01-14T23:35:44.779Z"
   },
   {
    "duration": 9,
    "start_time": "2023-01-14T23:44:29.705Z"
   },
   {
    "duration": 5,
    "start_time": "2023-01-15T00:01:38.164Z"
   },
   {
    "duration": 9,
    "start_time": "2023-01-15T00:01:43.170Z"
   },
   {
    "duration": 133,
    "start_time": "2023-01-15T00:01:50.084Z"
   },
   {
    "duration": 141,
    "start_time": "2023-01-15T00:01:59.940Z"
   },
   {
    "duration": 749,
    "start_time": "2023-01-15T00:27:34.059Z"
   },
   {
    "duration": 807,
    "start_time": "2023-01-15T00:28:00.320Z"
   },
   {
    "duration": 46,
    "start_time": "2023-01-15T00:28:47.494Z"
   },
   {
    "duration": 1040,
    "start_time": "2023-01-15T00:28:51.066Z"
   },
   {
    "duration": 696,
    "start_time": "2023-01-15T00:29:17.030Z"
   },
   {
    "duration": 806,
    "start_time": "2023-01-15T00:30:16.861Z"
   },
   {
    "duration": 720,
    "start_time": "2023-01-15T00:30:34.658Z"
   },
   {
    "duration": 4,
    "start_time": "2023-01-15T00:30:52.707Z"
   },
   {
    "duration": 3,
    "start_time": "2023-01-15T00:31:19.382Z"
   },
   {
    "duration": 4,
    "start_time": "2023-01-15T00:31:23.689Z"
   },
   {
    "duration": 6,
    "start_time": "2023-01-15T00:31:43.225Z"
   },
   {
    "duration": 4,
    "start_time": "2023-01-15T00:32:06.594Z"
   },
   {
    "duration": 10,
    "start_time": "2023-01-15T00:32:13.859Z"
   },
   {
    "duration": 9,
    "start_time": "2023-01-15T00:33:49.004Z"
   },
   {
    "duration": 12,
    "start_time": "2023-01-15T00:33:58.651Z"
   },
   {
    "duration": 101,
    "start_time": "2023-01-15T00:34:06.475Z"
   },
   {
    "duration": 99,
    "start_time": "2023-01-15T00:34:16.946Z"
   },
   {
    "duration": 8,
    "start_time": "2023-01-15T00:34:22.006Z"
   },
   {
    "duration": 141,
    "start_time": "2023-01-15T00:36:15.676Z"
   },
   {
    "duration": 153,
    "start_time": "2023-01-15T00:36:22.412Z"
   },
   {
    "duration": 728,
    "start_time": "2023-01-15T00:36:41.436Z"
   },
   {
    "duration": 707,
    "start_time": "2023-01-15T00:36:45.172Z"
   },
   {
    "duration": 10,
    "start_time": "2023-01-15T00:36:48.744Z"
   },
   {
    "duration": 157,
    "start_time": "2023-01-15T00:36:57.332Z"
   },
   {
    "duration": 139,
    "start_time": "2023-01-15T00:37:57.973Z"
   },
   {
    "duration": 680,
    "start_time": "2023-01-15T00:38:50.741Z"
   },
   {
    "duration": 10,
    "start_time": "2023-01-15T00:39:00.535Z"
   },
   {
    "duration": 228,
    "start_time": "2023-01-15T00:39:33.095Z"
   },
   {
    "duration": 10,
    "start_time": "2023-01-15T00:41:22.734Z"
   },
   {
    "duration": 14,
    "start_time": "2023-01-15T00:41:54.870Z"
   },
   {
    "duration": 14,
    "start_time": "2023-01-15T00:42:10.380Z"
   },
   {
    "duration": 136,
    "start_time": "2023-01-15T00:42:26.381Z"
   },
   {
    "duration": 13,
    "start_time": "2023-01-15T00:43:37.423Z"
   },
   {
    "duration": 130,
    "start_time": "2023-01-15T00:43:43.840Z"
   },
   {
    "duration": 116,
    "start_time": "2023-01-15T00:48:25.403Z"
   },
   {
    "duration": 123,
    "start_time": "2023-01-15T00:48:59.470Z"
   },
   {
    "duration": 139,
    "start_time": "2023-01-15T00:49:05.248Z"
   },
   {
    "duration": 951,
    "start_time": "2023-01-15T00:49:30.067Z"
   },
   {
    "duration": 318,
    "start_time": "2023-01-15T00:49:35.277Z"
   },
   {
    "duration": 14,
    "start_time": "2023-01-15T00:49:46.467Z"
   },
   {
    "duration": 126,
    "start_time": "2023-01-15T00:50:03.826Z"
   },
   {
    "duration": 125,
    "start_time": "2023-01-15T00:50:58.600Z"
   },
   {
    "duration": 143,
    "start_time": "2023-01-15T00:51:35.321Z"
   },
   {
    "duration": 140,
    "start_time": "2023-01-15T00:52:00.606Z"
   },
   {
    "duration": 153,
    "start_time": "2023-01-15T00:52:58.690Z"
   },
   {
    "duration": 153,
    "start_time": "2023-01-15T00:53:08.012Z"
   },
   {
    "duration": 126,
    "start_time": "2023-01-15T00:53:12.636Z"
   },
   {
    "duration": 131,
    "start_time": "2023-01-15T00:53:48.263Z"
   },
   {
    "duration": 119,
    "start_time": "2023-01-15T00:54:37.847Z"
   },
   {
    "duration": 421,
    "start_time": "2023-01-15T00:54:55.526Z"
   },
   {
    "duration": 320,
    "start_time": "2023-01-15T00:56:02.360Z"
   },
   {
    "duration": 10001,
    "start_time": "2023-01-15T23:46:37.882Z"
   },
   {
    "duration": 11092,
    "start_time": "2023-01-15T23:46:47.886Z"
   },
   {
    "duration": 9614,
    "start_time": "2023-01-15T23:46:58.981Z"
   },
   {
    "duration": 2402,
    "start_time": "2023-01-15T23:47:08.597Z"
   },
   {
    "duration": 495,
    "start_time": "2023-01-15T23:47:11.002Z"
   },
   {
    "duration": 109,
    "start_time": "2023-01-15T23:47:11.579Z"
   },
   {
    "duration": 90,
    "start_time": "2023-01-15T23:47:11.690Z"
   },
   {
    "duration": 1306,
    "start_time": "2023-01-15T23:47:11.782Z"
   },
   {
    "duration": 1388,
    "start_time": "2023-01-15T23:47:13.090Z"
   },
   {
    "duration": 199,
    "start_time": "2023-01-15T23:47:14.481Z"
   },
   {
    "duration": 5,
    "start_time": "2023-01-15T23:47:14.682Z"
   },
   {
    "duration": 403,
    "start_time": "2023-01-15T23:47:14.689Z"
   },
   {
    "duration": 287,
    "start_time": "2023-01-15T23:47:15.094Z"
   },
   {
    "duration": 5,
    "start_time": "2023-01-15T23:47:15.386Z"
   },
   {
    "duration": 289,
    "start_time": "2023-01-15T23:47:15.393Z"
   },
   {
    "duration": 5,
    "start_time": "2023-01-15T23:47:15.684Z"
   },
   {
    "duration": 104,
    "start_time": "2023-01-15T23:47:15.692Z"
   },
   {
    "duration": 1121,
    "start_time": "2023-01-15T23:47:15.879Z"
   },
   {
    "duration": 1201,
    "start_time": "2023-01-15T23:47:17.079Z"
   },
   {
    "duration": 195,
    "start_time": "2023-01-15T23:47:18.283Z"
   },
   {
    "duration": 7,
    "start_time": "2023-01-15T23:47:18.481Z"
   },
   {
    "duration": 99,
    "start_time": "2023-01-15T23:47:18.490Z"
   },
   {
    "duration": 987,
    "start_time": "2023-01-15T23:47:18.591Z"
   },
   {
    "duration": 2319,
    "start_time": "2023-01-15T23:47:19.580Z"
   },
   {
    "duration": 17,
    "start_time": "2023-01-15T23:47:21.977Z"
   },
   {
    "duration": 903,
    "start_time": "2023-01-15T23:47:22.077Z"
   },
   {
    "duration": 211,
    "start_time": "2023-01-15T23:47:22.983Z"
   },
   {
    "duration": 16,
    "start_time": "2023-01-15T23:47:23.278Z"
   },
   {
    "duration": 116,
    "start_time": "2023-01-15T23:47:23.377Z"
   },
   {
    "duration": 191,
    "start_time": "2023-01-15T23:47:23.495Z"
   },
   {
    "duration": 93,
    "start_time": "2023-01-15T23:47:23.688Z"
   },
   {
    "duration": 107,
    "start_time": "2023-01-15T23:47:23.783Z"
   },
   {
    "duration": 190,
    "start_time": "2023-01-15T23:47:23.892Z"
   },
   {
    "duration": 110,
    "start_time": "2023-01-15T23:47:24.083Z"
   },
   {
    "duration": 95,
    "start_time": "2023-01-15T23:47:24.196Z"
   },
   {
    "duration": 285,
    "start_time": "2023-01-15T23:47:24.293Z"
   },
   {
    "duration": 100,
    "start_time": "2023-01-15T23:47:24.580Z"
   },
   {
    "duration": 210,
    "start_time": "2023-01-15T23:47:24.682Z"
   },
   {
    "duration": 192,
    "start_time": "2023-01-15T23:47:24.895Z"
   },
   {
    "duration": 94,
    "start_time": "2023-01-15T23:47:25.089Z"
   },
   {
    "duration": 294,
    "start_time": "2023-01-15T23:47:25.189Z"
   },
   {
    "duration": 1298,
    "start_time": "2023-01-15T23:47:25.486Z"
   },
   {
    "duration": 1198,
    "start_time": "2023-01-15T23:47:26.786Z"
   },
   {
    "duration": 191,
    "start_time": "2023-01-15T23:47:27.987Z"
   },
   {
    "duration": 97,
    "start_time": "2023-01-15T23:47:28.181Z"
   },
   {
    "duration": 907,
    "start_time": "2023-01-15T23:47:28.281Z"
   },
   {
    "duration": 192,
    "start_time": "2023-01-15T23:47:29.190Z"
   },
   {
    "duration": 2228,
    "start_time": "2023-01-16T00:40:48.645Z"
   },
   {
    "duration": 1407,
    "start_time": "2023-01-16T00:40:53.991Z"
   },
   {
    "duration": 101,
    "start_time": "2023-01-16T00:41:11.406Z"
   },
   {
    "duration": 1038,
    "start_time": "2023-01-16T00:41:14.703Z"
   },
   {
    "duration": 135,
    "start_time": "2023-01-16T00:41:24.443Z"
   },
   {
    "duration": 96,
    "start_time": "2023-01-16T00:49:22.151Z"
   },
   {
    "duration": 2169,
    "start_time": "2023-01-16T01:11:14.489Z"
   },
   {
    "duration": 7,
    "start_time": "2023-01-16T01:11:16.661Z"
   },
   {
    "duration": 829,
    "start_time": "2023-01-16T01:11:16.670Z"
   },
   {
    "duration": 130,
    "start_time": "2023-01-16T01:11:17.501Z"
   },
   {
    "duration": 94,
    "start_time": "2023-01-16T01:11:17.632Z"
   },
   {
    "duration": 28,
    "start_time": "2023-01-16T01:11:17.727Z"
   },
   {
    "duration": 13,
    "start_time": "2023-01-16T01:11:17.756Z"
   },
   {
    "duration": 266,
    "start_time": "2023-01-16T01:11:17.771Z"
   },
   {
    "duration": 257,
    "start_time": "2023-01-16T01:11:18.039Z"
   },
   {
    "duration": 39,
    "start_time": "2023-01-16T01:11:18.299Z"
   },
   {
    "duration": 4,
    "start_time": "2023-01-16T01:11:18.340Z"
   },
   {
    "duration": 100,
    "start_time": "2023-01-16T01:11:18.345Z"
   },
   {
    "duration": 33,
    "start_time": "2023-01-16T01:11:18.446Z"
   },
   {
    "duration": 3,
    "start_time": "2023-01-16T01:11:18.481Z"
   },
   {
    "duration": 57,
    "start_time": "2023-01-16T01:11:18.486Z"
   },
   {
    "duration": 3,
    "start_time": "2023-01-16T01:11:18.545Z"
   },
   {
    "duration": 20,
    "start_time": "2023-01-16T01:11:18.549Z"
   },
   {
    "duration": 312,
    "start_time": "2023-01-16T01:11:18.570Z"
   },
   {
    "duration": 223,
    "start_time": "2023-01-16T01:11:18.883Z"
   },
   {
    "duration": 29,
    "start_time": "2023-01-16T01:11:19.108Z"
   },
   {
    "duration": 4,
    "start_time": "2023-01-16T01:11:19.140Z"
   },
   {
    "duration": 22,
    "start_time": "2023-01-16T01:11:19.146Z"
   },
   {
    "duration": 239,
    "start_time": "2023-01-16T01:11:19.170Z"
   },
   {
    "duration": 437,
    "start_time": "2023-01-16T01:11:19.411Z"
   },
   {
    "duration": 11,
    "start_time": "2023-01-16T01:11:19.850Z"
   },
   {
    "duration": 84,
    "start_time": "2023-01-16T01:11:19.862Z"
   },
   {
    "duration": 29,
    "start_time": "2023-01-16T01:11:19.948Z"
   },
   {
    "duration": 15,
    "start_time": "2023-01-16T01:11:19.981Z"
   },
   {
    "duration": 51,
    "start_time": "2023-01-16T01:11:19.998Z"
   },
   {
    "duration": 45,
    "start_time": "2023-01-16T01:11:20.051Z"
   },
   {
    "duration": 32,
    "start_time": "2023-01-16T01:11:20.098Z"
   },
   {
    "duration": 46,
    "start_time": "2023-01-16T01:11:20.132Z"
   },
   {
    "duration": 36,
    "start_time": "2023-01-16T01:11:20.180Z"
   },
   {
    "duration": 39,
    "start_time": "2023-01-16T01:11:20.218Z"
   },
   {
    "duration": 28,
    "start_time": "2023-01-16T01:11:20.259Z"
   },
   {
    "duration": 48,
    "start_time": "2023-01-16T01:11:20.289Z"
   },
   {
    "duration": 25,
    "start_time": "2023-01-16T01:11:20.338Z"
   },
   {
    "duration": 68,
    "start_time": "2023-01-16T01:11:20.365Z"
   },
   {
    "duration": 29,
    "start_time": "2023-01-16T01:11:20.435Z"
   },
   {
    "duration": 27,
    "start_time": "2023-01-16T01:11:20.466Z"
   },
   {
    "duration": 28,
    "start_time": "2023-01-16T01:11:20.515Z"
   },
   {
    "duration": 79,
    "start_time": "2023-01-16T01:11:20.544Z"
   },
   {
    "duration": 75,
    "start_time": "2023-01-16T01:11:20.624Z"
   },
   {
    "duration": 40,
    "start_time": "2023-01-16T01:11:20.701Z"
   },
   {
    "duration": 11,
    "start_time": "2023-01-16T01:11:20.743Z"
   },
   {
    "duration": 165,
    "start_time": "2023-01-16T01:11:20.756Z"
   },
   {
    "duration": 27,
    "start_time": "2023-01-16T01:11:20.922Z"
   },
   {
    "duration": 31,
    "start_time": "2023-01-16T01:13:28.965Z"
   },
   {
    "duration": 4,
    "start_time": "2023-01-16T01:13:54.288Z"
   },
   {
    "duration": 6,
    "start_time": "2023-01-16T01:16:00.902Z"
   },
   {
    "duration": 6,
    "start_time": "2023-01-16T01:16:17.785Z"
   },
   {
    "duration": 26,
    "start_time": "2023-01-16T01:16:47.073Z"
   },
   {
    "duration": 31,
    "start_time": "2023-01-16T01:18:38.136Z"
   },
   {
    "duration": 9,
    "start_time": "2023-01-16T01:18:48.402Z"
   },
   {
    "duration": 6536,
    "start_time": "2023-01-16T01:20:52.290Z"
   },
   {
    "duration": 21,
    "start_time": "2023-01-16T01:21:08.598Z"
   },
   {
    "duration": 2005,
    "start_time": "2023-01-16T01:26:00.575Z"
   },
   {
    "duration": 6,
    "start_time": "2023-01-16T01:26:05.269Z"
   },
   {
    "duration": 5,
    "start_time": "2023-01-16T01:26:13.553Z"
   },
   {
    "duration": 2039,
    "start_time": "2023-01-16T01:28:10.800Z"
   },
   {
    "duration": 1316,
    "start_time": "2023-01-16T01:28:12.841Z"
   },
   {
    "duration": 838,
    "start_time": "2023-01-16T01:28:14.159Z"
   },
   {
    "duration": 139,
    "start_time": "2023-01-16T01:28:15.000Z"
   },
   {
    "duration": 106,
    "start_time": "2023-01-16T01:28:15.141Z"
   },
   {
    "duration": 36,
    "start_time": "2023-01-16T01:28:15.249Z"
   },
   {
    "duration": 29,
    "start_time": "2023-01-16T01:28:15.287Z"
   },
   {
    "duration": 269,
    "start_time": "2023-01-16T01:28:15.318Z"
   },
   {
    "duration": 204,
    "start_time": "2023-01-16T01:28:15.588Z"
   },
   {
    "duration": 50,
    "start_time": "2023-01-16T01:28:15.795Z"
   },
   {
    "duration": 4,
    "start_time": "2023-01-16T01:28:15.847Z"
   },
   {
    "duration": 84,
    "start_time": "2023-01-16T01:28:15.853Z"
   },
   {
    "duration": 31,
    "start_time": "2023-01-16T01:28:15.938Z"
   },
   {
    "duration": 4,
    "start_time": "2023-01-16T01:28:15.971Z"
   },
   {
    "duration": 51,
    "start_time": "2023-01-16T01:28:15.976Z"
   },
   {
    "duration": 3,
    "start_time": "2023-01-16T01:28:16.029Z"
   },
   {
    "duration": 26,
    "start_time": "2023-01-16T01:28:16.034Z"
   },
   {
    "duration": 325,
    "start_time": "2023-01-16T01:28:16.062Z"
   },
   {
    "duration": 202,
    "start_time": "2023-01-16T01:28:16.388Z"
   },
   {
    "duration": 47,
    "start_time": "2023-01-16T01:28:16.591Z"
   },
   {
    "duration": 4,
    "start_time": "2023-01-16T01:28:16.639Z"
   },
   {
    "duration": 19,
    "start_time": "2023-01-16T01:28:16.644Z"
   },
   {
    "duration": 284,
    "start_time": "2023-01-16T01:28:16.665Z"
   },
   {
    "duration": 349,
    "start_time": "2023-01-16T01:28:16.951Z"
   },
   {
    "duration": 17,
    "start_time": "2023-01-16T01:28:17.302Z"
   },
   {
    "duration": 95,
    "start_time": "2023-01-16T01:28:17.321Z"
   },
   {
    "duration": 163,
    "start_time": "2023-01-16T01:28:17.418Z"
   },
   {
    "duration": 17,
    "start_time": "2023-01-16T01:28:17.585Z"
   },
   {
    "duration": 32,
    "start_time": "2023-01-16T01:28:17.604Z"
   },
   {
    "duration": 33,
    "start_time": "2023-01-16T01:28:17.638Z"
   },
   {
    "duration": 15,
    "start_time": "2023-01-16T01:28:17.673Z"
   },
   {
    "duration": 38,
    "start_time": "2023-01-16T01:28:17.689Z"
   },
   {
    "duration": 28,
    "start_time": "2023-01-16T01:28:17.729Z"
   },
   {
    "duration": 42,
    "start_time": "2023-01-16T01:28:17.759Z"
   },
   {
    "duration": 35,
    "start_time": "2023-01-16T01:28:17.803Z"
   },
   {
    "duration": 29,
    "start_time": "2023-01-16T01:28:17.840Z"
   },
   {
    "duration": 26,
    "start_time": "2023-01-16T01:28:17.871Z"
   },
   {
    "duration": 50,
    "start_time": "2023-01-16T01:28:17.898Z"
   },
   {
    "duration": 29,
    "start_time": "2023-01-16T01:28:17.950Z"
   },
   {
    "duration": 39,
    "start_time": "2023-01-16T01:28:17.980Z"
   },
   {
    "duration": 46,
    "start_time": "2023-01-16T01:28:18.022Z"
   },
   {
    "duration": 87,
    "start_time": "2023-01-16T01:28:18.070Z"
   },
   {
    "duration": 80,
    "start_time": "2023-01-16T01:28:18.159Z"
   },
   {
    "duration": 20,
    "start_time": "2023-01-16T01:28:18.241Z"
   },
   {
    "duration": 10,
    "start_time": "2023-01-16T01:28:18.262Z"
   },
   {
    "duration": 161,
    "start_time": "2023-01-16T01:28:18.273Z"
   },
   {
    "duration": 24,
    "start_time": "2023-01-16T01:28:18.436Z"
   },
   {
    "duration": 28,
    "start_time": "2023-01-16T01:28:18.462Z"
   },
   {
    "duration": 4,
    "start_time": "2023-01-16T01:28:18.492Z"
   },
   {
    "duration": 135,
    "start_time": "2023-01-16T01:28:18.497Z"
   },
   {
    "duration": 0,
    "start_time": "2023-01-16T01:28:18.634Z"
   },
   {
    "duration": 1186,
    "start_time": "2023-01-16T01:28:53.520Z"
   },
   {
    "duration": 4,
    "start_time": "2023-01-16T01:28:58.611Z"
   },
   {
    "duration": 4,
    "start_time": "2023-01-16T01:29:03.788Z"
   },
   {
    "duration": 4,
    "start_time": "2023-01-16T01:29:17.701Z"
   },
   {
    "duration": 5,
    "start_time": "2023-01-16T01:33:38.525Z"
   },
   {
    "duration": 1200,
    "start_time": "2023-01-16T01:33:41.649Z"
   },
   {
    "duration": 204,
    "start_time": "2023-01-16T01:33:44.075Z"
   },
   {
    "duration": 22,
    "start_time": "2023-01-16T01:40:25.137Z"
   },
   {
    "duration": 8763,
    "start_time": "2023-01-16T01:40:29.739Z"
   },
   {
    "duration": 72,
    "start_time": "2023-01-16T01:40:41.790Z"
   },
   {
    "duration": 91,
    "start_time": "2023-01-16T01:41:02.908Z"
   },
   {
    "duration": 53,
    "start_time": "2023-01-16T01:41:38.223Z"
   },
   {
    "duration": 37,
    "start_time": "2023-01-16T01:41:41.244Z"
   },
   {
    "duration": 37,
    "start_time": "2023-01-16T01:41:47.454Z"
   },
   {
    "duration": 86,
    "start_time": "2023-01-16T01:43:25.085Z"
   },
   {
    "duration": 157,
    "start_time": "2023-01-16T01:45:23.501Z"
   },
   {
    "duration": 18,
    "start_time": "2023-01-16T01:50:50.728Z"
   },
   {
    "duration": 32,
    "start_time": "2023-01-16T01:51:29.590Z"
   },
   {
    "duration": 4,
    "start_time": "2023-01-16T01:51:31.492Z"
   },
   {
    "duration": 2042,
    "start_time": "2023-01-16T01:51:49.347Z"
   },
   {
    "duration": 1360,
    "start_time": "2023-01-16T01:51:51.392Z"
   },
   {
    "duration": 1111,
    "start_time": "2023-01-16T01:51:52.754Z"
   },
   {
    "duration": 127,
    "start_time": "2023-01-16T01:51:53.868Z"
   },
   {
    "duration": 129,
    "start_time": "2023-01-16T01:51:53.997Z"
   },
   {
    "duration": 40,
    "start_time": "2023-01-16T01:51:54.129Z"
   },
   {
    "duration": 21,
    "start_time": "2023-01-16T01:51:54.171Z"
   },
   {
    "duration": 256,
    "start_time": "2023-01-16T01:51:54.194Z"
   },
   {
    "duration": 202,
    "start_time": "2023-01-16T01:51:54.452Z"
   },
   {
    "duration": 40,
    "start_time": "2023-01-16T01:51:54.657Z"
   },
   {
    "duration": 11,
    "start_time": "2023-01-16T01:51:54.699Z"
   },
   {
    "duration": 90,
    "start_time": "2023-01-16T01:51:54.723Z"
   },
   {
    "duration": 40,
    "start_time": "2023-01-16T01:51:54.815Z"
   },
   {
    "duration": 4,
    "start_time": "2023-01-16T01:51:54.856Z"
   },
   {
    "duration": 33,
    "start_time": "2023-01-16T01:51:54.861Z"
   },
   {
    "duration": 32,
    "start_time": "2023-01-16T01:51:54.896Z"
   },
   {
    "duration": 16,
    "start_time": "2023-01-16T01:51:54.930Z"
   },
   {
    "duration": 295,
    "start_time": "2023-01-16T01:51:54.948Z"
   },
   {
    "duration": 191,
    "start_time": "2023-01-16T01:51:55.244Z"
   },
   {
    "duration": 21,
    "start_time": "2023-01-16T01:51:55.437Z"
   },
   {
    "duration": 3,
    "start_time": "2023-01-16T01:51:55.460Z"
   },
   {
    "duration": 13,
    "start_time": "2023-01-16T01:51:55.464Z"
   },
   {
    "duration": 280,
    "start_time": "2023-01-16T01:51:55.479Z"
   },
   {
    "duration": 340,
    "start_time": "2023-01-16T01:51:55.761Z"
   },
   {
    "duration": 25,
    "start_time": "2023-01-16T01:51:56.103Z"
   },
   {
    "duration": 70,
    "start_time": "2023-01-16T01:51:56.130Z"
   },
   {
    "duration": 45,
    "start_time": "2023-01-16T01:51:56.202Z"
   },
   {
    "duration": 31,
    "start_time": "2023-01-16T01:51:56.252Z"
   },
   {
    "duration": 37,
    "start_time": "2023-01-16T01:51:56.286Z"
   },
   {
    "duration": 39,
    "start_time": "2023-01-16T01:51:56.329Z"
   },
   {
    "duration": 22,
    "start_time": "2023-01-16T01:51:56.369Z"
   },
   {
    "duration": 47,
    "start_time": "2023-01-16T01:51:56.394Z"
   },
   {
    "duration": 25,
    "start_time": "2023-01-16T01:51:56.443Z"
   },
   {
    "duration": 26,
    "start_time": "2023-01-16T01:51:56.469Z"
   },
   {
    "duration": 44,
    "start_time": "2023-01-16T01:51:56.496Z"
   },
   {
    "duration": 26,
    "start_time": "2023-01-16T01:51:56.542Z"
   },
   {
    "duration": 26,
    "start_time": "2023-01-16T01:51:56.569Z"
   },
   {
    "duration": 53,
    "start_time": "2023-01-16T01:51:56.596Z"
   },
   {
    "duration": 26,
    "start_time": "2023-01-16T01:51:56.651Z"
   },
   {
    "duration": 40,
    "start_time": "2023-01-16T01:51:56.678Z"
   },
   {
    "duration": 28,
    "start_time": "2023-01-16T01:51:56.727Z"
   },
   {
    "duration": 75,
    "start_time": "2023-01-16T01:51:56.757Z"
   },
   {
    "duration": 79,
    "start_time": "2023-01-16T01:51:56.834Z"
   },
   {
    "duration": 19,
    "start_time": "2023-01-16T01:51:56.923Z"
   },
   {
    "duration": 8,
    "start_time": "2023-01-16T01:51:56.944Z"
   },
   {
    "duration": 165,
    "start_time": "2023-01-16T01:51:56.954Z"
   },
   {
    "duration": 25,
    "start_time": "2023-01-16T01:51:57.121Z"
   },
   {
    "duration": 35,
    "start_time": "2023-01-16T01:51:57.149Z"
   },
   {
    "duration": 4,
    "start_time": "2023-01-16T01:51:57.185Z"
   },
   {
    "duration": 81722,
    "start_time": "2023-01-16T01:51:57.191Z"
   },
   {
    "duration": 92,
    "start_time": "2023-01-16T01:53:22.172Z"
   },
   {
    "duration": 126,
    "start_time": "2023-01-16T01:54:07.383Z"
   },
   {
    "duration": 124,
    "start_time": "2023-01-16T01:54:13.305Z"
   },
   {
    "duration": 160,
    "start_time": "2023-01-16T01:55:02.872Z"
   },
   {
    "duration": 605,
    "start_time": "2023-01-16T01:56:48.467Z"
   },
   {
    "duration": 2049,
    "start_time": "2023-01-16T01:57:12.243Z"
   },
   {
    "duration": 1344,
    "start_time": "2023-01-16T01:57:14.295Z"
   },
   {
    "duration": 849,
    "start_time": "2023-01-16T01:57:15.641Z"
   },
   {
    "duration": 144,
    "start_time": "2023-01-16T01:57:16.491Z"
   },
   {
    "duration": 99,
    "start_time": "2023-01-16T01:57:16.637Z"
   },
   {
    "duration": 32,
    "start_time": "2023-01-16T01:57:16.738Z"
   },
   {
    "duration": 12,
    "start_time": "2023-01-16T01:57:16.772Z"
   },
   {
    "duration": 303,
    "start_time": "2023-01-16T01:57:16.785Z"
   },
   {
    "duration": 196,
    "start_time": "2023-01-16T01:57:17.090Z"
   },
   {
    "duration": 44,
    "start_time": "2023-01-16T01:57:17.287Z"
   },
   {
    "duration": 3,
    "start_time": "2023-01-16T01:57:17.333Z"
   },
   {
    "duration": 91,
    "start_time": "2023-01-16T01:57:17.338Z"
   },
   {
    "duration": 30,
    "start_time": "2023-01-16T01:57:17.431Z"
   },
   {
    "duration": 4,
    "start_time": "2023-01-16T01:57:17.464Z"
   },
   {
    "duration": 58,
    "start_time": "2023-01-16T01:57:17.469Z"
   },
   {
    "duration": 4,
    "start_time": "2023-01-16T01:57:17.529Z"
   },
   {
    "duration": 16,
    "start_time": "2023-01-16T01:57:17.535Z"
   },
   {
    "duration": 310,
    "start_time": "2023-01-16T01:57:17.553Z"
   },
   {
    "duration": 201,
    "start_time": "2023-01-16T01:57:17.865Z"
   },
   {
    "duration": 29,
    "start_time": "2023-01-16T01:57:18.067Z"
   },
   {
    "duration": 4,
    "start_time": "2023-01-16T01:57:18.097Z"
   },
   {
    "duration": 29,
    "start_time": "2023-01-16T01:57:18.102Z"
   },
   {
    "duration": 274,
    "start_time": "2023-01-16T01:57:18.133Z"
   },
   {
    "duration": 340,
    "start_time": "2023-01-16T01:57:18.408Z"
   },
   {
    "duration": 10,
    "start_time": "2023-01-16T01:57:18.749Z"
   },
   {
    "duration": 88,
    "start_time": "2023-01-16T01:57:18.761Z"
   },
   {
    "duration": 28,
    "start_time": "2023-01-16T01:57:18.851Z"
   },
   {
    "duration": 15,
    "start_time": "2023-01-16T01:57:18.881Z"
   },
   {
    "duration": 43,
    "start_time": "2023-01-16T01:57:18.897Z"
   },
   {
    "duration": 29,
    "start_time": "2023-01-16T01:57:18.942Z"
   },
   {
    "duration": 14,
    "start_time": "2023-01-16T01:57:18.972Z"
   },
   {
    "duration": 54,
    "start_time": "2023-01-16T01:57:18.988Z"
   },
   {
    "duration": 30,
    "start_time": "2023-01-16T01:57:19.043Z"
   },
   {
    "duration": 58,
    "start_time": "2023-01-16T01:57:19.074Z"
   },
   {
    "duration": 31,
    "start_time": "2023-01-16T01:57:19.134Z"
   },
   {
    "duration": 28,
    "start_time": "2023-01-16T01:57:19.167Z"
   },
   {
    "duration": 44,
    "start_time": "2023-01-16T01:57:19.196Z"
   },
   {
    "duration": 33,
    "start_time": "2023-01-16T01:57:19.241Z"
   },
   {
    "duration": 27,
    "start_time": "2023-01-16T01:57:19.275Z"
   },
   {
    "duration": 44,
    "start_time": "2023-01-16T01:57:19.304Z"
   },
   {
    "duration": 27,
    "start_time": "2023-01-16T01:57:19.352Z"
   },
   {
    "duration": 90,
    "start_time": "2023-01-16T01:57:19.381Z"
   },
   {
    "duration": 86,
    "start_time": "2023-01-16T01:57:19.473Z"
   },
   {
    "duration": 20,
    "start_time": "2023-01-16T01:57:19.560Z"
   },
   {
    "duration": 9,
    "start_time": "2023-01-16T01:57:19.582Z"
   },
   {
    "duration": 172,
    "start_time": "2023-01-16T01:57:19.592Z"
   },
   {
    "duration": 23,
    "start_time": "2023-01-16T01:57:19.766Z"
   },
   {
    "duration": 41,
    "start_time": "2023-01-16T01:57:19.790Z"
   },
   {
    "duration": 4,
    "start_time": "2023-01-16T01:57:19.832Z"
   },
   {
    "duration": 81941,
    "start_time": "2023-01-16T01:57:19.837Z"
   },
   {
    "duration": 87,
    "start_time": "2023-01-16T01:58:41.780Z"
   },
   {
    "duration": 165,
    "start_time": "2023-01-16T01:58:41.868Z"
   },
   {
    "duration": 4,
    "start_time": "2023-01-16T01:59:54.284Z"
   },
   {
    "duration": 117,
    "start_time": "2023-01-16T02:01:33.211Z"
   },
   {
    "duration": 28294,
    "start_time": "2023-01-16T02:01:50.328Z"
   },
   {
    "duration": 2,
    "start_time": "2023-01-16T02:07:28.959Z"
   },
   {
    "duration": 2,
    "start_time": "2023-01-16T02:07:36.978Z"
   },
   {
    "duration": 4,
    "start_time": "2023-01-16T02:07:41.302Z"
   },
   {
    "duration": 3,
    "start_time": "2023-01-16T02:08:00.112Z"
   },
   {
    "duration": 3,
    "start_time": "2023-01-16T02:08:14.560Z"
   },
   {
    "duration": 4,
    "start_time": "2023-01-16T02:08:20.828Z"
   },
   {
    "duration": 32005,
    "start_time": "2023-01-16T02:16:52.610Z"
   },
   {
    "duration": 12123,
    "start_time": "2023-01-16T02:18:04.186Z"
   },
   {
    "duration": 33,
    "start_time": "2023-01-16T02:19:44.092Z"
   },
   {
    "duration": 38,
    "start_time": "2023-01-16T02:20:18.025Z"
   },
   {
    "duration": 34017,
    "start_time": "2023-01-16T02:20:59.603Z"
   },
   {
    "duration": 35538,
    "start_time": "2023-01-16T02:22:19.281Z"
   },
   {
    "duration": 2017,
    "start_time": "2023-01-16T02:39:34.503Z"
   },
   {
    "duration": 1306,
    "start_time": "2023-01-16T02:39:36.522Z"
   },
   {
    "duration": 809,
    "start_time": "2023-01-16T02:39:37.829Z"
   },
   {
    "duration": 140,
    "start_time": "2023-01-16T02:39:38.640Z"
   },
   {
    "duration": 101,
    "start_time": "2023-01-16T02:39:38.782Z"
   },
   {
    "duration": 39,
    "start_time": "2023-01-16T02:39:38.885Z"
   },
   {
    "duration": 11,
    "start_time": "2023-01-16T02:39:38.926Z"
   },
   {
    "duration": 261,
    "start_time": "2023-01-16T02:39:38.939Z"
   },
   {
    "duration": 202,
    "start_time": "2023-01-16T02:39:39.202Z"
   },
   {
    "duration": 39,
    "start_time": "2023-01-16T02:39:39.407Z"
   },
   {
    "duration": 4,
    "start_time": "2023-01-16T02:39:39.448Z"
   },
   {
    "duration": 99,
    "start_time": "2023-01-16T02:39:39.454Z"
   },
   {
    "duration": 33,
    "start_time": "2023-01-16T02:39:39.555Z"
   },
   {
    "duration": 4,
    "start_time": "2023-01-16T02:39:39.590Z"
   },
   {
    "duration": 33,
    "start_time": "2023-01-16T02:39:39.615Z"
   },
   {
    "duration": 4,
    "start_time": "2023-01-16T02:39:39.649Z"
   },
   {
    "duration": 16,
    "start_time": "2023-01-16T02:39:39.655Z"
   },
   {
    "duration": 299,
    "start_time": "2023-01-16T02:39:39.673Z"
   },
   {
    "duration": 194,
    "start_time": "2023-01-16T02:39:39.974Z"
   },
   {
    "duration": 27,
    "start_time": "2023-01-16T02:39:40.170Z"
   },
   {
    "duration": 18,
    "start_time": "2023-01-16T02:39:40.198Z"
   },
   {
    "duration": 12,
    "start_time": "2023-01-16T02:39:40.217Z"
   },
   {
    "duration": 266,
    "start_time": "2023-01-16T02:39:40.231Z"
   },
   {
    "duration": 336,
    "start_time": "2023-01-16T02:39:40.498Z"
   },
   {
    "duration": 11,
    "start_time": "2023-01-16T02:39:40.836Z"
   },
   {
    "duration": 80,
    "start_time": "2023-01-16T02:39:40.849Z"
   },
   {
    "duration": 31,
    "start_time": "2023-01-16T02:39:40.931Z"
   },
   {
    "duration": 16,
    "start_time": "2023-01-16T02:39:40.965Z"
   },
   {
    "duration": 45,
    "start_time": "2023-01-16T02:39:40.982Z"
   },
   {
    "duration": 26,
    "start_time": "2023-01-16T02:39:41.028Z"
   },
   {
    "duration": 16,
    "start_time": "2023-01-16T02:39:41.055Z"
   },
   {
    "duration": 44,
    "start_time": "2023-01-16T02:39:41.072Z"
   },
   {
    "duration": 28,
    "start_time": "2023-01-16T02:39:41.118Z"
   },
   {
    "duration": 30,
    "start_time": "2023-01-16T02:39:41.147Z"
   },
   {
    "duration": 43,
    "start_time": "2023-01-16T02:39:41.178Z"
   },
   {
    "duration": 28,
    "start_time": "2023-01-16T02:39:41.222Z"
   },
   {
    "duration": 26,
    "start_time": "2023-01-16T02:39:41.252Z"
   },
   {
    "duration": 56,
    "start_time": "2023-01-16T02:39:41.280Z"
   },
   {
    "duration": 26,
    "start_time": "2023-01-16T02:39:41.337Z"
   },
   {
    "duration": 25,
    "start_time": "2023-01-16T02:39:41.364Z"
   },
   {
    "duration": 42,
    "start_time": "2023-01-16T02:39:41.390Z"
   },
   {
    "duration": 68,
    "start_time": "2023-01-16T02:39:41.433Z"
   },
   {
    "duration": 85,
    "start_time": "2023-01-16T02:39:41.502Z"
   },
   {
    "duration": 32,
    "start_time": "2023-01-16T02:39:41.589Z"
   },
   {
    "duration": 9,
    "start_time": "2023-01-16T02:39:41.623Z"
   },
   {
    "duration": 146,
    "start_time": "2023-01-16T02:39:41.633Z"
   },
   {
    "duration": 24,
    "start_time": "2023-01-16T02:39:41.781Z"
   },
   {
    "duration": 34,
    "start_time": "2023-01-16T02:39:41.806Z"
   },
   {
    "duration": 4,
    "start_time": "2023-01-16T02:39:41.841Z"
   },
   {
    "duration": 77508,
    "start_time": "2023-01-16T02:39:41.847Z"
   },
   {
    "duration": 89,
    "start_time": "2023-01-16T02:40:59.357Z"
   },
   {
    "duration": 150,
    "start_time": "2023-01-16T02:40:59.447Z"
   },
   {
    "duration": 17020,
    "start_time": "2023-01-16T02:40:59.599Z"
   },
   {
    "duration": 39199,
    "start_time": "2023-01-16T02:41:16.621Z"
   },
   {
    "duration": 32416,
    "start_time": "2023-01-16T02:46:12.002Z"
   },
   {
    "duration": 15973,
    "start_time": "2023-01-16T02:48:50.644Z"
   },
   {
    "duration": 105,
    "start_time": "2023-01-16T02:50:32.742Z"
   },
   {
    "duration": 16873,
    "start_time": "2023-01-16T02:50:47.748Z"
   },
   {
    "duration": 18397,
    "start_time": "2023-01-16T02:52:00.728Z"
   },
   {
    "duration": 16921,
    "start_time": "2023-01-16T02:53:00.504Z"
   },
   {
    "duration": 64282,
    "start_time": "2023-01-16T02:54:41.536Z"
   },
   {
    "duration": 69810,
    "start_time": "2023-01-16T02:59:17.806Z"
   },
   {
    "duration": 73013,
    "start_time": "2023-01-16T03:01:24.103Z"
   },
   {
    "duration": 66743,
    "start_time": "2023-01-16T03:03:47.977Z"
   },
   {
    "duration": 14993,
    "start_time": "2023-01-16T03:07:05.245Z"
   },
   {
    "duration": 72867,
    "start_time": "2023-01-16T03:07:37.750Z"
   },
   {
    "duration": 33751,
    "start_time": "2023-01-16T03:09:06.874Z"
   },
   {
    "duration": 3,
    "start_time": "2023-01-16T03:16:38.368Z"
   },
   {
    "duration": 119667,
    "start_time": "2023-01-16T03:16:40.825Z"
   },
   {
    "duration": 3,
    "start_time": "2023-01-16T03:18:40.493Z"
   },
   {
    "duration": 4356,
    "start_time": "2023-01-16T03:18:40.497Z"
   },
   {
    "duration": 11,
    "start_time": "2023-01-16T03:18:44.855Z"
   },
   {
    "duration": 3,
    "start_time": "2023-01-16T03:20:32.502Z"
   },
   {
    "duration": 3,
    "start_time": "2023-01-16T03:20:41.559Z"
   },
   {
    "duration": 4523,
    "start_time": "2023-01-16T03:20:53.853Z"
   },
   {
    "duration": 4319,
    "start_time": "2023-01-16T03:21:02.635Z"
   },
   {
    "duration": 4,
    "start_time": "2023-01-16T03:25:48.237Z"
   },
   {
    "duration": 53,
    "start_time": "2023-01-16T03:25:49.441Z"
   },
   {
    "duration": 66728,
    "start_time": "2023-01-16T03:26:04.792Z"
   },
   {
    "duration": 4,
    "start_time": "2023-01-16T03:27:11.522Z"
   },
   {
    "duration": 74,
    "start_time": "2023-01-16T03:27:11.528Z"
   },
   {
    "duration": 4,
    "start_time": "2023-01-16T03:27:11.604Z"
   },
   {
    "duration": 4774,
    "start_time": "2023-01-16T03:28:42.744Z"
   },
   {
    "duration": 6,
    "start_time": "2023-01-16T03:28:55.413Z"
   },
   {
    "duration": 11,
    "start_time": "2023-01-16T03:29:06.168Z"
   },
   {
    "duration": 5,
    "start_time": "2023-01-16T03:41:52.248Z"
   },
   {
    "duration": 35112,
    "start_time": "2023-01-16T03:43:06.111Z"
   },
   {
    "duration": 9,
    "start_time": "2023-01-16T03:44:45.582Z"
   },
   {
    "duration": 5,
    "start_time": "2023-01-16T03:45:08.001Z"
   },
   {
    "duration": 3,
    "start_time": "2023-01-16T03:45:13.384Z"
   },
   {
    "duration": 4,
    "start_time": "2023-01-16T03:46:29.735Z"
   },
   {
    "duration": 2143,
    "start_time": "2023-01-16T03:47:11.642Z"
   },
   {
    "duration": 1300,
    "start_time": "2023-01-16T03:47:13.786Z"
   },
   {
    "duration": 796,
    "start_time": "2023-01-16T03:47:15.088Z"
   },
   {
    "duration": 139,
    "start_time": "2023-01-16T03:47:15.886Z"
   },
   {
    "duration": 97,
    "start_time": "2023-01-16T03:47:16.026Z"
   },
   {
    "duration": 34,
    "start_time": "2023-01-16T03:47:16.124Z"
   },
   {
    "duration": 16,
    "start_time": "2023-01-16T03:47:16.159Z"
   },
   {
    "duration": 298,
    "start_time": "2023-01-16T03:47:16.176Z"
   },
   {
    "duration": 199,
    "start_time": "2023-01-16T03:47:16.476Z"
   },
   {
    "duration": 41,
    "start_time": "2023-01-16T03:47:16.677Z"
   },
   {
    "duration": 4,
    "start_time": "2023-01-16T03:47:16.720Z"
   },
   {
    "duration": 76,
    "start_time": "2023-01-16T03:47:16.726Z"
   },
   {
    "duration": 32,
    "start_time": "2023-01-16T03:47:16.816Z"
   },
   {
    "duration": 4,
    "start_time": "2023-01-16T03:47:16.850Z"
   },
   {
    "duration": 34,
    "start_time": "2023-01-16T03:47:16.855Z"
   },
   {
    "duration": 4,
    "start_time": "2023-01-16T03:47:16.891Z"
   },
   {
    "duration": 15,
    "start_time": "2023-01-16T03:47:16.916Z"
   },
   {
    "duration": 292,
    "start_time": "2023-01-16T03:47:16.933Z"
   },
   {
    "duration": 200,
    "start_time": "2023-01-16T03:47:17.227Z"
   },
   {
    "duration": 27,
    "start_time": "2023-01-16T03:47:17.428Z"
   },
   {
    "duration": 4,
    "start_time": "2023-01-16T03:47:17.457Z"
   },
   {
    "duration": 14,
    "start_time": "2023-01-16T03:47:17.462Z"
   },
   {
    "duration": 281,
    "start_time": "2023-01-16T03:47:17.478Z"
   },
   {
    "duration": 363,
    "start_time": "2023-01-16T03:47:17.762Z"
   },
   {
    "duration": 12,
    "start_time": "2023-01-16T03:47:18.126Z"
   },
   {
    "duration": 86,
    "start_time": "2023-01-16T03:47:18.139Z"
   },
   {
    "duration": 30,
    "start_time": "2023-01-16T03:47:18.226Z"
   },
   {
    "duration": 15,
    "start_time": "2023-01-16T03:47:18.259Z"
   },
   {
    "duration": 42,
    "start_time": "2023-01-16T03:47:18.276Z"
   },
   {
    "duration": 187,
    "start_time": "2023-01-16T03:47:18.320Z"
   },
   {
    "duration": 16,
    "start_time": "2023-01-16T03:47:18.509Z"
   },
   {
    "duration": 32,
    "start_time": "2023-01-16T03:47:18.526Z"
   },
   {
    "duration": 30,
    "start_time": "2023-01-16T03:47:18.560Z"
   },
   {
    "duration": 64,
    "start_time": "2023-01-16T03:47:18.592Z"
   },
   {
    "duration": 32,
    "start_time": "2023-01-16T03:47:18.658Z"
   },
   {
    "duration": 47,
    "start_time": "2023-01-16T03:47:18.692Z"
   },
   {
    "duration": 25,
    "start_time": "2023-01-16T03:47:18.741Z"
   },
   {
    "duration": 49,
    "start_time": "2023-01-16T03:47:18.768Z"
   },
   {
    "duration": 28,
    "start_time": "2023-01-16T03:47:18.818Z"
   },
   {
    "duration": 25,
    "start_time": "2023-01-16T03:47:18.848Z"
   },
   {
    "duration": 57,
    "start_time": "2023-01-16T03:47:18.875Z"
   },
   {
    "duration": 70,
    "start_time": "2023-01-16T03:47:18.934Z"
   },
   {
    "duration": 80,
    "start_time": "2023-01-16T03:47:19.016Z"
   },
   {
    "duration": 30,
    "start_time": "2023-01-16T03:47:19.098Z"
   },
   {
    "duration": 18,
    "start_time": "2023-01-16T03:47:19.130Z"
   },
   {
    "duration": 168,
    "start_time": "2023-01-16T03:47:19.150Z"
   },
   {
    "duration": 25,
    "start_time": "2023-01-16T03:47:19.320Z"
   },
   {
    "duration": 369,
    "start_time": "2023-01-16T03:47:34.895Z"
   },
   {
    "duration": 126,
    "start_time": "2023-01-16T03:47:52.274Z"
   },
   {
    "duration": 100,
    "start_time": "2023-01-16T03:48:01.281Z"
   },
   {
    "duration": 114,
    "start_time": "2023-01-16T03:48:14.156Z"
   },
   {
    "duration": 128,
    "start_time": "2023-01-16T03:48:40.593Z"
   },
   {
    "duration": 255,
    "start_time": "2023-01-16T03:48:53.418Z"
   },
   {
    "duration": 4,
    "start_time": "2023-01-16T03:49:42.244Z"
   },
   {
    "duration": 2000,
    "start_time": "2023-01-16T03:51:50.408Z"
   },
   {
    "duration": 1290,
    "start_time": "2023-01-16T03:51:52.411Z"
   },
   {
    "duration": 789,
    "start_time": "2023-01-16T03:51:53.703Z"
   },
   {
    "duration": 132,
    "start_time": "2023-01-16T03:51:54.493Z"
   },
   {
    "duration": 124,
    "start_time": "2023-01-16T03:51:54.626Z"
   },
   {
    "duration": 31,
    "start_time": "2023-01-16T03:51:54.751Z"
   },
   {
    "duration": 14,
    "start_time": "2023-01-16T03:51:54.783Z"
   },
   {
    "duration": 243,
    "start_time": "2023-01-16T03:51:54.799Z"
   },
   {
    "duration": 190,
    "start_time": "2023-01-16T03:51:55.044Z"
   },
   {
    "duration": 36,
    "start_time": "2023-01-16T03:51:55.235Z"
   },
   {
    "duration": 3,
    "start_time": "2023-01-16T03:51:55.273Z"
   },
   {
    "duration": 93,
    "start_time": "2023-01-16T03:51:55.278Z"
   },
   {
    "duration": 48,
    "start_time": "2023-01-16T03:51:55.373Z"
   },
   {
    "duration": 4,
    "start_time": "2023-01-16T03:51:55.423Z"
   },
   {
    "duration": 38,
    "start_time": "2023-01-16T03:51:55.429Z"
   },
   {
    "duration": 4,
    "start_time": "2023-01-16T03:51:55.468Z"
   },
   {
    "duration": 17,
    "start_time": "2023-01-16T03:51:55.474Z"
   },
   {
    "duration": 295,
    "start_time": "2023-01-16T03:51:55.492Z"
   },
   {
    "duration": 191,
    "start_time": "2023-01-16T03:51:55.789Z"
   },
   {
    "duration": 22,
    "start_time": "2023-01-16T03:51:55.982Z"
   },
   {
    "duration": 13,
    "start_time": "2023-01-16T03:51:56.005Z"
   },
   {
    "duration": 15,
    "start_time": "2023-01-16T03:51:56.019Z"
   },
   {
    "duration": 311,
    "start_time": "2023-01-16T03:51:56.036Z"
   },
   {
    "duration": 333,
    "start_time": "2023-01-16T03:51:56.349Z"
   },
   {
    "duration": 10,
    "start_time": "2023-01-16T03:51:56.684Z"
   },
   {
    "duration": 86,
    "start_time": "2023-01-16T03:51:56.696Z"
   },
   {
    "duration": 37,
    "start_time": "2023-01-16T03:51:56.784Z"
   },
   {
    "duration": 16,
    "start_time": "2023-01-16T03:51:56.823Z"
   },
   {
    "duration": 27,
    "start_time": "2023-01-16T03:51:56.840Z"
   },
   {
    "duration": 27,
    "start_time": "2023-01-16T03:51:56.869Z"
   },
   {
    "duration": 31,
    "start_time": "2023-01-16T03:51:56.897Z"
   },
   {
    "duration": 29,
    "start_time": "2023-01-16T03:51:56.929Z"
   },
   {
    "duration": 26,
    "start_time": "2023-01-16T03:51:56.960Z"
   },
   {
    "duration": 45,
    "start_time": "2023-01-16T03:51:56.988Z"
   },
   {
    "duration": 27,
    "start_time": "2023-01-16T03:51:57.035Z"
   },
   {
    "duration": 29,
    "start_time": "2023-01-16T03:51:57.064Z"
   },
   {
    "duration": 43,
    "start_time": "2023-01-16T03:51:57.095Z"
   },
   {
    "duration": 33,
    "start_time": "2023-01-16T03:51:57.140Z"
   },
   {
    "duration": 55,
    "start_time": "2023-01-16T03:51:57.175Z"
   },
   {
    "duration": 26,
    "start_time": "2023-01-16T03:51:57.232Z"
   },
   {
    "duration": 28,
    "start_time": "2023-01-16T03:51:57.261Z"
   },
   {
    "duration": 85,
    "start_time": "2023-01-16T03:51:57.290Z"
   },
   {
    "duration": 74,
    "start_time": "2023-01-16T03:51:57.377Z"
   },
   {
    "duration": 19,
    "start_time": "2023-01-16T03:51:57.452Z"
   },
   {
    "duration": 8,
    "start_time": "2023-01-16T03:51:57.473Z"
   },
   {
    "duration": 165,
    "start_time": "2023-01-16T03:51:57.483Z"
   },
   {
    "duration": 25,
    "start_time": "2023-01-16T03:51:57.649Z"
   },
   {
    "duration": 43,
    "start_time": "2023-01-16T03:51:57.675Z"
   },
   {
    "duration": 3,
    "start_time": "2023-01-16T03:51:57.720Z"
   },
   {
    "duration": 81193,
    "start_time": "2023-01-16T03:51:57.725Z"
   },
   {
    "duration": 97,
    "start_time": "2023-01-16T03:53:18.920Z"
   },
   {
    "duration": 174,
    "start_time": "2023-01-16T03:53:19.018Z"
   },
   {
    "duration": 17925,
    "start_time": "2023-01-16T03:53:19.193Z"
   },
   {
    "duration": 71912,
    "start_time": "2023-01-16T03:53:37.120Z"
   },
   {
    "duration": 5,
    "start_time": "2023-01-16T03:54:49.115Z"
   },
   {
    "duration": 45,
    "start_time": "2023-01-16T04:34:43.380Z"
   },
   {
    "duration": 21,
    "start_time": "2023-01-16T04:34:57.319Z"
   },
   {
    "duration": 100,
    "start_time": "2023-01-16T04:35:07.452Z"
   },
   {
    "duration": 4,
    "start_time": "2023-01-16T04:35:12.624Z"
   },
   {
    "duration": 4,
    "start_time": "2023-01-16T04:35:18.967Z"
   },
   {
    "duration": 4,
    "start_time": "2023-01-16T04:35:25.804Z"
   },
   {
    "duration": 729,
    "start_time": "2023-01-16T04:35:40.336Z"
   },
   {
    "duration": 17,
    "start_time": "2023-01-16T04:35:51.323Z"
   },
   {
    "duration": 34,
    "start_time": "2023-01-16T04:36:38.308Z"
   },
   {
    "duration": 6,
    "start_time": "2023-01-16T04:37:04.870Z"
   },
   {
    "duration": 142,
    "start_time": "2023-01-16T04:37:07.751Z"
   },
   {
    "duration": 167,
    "start_time": "2023-01-16T04:37:30.818Z"
   },
   {
    "duration": 157,
    "start_time": "2023-01-16T04:37:51.334Z"
   },
   {
    "duration": 164,
    "start_time": "2023-01-16T04:37:55.415Z"
   },
   {
    "duration": 154,
    "start_time": "2023-01-16T04:38:28.375Z"
   },
   {
    "duration": 171,
    "start_time": "2023-01-16T04:38:40.410Z"
   },
   {
    "duration": 145,
    "start_time": "2023-01-16T04:39:04.659Z"
   },
   {
    "duration": 50,
    "start_time": "2023-01-16T04:39:11.910Z"
   },
   {
    "duration": 143,
    "start_time": "2023-01-16T04:39:15.174Z"
   },
   {
    "duration": 221,
    "start_time": "2023-01-16T04:39:32.800Z"
   },
   {
    "duration": 103,
    "start_time": "2023-01-16T04:39:36.772Z"
   },
   {
    "duration": 97,
    "start_time": "2023-01-16T04:40:10.634Z"
   },
   {
    "duration": 99,
    "start_time": "2023-01-16T04:40:15.468Z"
   },
   {
    "duration": 112,
    "start_time": "2023-01-16T04:40:25.631Z"
   },
   {
    "duration": 13,
    "start_time": "2023-01-16T04:41:53.268Z"
   },
   {
    "duration": 2037,
    "start_time": "2023-01-16T04:42:17.956Z"
   },
   {
    "duration": 1318,
    "start_time": "2023-01-16T04:42:19.996Z"
   },
   {
    "duration": 789,
    "start_time": "2023-01-16T04:42:21.315Z"
   },
   {
    "duration": 131,
    "start_time": "2023-01-16T04:42:22.107Z"
   },
   {
    "duration": 98,
    "start_time": "2023-01-16T04:42:22.240Z"
   },
   {
    "duration": 29,
    "start_time": "2023-01-16T04:42:22.340Z"
   },
   {
    "duration": 11,
    "start_time": "2023-01-16T04:42:22.370Z"
   },
   {
    "duration": 261,
    "start_time": "2023-01-16T04:42:22.382Z"
   },
   {
    "duration": 195,
    "start_time": "2023-01-16T04:42:22.645Z"
   },
   {
    "duration": 34,
    "start_time": "2023-01-16T04:42:22.842Z"
   },
   {
    "duration": 4,
    "start_time": "2023-01-16T04:42:22.877Z"
   },
   {
    "duration": 94,
    "start_time": "2023-01-16T04:42:22.882Z"
   },
   {
    "duration": 40,
    "start_time": "2023-01-16T04:42:22.978Z"
   },
   {
    "duration": 4,
    "start_time": "2023-01-16T04:42:23.019Z"
   },
   {
    "duration": 43,
    "start_time": "2023-01-16T04:42:23.024Z"
   },
   {
    "duration": 3,
    "start_time": "2023-01-16T04:42:23.069Z"
   },
   {
    "duration": 24,
    "start_time": "2023-01-16T04:42:23.074Z"
   },
   {
    "duration": 23,
    "start_time": "2023-01-16T04:42:23.100Z"
   },
   {
    "duration": 276,
    "start_time": "2023-01-16T04:42:23.124Z"
   },
   {
    "duration": 186,
    "start_time": "2023-01-16T04:42:23.402Z"
   },
   {
    "duration": 30,
    "start_time": "2023-01-16T04:42:23.590Z"
   },
   {
    "duration": 3,
    "start_time": "2023-01-16T04:42:23.622Z"
   },
   {
    "duration": 17,
    "start_time": "2023-01-16T04:42:23.627Z"
   },
   {
    "duration": 252,
    "start_time": "2023-01-16T04:42:23.645Z"
   },
   {
    "duration": 356,
    "start_time": "2023-01-16T04:42:23.899Z"
   },
   {
    "duration": 12,
    "start_time": "2023-01-16T04:42:24.256Z"
   },
   {
    "duration": 79,
    "start_time": "2023-01-16T04:42:24.269Z"
   },
   {
    "duration": 29,
    "start_time": "2023-01-16T04:42:24.352Z"
   },
   {
    "duration": 15,
    "start_time": "2023-01-16T04:42:24.383Z"
   },
   {
    "duration": 25,
    "start_time": "2023-01-16T04:42:24.415Z"
   },
   {
    "duration": 27,
    "start_time": "2023-01-16T04:42:24.441Z"
   },
   {
    "duration": 14,
    "start_time": "2023-01-16T04:42:24.469Z"
   },
   {
    "duration": 48,
    "start_time": "2023-01-16T04:42:24.485Z"
   },
   {
    "duration": 26,
    "start_time": "2023-01-16T04:42:24.535Z"
   },
   {
    "duration": 28,
    "start_time": "2023-01-16T04:42:24.562Z"
   },
   {
    "duration": 42,
    "start_time": "2023-01-16T04:42:24.592Z"
   },
   {
    "duration": 29,
    "start_time": "2023-01-16T04:42:24.635Z"
   },
   {
    "duration": 26,
    "start_time": "2023-01-16T04:42:24.665Z"
   },
   {
    "duration": 47,
    "start_time": "2023-01-16T04:42:24.692Z"
   },
   {
    "duration": 24,
    "start_time": "2023-01-16T04:42:24.741Z"
   },
   {
    "duration": 23,
    "start_time": "2023-01-16T04:42:24.767Z"
   },
   {
    "duration": 47,
    "start_time": "2023-01-16T04:42:24.792Z"
   },
   {
    "duration": 76,
    "start_time": "2023-01-16T04:42:24.840Z"
   },
   {
    "duration": 71,
    "start_time": "2023-01-16T04:42:24.917Z"
   },
   {
    "duration": 32,
    "start_time": "2023-01-16T04:42:24.990Z"
   },
   {
    "duration": 10,
    "start_time": "2023-01-16T04:42:25.023Z"
   },
   {
    "duration": 159,
    "start_time": "2023-01-16T04:42:25.035Z"
   },
   {
    "duration": 32,
    "start_time": "2023-01-16T04:42:25.195Z"
   },
   {
    "duration": 28,
    "start_time": "2023-01-16T04:42:25.228Z"
   },
   {
    "duration": 4,
    "start_time": "2023-01-16T04:42:25.257Z"
   },
   {
    "duration": 68408,
    "start_time": "2023-01-16T04:42:25.262Z"
   },
   {
    "duration": 76,
    "start_time": "2023-01-16T04:43:33.672Z"
   },
   {
    "duration": 147,
    "start_time": "2023-01-16T04:43:33.750Z"
   },
   {
    "duration": 16717,
    "start_time": "2023-01-16T04:43:33.899Z"
   },
   {
    "duration": 67303,
    "start_time": "2023-01-16T04:43:50.618Z"
   },
   {
    "duration": 93,
    "start_time": "2023-01-16T04:44:57.924Z"
   },
   {
    "duration": 120,
    "start_time": "2023-01-16T04:44:58.019Z"
   },
   {
    "duration": 2034,
    "start_time": "2023-01-16T04:46:15.828Z"
   },
   {
    "duration": 1243,
    "start_time": "2023-01-16T04:46:17.864Z"
   },
   {
    "duration": 780,
    "start_time": "2023-01-16T04:46:19.108Z"
   },
   {
    "duration": 134,
    "start_time": "2023-01-16T04:46:19.890Z"
   },
   {
    "duration": 99,
    "start_time": "2023-01-16T04:46:20.026Z"
   },
   {
    "duration": 34,
    "start_time": "2023-01-16T04:46:20.126Z"
   },
   {
    "duration": 18,
    "start_time": "2023-01-16T04:46:20.161Z"
   },
   {
    "duration": 255,
    "start_time": "2023-01-16T04:46:20.181Z"
   },
   {
    "duration": 195,
    "start_time": "2023-01-16T04:46:20.438Z"
   },
   {
    "duration": 35,
    "start_time": "2023-01-16T04:46:20.635Z"
   },
   {
    "duration": 4,
    "start_time": "2023-01-16T04:46:20.672Z"
   },
   {
    "duration": 119,
    "start_time": "2023-01-16T04:46:48.069Z"
   },
   {
    "duration": 10,
    "start_time": "2023-01-16T04:47:12.357Z"
   },
   {
    "duration": 99,
    "start_time": "2023-01-16T04:47:28.744Z"
   },
   {
    "duration": 81,
    "start_time": "2023-01-16T04:48:23.193Z"
   },
   {
    "duration": 32,
    "start_time": "2023-01-16T04:48:24.830Z"
   },
   {
    "duration": 4,
    "start_time": "2023-01-16T04:48:26.170Z"
   },
   {
    "duration": 104,
    "start_time": "2023-01-16T04:48:27.908Z"
   },
   {
    "duration": 103,
    "start_time": "2023-01-16T04:51:23.119Z"
   },
   {
    "duration": 174,
    "start_time": "2023-01-16T04:51:35.379Z"
   },
   {
    "duration": 98,
    "start_time": "2023-01-16T04:52:17.181Z"
   },
   {
    "duration": 106,
    "start_time": "2023-01-16T04:53:27.751Z"
   },
   {
    "duration": 102,
    "start_time": "2023-01-16T04:53:43.439Z"
   },
   {
    "duration": 105,
    "start_time": "2023-01-16T04:53:59.924Z"
   },
   {
    "duration": 108,
    "start_time": "2023-01-16T04:55:28.160Z"
   },
   {
    "duration": 104,
    "start_time": "2023-01-16T04:55:48.331Z"
   },
   {
    "duration": 99,
    "start_time": "2023-01-16T04:56:08.376Z"
   },
   {
    "duration": 108,
    "start_time": "2023-01-16T04:58:51.300Z"
   },
   {
    "duration": 112,
    "start_time": "2023-01-16T04:59:08.247Z"
   },
   {
    "duration": 110,
    "start_time": "2023-01-16T04:59:20.037Z"
   },
   {
    "duration": 106,
    "start_time": "2023-01-16T04:59:25.891Z"
   },
   {
    "duration": 126,
    "start_time": "2023-01-16T04:59:59.970Z"
   },
   {
    "duration": 2225,
    "start_time": "2023-01-16T05:04:24.022Z"
   },
   {
    "duration": 5,
    "start_time": "2023-01-16T05:04:26.251Z"
   },
   {
    "duration": 783,
    "start_time": "2023-01-16T05:04:26.258Z"
   },
   {
    "duration": 136,
    "start_time": "2023-01-16T05:04:27.043Z"
   },
   {
    "duration": 96,
    "start_time": "2023-01-16T05:04:27.181Z"
   },
   {
    "duration": 25,
    "start_time": "2023-01-16T05:04:27.278Z"
   },
   {
    "duration": 12,
    "start_time": "2023-01-16T05:04:27.314Z"
   },
   {
    "duration": 209,
    "start_time": "2023-01-16T05:04:27.327Z"
   },
   {
    "duration": 185,
    "start_time": "2023-01-16T05:04:27.537Z"
   },
   {
    "duration": 28,
    "start_time": "2023-01-16T05:04:27.725Z"
   },
   {
    "duration": 4,
    "start_time": "2023-01-16T05:04:27.755Z"
   },
   {
    "duration": 94,
    "start_time": "2023-01-16T05:04:27.760Z"
   },
   {
    "duration": 32,
    "start_time": "2023-01-16T05:04:27.856Z"
   },
   {
    "duration": 4,
    "start_time": "2023-01-16T05:04:27.889Z"
   },
   {
    "duration": 256,
    "start_time": "2023-01-16T05:04:27.894Z"
   },
   {
    "duration": 4,
    "start_time": "2023-01-16T05:04:28.151Z"
   },
   {
    "duration": 22,
    "start_time": "2023-01-16T05:04:28.156Z"
   },
   {
    "duration": 280,
    "start_time": "2023-01-16T05:04:28.180Z"
   },
   {
    "duration": 194,
    "start_time": "2023-01-16T05:04:28.462Z"
   },
   {
    "duration": 22,
    "start_time": "2023-01-16T05:04:28.658Z"
   },
   {
    "duration": 3,
    "start_time": "2023-01-16T05:04:28.681Z"
   },
   {
    "duration": 30,
    "start_time": "2023-01-16T05:04:28.686Z"
   },
   {
    "duration": 175,
    "start_time": "2023-01-16T05:04:28.717Z"
   },
   {
    "duration": 340,
    "start_time": "2023-01-16T05:04:28.894Z"
   },
   {
    "duration": 11,
    "start_time": "2023-01-16T05:04:29.235Z"
   },
   {
    "duration": 79,
    "start_time": "2023-01-16T05:04:29.248Z"
   },
   {
    "duration": 33,
    "start_time": "2023-01-16T05:04:29.329Z"
   },
   {
    "duration": 15,
    "start_time": "2023-01-16T05:04:29.365Z"
   },
   {
    "duration": 37,
    "start_time": "2023-01-16T05:04:29.381Z"
   },
   {
    "duration": 41,
    "start_time": "2023-01-16T05:04:29.420Z"
   },
   {
    "duration": 18,
    "start_time": "2023-01-16T05:04:29.462Z"
   },
   {
    "duration": 59,
    "start_time": "2023-01-16T05:04:29.482Z"
   },
   {
    "duration": 26,
    "start_time": "2023-01-16T05:04:29.543Z"
   },
   {
    "duration": 54,
    "start_time": "2023-01-16T05:04:29.570Z"
   },
   {
    "duration": 27,
    "start_time": "2023-01-16T05:04:29.625Z"
   },
   {
    "duration": 46,
    "start_time": "2023-01-16T05:04:29.653Z"
   },
   {
    "duration": 28,
    "start_time": "2023-01-16T05:04:29.701Z"
   },
   {
    "duration": 32,
    "start_time": "2023-01-16T05:04:29.730Z"
   },
   {
    "duration": 25,
    "start_time": "2023-01-16T05:04:29.764Z"
   },
   {
    "duration": 33,
    "start_time": "2023-01-16T05:04:29.790Z"
   },
   {
    "duration": 33,
    "start_time": "2023-01-16T05:04:29.825Z"
   },
   {
    "duration": 66,
    "start_time": "2023-01-16T05:04:29.859Z"
   },
   {
    "duration": 73,
    "start_time": "2023-01-16T05:04:29.926Z"
   },
   {
    "duration": 39,
    "start_time": "2023-01-16T05:04:30.000Z"
   },
   {
    "duration": 23,
    "start_time": "2023-01-16T05:04:30.040Z"
   },
   {
    "duration": 159,
    "start_time": "2023-01-16T05:04:30.065Z"
   },
   {
    "duration": 23,
    "start_time": "2023-01-16T05:04:30.226Z"
   },
   {
    "duration": 27,
    "start_time": "2023-01-16T05:04:30.250Z"
   },
   {
    "duration": 7,
    "start_time": "2023-01-16T05:04:30.278Z"
   },
   {
    "duration": 2018,
    "start_time": "2023-01-16T05:07:26.824Z"
   },
   {
    "duration": 1355,
    "start_time": "2023-01-16T05:07:28.844Z"
   },
   {
    "duration": 1116,
    "start_time": "2023-01-16T05:07:30.200Z"
   },
   {
    "duration": 131,
    "start_time": "2023-01-16T05:07:31.318Z"
   },
   {
    "duration": 97,
    "start_time": "2023-01-16T05:07:31.451Z"
   },
   {
    "duration": 36,
    "start_time": "2023-01-16T05:07:31.550Z"
   },
   {
    "duration": 16,
    "start_time": "2023-01-16T05:07:31.588Z"
   },
   {
    "duration": 260,
    "start_time": "2023-01-16T05:07:31.616Z"
   },
   {
    "duration": 186,
    "start_time": "2023-01-16T05:07:31.878Z"
   },
   {
    "duration": 37,
    "start_time": "2023-01-16T05:07:32.066Z"
   },
   {
    "duration": 12,
    "start_time": "2023-01-16T05:07:32.105Z"
   },
   {
    "duration": 86,
    "start_time": "2023-01-16T05:07:32.119Z"
   },
   {
    "duration": 35,
    "start_time": "2023-01-16T05:07:32.207Z"
   },
   {
    "duration": 4,
    "start_time": "2023-01-16T05:07:32.243Z"
   },
   {
    "duration": 141,
    "start_time": "2023-01-16T05:07:32.248Z"
   },
   {
    "duration": 4,
    "start_time": "2023-01-16T05:07:32.391Z"
   },
   {
    "duration": 29,
    "start_time": "2023-01-16T05:07:32.396Z"
   },
   {
    "duration": 299,
    "start_time": "2023-01-16T05:07:32.426Z"
   },
   {
    "duration": 192,
    "start_time": "2023-01-16T05:07:32.727Z"
   },
   {
    "duration": 28,
    "start_time": "2023-01-16T05:07:32.921Z"
   },
   {
    "duration": 4,
    "start_time": "2023-01-16T05:07:32.950Z"
   },
   {
    "duration": 17,
    "start_time": "2023-01-16T05:07:32.956Z"
   },
   {
    "duration": 273,
    "start_time": "2023-01-16T05:07:32.974Z"
   },
   {
    "duration": 325,
    "start_time": "2023-01-16T05:07:33.248Z"
   },
   {
    "duration": 10,
    "start_time": "2023-01-16T05:07:33.574Z"
   },
   {
    "duration": 80,
    "start_time": "2023-01-16T05:07:33.586Z"
   },
   {
    "duration": 29,
    "start_time": "2023-01-16T05:07:33.668Z"
   },
   {
    "duration": 28,
    "start_time": "2023-01-16T05:07:33.700Z"
   },
   {
    "duration": 26,
    "start_time": "2023-01-16T05:07:33.729Z"
   },
   {
    "duration": 27,
    "start_time": "2023-01-16T05:07:33.756Z"
   },
   {
    "duration": 32,
    "start_time": "2023-01-16T05:07:33.784Z"
   },
   {
    "duration": 28,
    "start_time": "2023-01-16T05:07:33.818Z"
   },
   {
    "duration": 26,
    "start_time": "2023-01-16T05:07:33.847Z"
   },
   {
    "duration": 46,
    "start_time": "2023-01-16T05:07:33.874Z"
   },
   {
    "duration": 25,
    "start_time": "2023-01-16T05:07:33.921Z"
   },
   {
    "duration": 29,
    "start_time": "2023-01-16T05:07:33.948Z"
   },
   {
    "duration": 40,
    "start_time": "2023-01-16T05:07:33.979Z"
   },
   {
    "duration": 31,
    "start_time": "2023-01-16T05:07:34.020Z"
   },
   {
    "duration": 31,
    "start_time": "2023-01-16T05:07:34.052Z"
   },
   {
    "duration": 42,
    "start_time": "2023-01-16T05:07:34.085Z"
   },
   {
    "duration": 27,
    "start_time": "2023-01-16T05:07:34.129Z"
   },
   {
    "duration": 80,
    "start_time": "2023-01-16T05:07:34.157Z"
   },
   {
    "duration": 86,
    "start_time": "2023-01-16T05:07:34.238Z"
   },
   {
    "duration": 19,
    "start_time": "2023-01-16T05:07:34.325Z"
   },
   {
    "duration": 9,
    "start_time": "2023-01-16T05:07:34.346Z"
   },
   {
    "duration": 151,
    "start_time": "2023-01-16T05:07:34.357Z"
   },
   {
    "duration": 24,
    "start_time": "2023-01-16T05:07:34.510Z"
   },
   {
    "duration": 29,
    "start_time": "2023-01-16T05:07:34.535Z"
   },
   {
    "duration": 5,
    "start_time": "2023-01-16T05:07:34.565Z"
   },
   {
    "duration": 69692,
    "start_time": "2023-01-16T05:07:34.571Z"
   },
   {
    "duration": 100,
    "start_time": "2023-01-16T05:08:44.265Z"
   },
   {
    "duration": 166,
    "start_time": "2023-01-16T05:08:44.367Z"
   },
   {
    "duration": 16387,
    "start_time": "2023-01-16T05:08:44.534Z"
   },
   {
    "duration": 64596,
    "start_time": "2023-01-16T05:09:00.923Z"
   },
   {
    "duration": 97,
    "start_time": "2023-01-16T05:10:05.521Z"
   },
   {
    "duration": 4,
    "start_time": "2023-01-16T05:15:30.631Z"
   },
   {
    "duration": 116720,
    "start_time": "2023-01-16T05:16:06.433Z"
   },
   {
    "duration": 3,
    "start_time": "2023-01-16T05:18:03.155Z"
   },
   {
    "duration": 19,
    "start_time": "2023-01-16T05:18:03.159Z"
   },
   {
    "duration": 4227,
    "start_time": "2023-01-16T05:19:24.712Z"
   },
   {
    "duration": 3,
    "start_time": "2023-01-16T05:19:31.552Z"
   },
   {
    "duration": 105,
    "start_time": "2023-01-16T05:20:52.182Z"
   },
   {
    "duration": 5,
    "start_time": "2023-01-16T05:21:07.331Z"
   },
   {
    "duration": 50,
    "start_time": "2023-01-16T05:21:12.242Z"
   },
   {
    "duration": 9,
    "start_time": "2023-01-16T05:21:16.980Z"
   },
   {
    "duration": 9,
    "start_time": "2023-01-16T05:21:30.960Z"
   },
   {
    "duration": 2,
    "start_time": "2023-01-16T05:21:42.367Z"
   },
   {
    "duration": 3,
    "start_time": "2023-01-16T05:21:49.904Z"
   },
   {
    "duration": 4,
    "start_time": "2023-01-16T05:21:54.989Z"
   },
   {
    "duration": 7,
    "start_time": "2023-01-16T05:22:00.653Z"
   },
   {
    "duration": 17,
    "start_time": "2023-01-16T05:22:03.581Z"
   },
   {
    "duration": 3,
    "start_time": "2023-01-16T05:22:18.149Z"
   },
   {
    "duration": 114414,
    "start_time": "2023-01-16T05:22:20.919Z"
   },
   {
    "duration": 3,
    "start_time": "2023-01-16T05:24:15.334Z"
   },
   {
    "duration": 18,
    "start_time": "2023-01-16T05:24:21.045Z"
   },
   {
    "duration": 6,
    "start_time": "2023-01-16T05:24:40.998Z"
   },
   {
    "duration": 81,
    "start_time": "2023-01-16T05:24:56.709Z"
   },
   {
    "duration": 1784,
    "start_time": "2023-01-16T05:25:01.587Z"
   },
   {
    "duration": 16,
    "start_time": "2023-01-16T05:25:10.857Z"
   },
   {
    "duration": 51,
    "start_time": "2023-01-16T05:25:49.136Z"
   },
   {
    "duration": 15,
    "start_time": "2023-01-16T05:25:56.021Z"
   },
   {
    "duration": 10,
    "start_time": "2023-01-16T05:27:01.806Z"
   },
   {
    "duration": 8,
    "start_time": "2023-01-16T05:27:36.802Z"
   },
   {
    "duration": 7,
    "start_time": "2023-01-16T05:27:45.313Z"
   },
   {
    "duration": 12,
    "start_time": "2023-01-16T05:28:05.322Z"
   },
   {
    "duration": 13,
    "start_time": "2023-01-16T05:28:21.045Z"
   },
   {
    "duration": 11,
    "start_time": "2023-01-16T05:28:44.496Z"
   },
   {
    "duration": 706,
    "start_time": "2023-01-16T05:29:52.817Z"
   },
   {
    "duration": 772,
    "start_time": "2023-01-16T05:30:14.120Z"
   },
   {
    "duration": 9,
    "start_time": "2023-01-16T05:30:25.333Z"
   },
   {
    "duration": 10,
    "start_time": "2023-01-16T05:31:06.148Z"
   },
   {
    "duration": 17,
    "start_time": "2023-01-16T05:32:36.283Z"
   },
   {
    "duration": 8,
    "start_time": "2023-01-16T05:32:42.531Z"
   },
   {
    "duration": 15,
    "start_time": "2023-01-16T05:32:48.345Z"
   },
   {
    "duration": 5,
    "start_time": "2023-01-16T05:32:50.741Z"
   },
   {
    "duration": 5,
    "start_time": "2023-01-16T05:32:57.756Z"
   },
   {
    "duration": 8,
    "start_time": "2023-01-16T05:33:09.743Z"
   },
   {
    "duration": 8,
    "start_time": "2023-01-16T05:33:16.876Z"
   },
   {
    "duration": 7,
    "start_time": "2023-01-16T05:33:25.827Z"
   },
   {
    "duration": 7,
    "start_time": "2023-01-16T05:33:33.066Z"
   },
   {
    "duration": 7,
    "start_time": "2023-01-16T05:34:14.040Z"
   },
   {
    "duration": 8,
    "start_time": "2023-01-16T05:34:37.894Z"
   },
   {
    "duration": 55,
    "start_time": "2023-01-16T05:34:45.638Z"
   },
   {
    "duration": 7,
    "start_time": "2023-01-16T05:34:50.483Z"
   },
   {
    "duration": 7,
    "start_time": "2023-01-16T05:37:14.972Z"
   },
   {
    "duration": 4,
    "start_time": "2023-01-16T05:37:24.003Z"
   },
   {
    "duration": 56039,
    "start_time": "2023-01-16T05:37:29.782Z"
   },
   {
    "duration": 2,
    "start_time": "2023-01-16T05:38:25.823Z"
   },
   {
    "duration": 12,
    "start_time": "2023-01-16T05:38:25.826Z"
   },
   {
    "duration": 9,
    "start_time": "2023-01-16T05:43:12.180Z"
   },
   {
    "duration": 284,
    "start_time": "2023-01-16T05:43:24.186Z"
   },
   {
    "duration": 52,
    "start_time": "2023-01-16T05:50:51.041Z"
   },
   {
    "duration": 4400,
    "start_time": "2023-01-16T05:51:04.479Z"
   },
   {
    "duration": 201,
    "start_time": "2023-01-16T05:52:04.743Z"
   },
   {
    "duration": 3,
    "start_time": "2023-01-16T05:53:23.828Z"
   },
   {
    "duration": 4,
    "start_time": "2023-01-16T05:54:10.482Z"
   },
   {
    "duration": 4,
    "start_time": "2023-01-16T06:15:55.807Z"
   },
   {
    "duration": 10548355,
    "start_time": "2023-01-16T06:15:59.671Z"
   },
   {
    "duration": 2,
    "start_time": "2023-01-16T09:11:48.028Z"
   },
   {
    "duration": 11,
    "start_time": "2023-01-16T09:11:48.032Z"
   },
   {
    "duration": 2093,
    "start_time": "2023-01-16T09:33:00.901Z"
   },
   {
    "duration": 1336,
    "start_time": "2023-01-16T09:33:02.996Z"
   },
   {
    "duration": 805,
    "start_time": "2023-01-16T09:33:04.335Z"
   },
   {
    "duration": 140,
    "start_time": "2023-01-16T09:33:05.142Z"
   },
   {
    "duration": 105,
    "start_time": "2023-01-16T09:33:05.283Z"
   },
   {
    "duration": 42,
    "start_time": "2023-01-16T09:33:05.390Z"
   },
   {
    "duration": 11,
    "start_time": "2023-01-16T09:33:05.433Z"
   },
   {
    "duration": 247,
    "start_time": "2023-01-16T09:33:05.446Z"
   },
   {
    "duration": 202,
    "start_time": "2023-01-16T09:33:05.695Z"
   },
   {
    "duration": 44,
    "start_time": "2023-01-16T09:33:05.901Z"
   },
   {
    "duration": 4,
    "start_time": "2023-01-16T09:33:05.947Z"
   },
   {
    "duration": 89,
    "start_time": "2023-01-16T09:33:05.953Z"
   },
   {
    "duration": 35,
    "start_time": "2023-01-16T09:33:06.044Z"
   },
   {
    "duration": 4,
    "start_time": "2023-01-16T09:33:06.081Z"
   },
   {
    "duration": 165,
    "start_time": "2023-01-16T09:33:06.086Z"
   },
   {
    "duration": 4,
    "start_time": "2023-01-16T09:33:06.252Z"
   },
   {
    "duration": 23,
    "start_time": "2023-01-16T09:33:06.258Z"
   },
   {
    "duration": 341,
    "start_time": "2023-01-16T09:33:06.282Z"
   },
   {
    "duration": 183,
    "start_time": "2023-01-16T09:33:06.624Z"
   },
   {
    "duration": 27,
    "start_time": "2023-01-16T09:33:06.809Z"
   },
   {
    "duration": 3,
    "start_time": "2023-01-16T09:33:06.838Z"
   },
   {
    "duration": 14,
    "start_time": "2023-01-16T09:33:06.843Z"
   },
   {
    "duration": 264,
    "start_time": "2023-01-16T09:33:06.858Z"
   },
   {
    "duration": 341,
    "start_time": "2023-01-16T09:33:07.124Z"
   },
   {
    "duration": 10,
    "start_time": "2023-01-16T09:33:07.467Z"
   },
   {
    "duration": 78,
    "start_time": "2023-01-16T09:33:07.478Z"
   },
   {
    "duration": 31,
    "start_time": "2023-01-16T09:33:07.557Z"
   },
   {
    "duration": 30,
    "start_time": "2023-01-16T09:33:07.592Z"
   },
   {
    "duration": 27,
    "start_time": "2023-01-16T09:33:07.623Z"
   },
   {
    "duration": 33,
    "start_time": "2023-01-16T09:33:07.651Z"
   },
   {
    "duration": 33,
    "start_time": "2023-01-16T09:33:07.685Z"
   },
   {
    "duration": 34,
    "start_time": "2023-01-16T09:33:07.719Z"
   },
   {
    "duration": 27,
    "start_time": "2023-01-16T09:33:07.754Z"
   },
   {
    "duration": 47,
    "start_time": "2023-01-16T09:33:07.782Z"
   },
   {
    "duration": 29,
    "start_time": "2023-01-16T09:33:07.831Z"
   },
   {
    "duration": 36,
    "start_time": "2023-01-16T09:33:07.862Z"
   },
   {
    "duration": 35,
    "start_time": "2023-01-16T09:33:07.900Z"
   },
   {
    "duration": 32,
    "start_time": "2023-01-16T09:33:07.937Z"
   },
   {
    "duration": 26,
    "start_time": "2023-01-16T09:33:07.971Z"
   },
   {
    "duration": 25,
    "start_time": "2023-01-16T09:33:08.016Z"
   },
   {
    "duration": 29,
    "start_time": "2023-01-16T09:33:08.043Z"
   },
   {
    "duration": 87,
    "start_time": "2023-01-16T09:33:08.074Z"
   },
   {
    "duration": 84,
    "start_time": "2023-01-16T09:33:08.163Z"
   },
   {
    "duration": 21,
    "start_time": "2023-01-16T09:33:08.249Z"
   },
   {
    "duration": 17,
    "start_time": "2023-01-16T09:33:08.272Z"
   },
   {
    "duration": 169,
    "start_time": "2023-01-16T09:33:08.291Z"
   },
   {
    "duration": 24,
    "start_time": "2023-01-16T09:33:08.463Z"
   },
   {
    "duration": 46,
    "start_time": "2023-01-16T09:33:08.488Z"
   },
   {
    "duration": 5,
    "start_time": "2023-01-16T09:33:08.536Z"
   },
   {
    "duration": 73638,
    "start_time": "2023-01-16T09:33:08.542Z"
   },
   {
    "duration": 79,
    "start_time": "2023-01-16T09:34:22.182Z"
   },
   {
    "duration": 163,
    "start_time": "2023-01-16T09:34:22.263Z"
   },
   {
    "duration": 17189,
    "start_time": "2023-01-16T09:34:22.427Z"
   },
   {
    "duration": 78903,
    "start_time": "2023-01-16T09:34:39.618Z"
   },
   {
    "duration": 94,
    "start_time": "2023-01-16T09:35:58.523Z"
   },
   {
    "duration": 6,
    "start_time": "2023-01-16T09:35:58.620Z"
   },
   {
    "duration": 117047,
    "start_time": "2023-01-16T09:35:58.628Z"
   },
   {
    "duration": 2,
    "start_time": "2023-01-16T09:37:55.677Z"
   },
   {
    "duration": 11,
    "start_time": "2023-01-16T09:37:55.680Z"
   },
   {
    "duration": 4,
    "start_time": "2023-01-16T09:37:55.693Z"
   },
   {
    "duration": 67118,
    "start_time": "2023-01-16T09:37:55.698Z"
   },
   {
    "duration": 3,
    "start_time": "2023-01-16T09:39:02.818Z"
   },
   {
    "duration": 10,
    "start_time": "2023-01-16T09:39:02.822Z"
   },
   {
    "duration": 9,
    "start_time": "2023-01-16T09:39:02.834Z"
   },
   {
    "duration": 321,
    "start_time": "2023-01-16T09:39:02.845Z"
   },
   {
    "duration": 4347,
    "start_time": "2023-01-16T09:39:03.167Z"
   },
   {
    "duration": 212,
    "start_time": "2023-01-16T09:39:07.516Z"
   },
   {
    "duration": 4,
    "start_time": "2023-01-16T09:39:07.730Z"
   },
   {
    "duration": 9,
    "start_time": "2023-01-16T09:42:55.753Z"
   },
   {
    "duration": 305,
    "start_time": "2023-01-16T09:42:59.499Z"
   },
   {
    "duration": 4481,
    "start_time": "2023-01-16T09:44:18.854Z"
   },
   {
    "duration": 70,
    "start_time": "2023-01-16T09:44:25.941Z"
   },
   {
    "duration": 4,
    "start_time": "2023-01-16T09:44:28.601Z"
   }
  ],
  "kernelspec": {
   "display_name": "Python 3 (ipykernel)",
   "language": "python",
   "name": "python3"
  },
  "language_info": {
   "codemirror_mode": {
    "name": "ipython",
    "version": 3
   },
   "file_extension": ".py",
   "mimetype": "text/x-python",
   "name": "python",
   "nbconvert_exporter": "python",
   "pygments_lexer": "ipython3",
   "version": "3.9.13"
  },
  "toc": {
   "base_numbering": 1,
   "nav_menu": {},
   "number_sections": true,
   "sideBar": true,
   "skip_h1_title": true,
   "title_cell": "Table of Contents",
   "title_sidebar": "Contents",
   "toc_cell": false,
   "toc_position": {
    "height": "calc(100% - 180px)",
    "left": "10px",
    "top": "150px",
    "width": "312.131px"
   },
   "toc_section_display": true,
   "toc_window_display": true
  }
 },
 "nbformat": 4,
 "nbformat_minor": 2
}
